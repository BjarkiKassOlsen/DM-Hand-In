{
 "cells": [
  {
   "attachments": {},
   "cell_type": "markdown",
   "id": "northern-trash",
   "metadata": {},
   "source": [
    "# Data Mining - Handin 2 - Graph mining\n",
    "\n",
    "This handin corresponds to the topics in Week 10-15 in the course.\n",
    "\n",
    "The handin is \n",
    "* done in the chosen handin groups\n",
    "* worth 10% of the grade\n",
    "\n",
    "For the handin, you will prepare a report in PDF format, by exporting the Jupyter notebook. \n",
    "Please submit\n",
    "1. The jupyter notebook file with your answers\n",
    "2. The PDF obtained by exporting the jupyter notebook\n",
    "\n",
    "Submit both files on Brightspace no later than **April 21 kl. 11.59PM**.\n",
    "\n",
    "**The grading system**: Tasks are assigned a number of points based on the difficulty and time to solve it. The sum of\n",
    "the number of points is **100**. For the maximum grade you need to get at least _80 points_. The minimum grade (02 in the Danish scale)\n",
    "requires **at least** 30 points, with at least 8 points on of the first three Parts (Part 1,2,3) and 6 points in the last part (Part 4).\n",
    "Good luck!\n",
    "\n",
    "**The exercise types**: There are three different types of exercises\n",
    "1. <span style='color: green'>**\\[Compute by hand\\]**</span> means that you should provide **NO code**, but show the main steps to reach the result (not all).  \n",
    "2. <span style='color: green'>**\\[Motivate\\]**</span> means to provide a short answer of 1-2 lines indicating the main reasoning, e.g., the PageRank of a complete graph is 1/n in all nodes as all nodes are symmetric and are connected one another.\n",
    "3. <span style='color: green'>**\\[Describe\\]**</span> means to provide a potentially longer answer of 1-5 lines indicating the analysis of the data and the results. \n",
    "4. <span style='color: green'>**\\[Prove\\]**</span> means to provide a formal argument and NO code. \n",
    "5. <span style='color: green'>**\\[Implement\\]**</span> means to provide an implementation. Unless otherwise specified, you are allowed to use helper functions (e.g., ```np.mean```, ```itertools.combinations```, and so on). However, if the task is to implement an algorithm, by no means a call to a library that implements the same algorithm will be deemed as sufficient! "
   ]
  },
  {
   "cell_type": "code",
   "execution_count": 1,
   "id": "subsequent-qatar",
   "metadata": {},
   "outputs": [
    {
     "name": "stdout",
     "output_type": "stream",
     "text": [
      "d:\\Documents\\AU\\Kandidat\\2. Semester\\Data Mining\\DM-Hand-In\\handins\n"
     ]
    }
   ],
   "source": [
    "### BEGIN IMPORTS - DO NOT TOUCH!\n",
    "import os\n",
    "os.environ[\"KMP_DUPLICATE_LIB_OK\"]=\"TRUE\"\n",
    "import sys\n",
    "sys.path.append('..')\n",
    "#!{sys.executable} -m pip install matplotlib\n",
    "#!{sys.executable} -m pip install networkx\n",
    "#!{sys.executable} -m pip install torchvision\n",
    "import random\n",
    "import scipy.io as sio\n",
    "import time\n",
    "\n",
    "import networkx as nx\n",
    "import numpy as np\n",
    "%matplotlib inline\n",
    "import matplotlib.pyplot as plt\n",
    "\n",
    "import csv\n",
    "from itertools import count\n",
    "\n",
    "\n",
    "import torch\n",
    "import torch.optim\n",
    "import torch.nn as nn\n",
    "import torch.nn.functional as F\n",
    "import torchvision\n",
    "import torchvision.transforms as transforms\n",
    "\n",
    "\n",
    "from utilities.load_data import load_mnist\n",
    "import utilities.email as email\n",
    "from utilities.mnist import *\n",
    "\n",
    "from utilities.make_graphs import read_edge_list, read_list, load_data\n",
    "\n",
    "### END IMPORTS - DO NOT TOUCH!"
   ]
  },
  {
   "attachments": {},
   "cell_type": "markdown",
   "id": "defensive-sauce",
   "metadata": {},
   "source": [
    "## Task 1.1 Random walks and PageRank  (12 points)\n",
    "\n",
    "In this exercise recall that the PageRank is defined as \n",
    "\n",
    "$$\\mathbf{r} = \\alpha \\mathbf{Mr} + (1-\\alpha)\\mathbf{p}$$ \n",
    "\n",
    "where $\\mathbf{r}\\in \\mathbb{R}^n$ is the PageRank vector, $\\alpha$ is the restart probability, $\\mathbf{M} = A\\Delta^{-1}$, and $\\mathbf{p}$ is the restart (or personalization) vector. "
   ]
  },
  {
   "attachments": {},
   "cell_type": "markdown",
   "id": "realistic-africa",
   "metadata": {},
   "source": [
    "**************************************\n",
    "### Task 1.1.1 (4 points)\n",
    "What is the PageRank of a **$d$-regular** graph with $n$ nodes and $\\alpha=1$? \n",
    "\n",
    "<span style='color: green'>**\\[Motivate\\]**</span> your answer without showing the exact computation.\n"
   ]
  },
  {
   "attachments": {},
   "cell_type": "markdown",
   "id": "direct-cathedral",
   "metadata": {},
   "source": [
    "*************************************\n",
    "**Answer:**\n",
    "\n",
    "As we have that $\\alpha = 1$, we get that $r = Mr$. Therefore we can find the PageRank of the graph by finding its eigenvector corresponding the the eigenvalue of 1. As we have a $d$-regular graph, we will notice that all nodes become symmetrical. And therefore, we will find that the eigenvector will be the same for all nodes. This means that the PageRank of all nodes will be the same. And as we have $n$ nodes, we will find that the PageRank of all nodes will be $1/n$.\n",
    "\n",
    "*************************************"
   ]
  },
  {
   "attachments": {},
   "cell_type": "markdown",
   "id": "italian-sierra",
   "metadata": {},
   "source": [
    "### Task 1.1.2 (6 points)\n",
    "Look at the graph below (run the code) and try make a guess about the PageRank values of each node only by reasoning on the graph's connections."
   ]
  },
  {
   "cell_type": "code",
   "execution_count": 2,
   "id": "efficient-bunny",
   "metadata": {},
   "outputs": [
    {
     "data": {
      "image/png": "[encoded data removed]",
      "text/plain": [
       "<Figure size 432x288 with 1 Axes>"
      ]
     },
     "metadata": {},
     "output_type": "display_data"
    }
   ],
   "source": [
    "G = nx.Graph()\n",
    "G.add_edges_from([(1,2), (2,3), (2,4), (3,4), (1,3)])\n",
    "nx.draw(G, with_labels=True, )"
   ]
  },
  {
   "attachments": {},
   "cell_type": "markdown",
   "id": "coated-wallpaper",
   "metadata": {},
   "source": [
    "<span style='color: green'>**A) \\[Implement\\]**</span> the PageRank for $\\alpha=1$ for the graph using the Power Iteration method (use $\\epsilon=1e-16$ to stop the iteration).<br> \n",
    "\n",
    "<span style='color: green'>**B) \\[Implement\\]**</span> Plot the norm square difference of the $r$ vector (between any two consecutive iterations) for each iteration.\n",
    "\n",
    "<span style='color: green'>**C) \\[Motivate\\]**</span> Do you observe a constant decrease of the norm square difference as iterations are increasing, and is this decrease expected or not?\n",
    "\n",
    "<span style='color: green'>**D) \\[Implement\\]**</span> the PageRank for $\\alpha=1$ using the eigenvector method.<br> \n",
    "\n",
    "<span style='color: green'>**E) \\[Motivate\\]**</span> Are solutions of both methods the same? Why don't we only use the eigenvector method that optimally solves the problem? \n",
    "\n",
    "<span style='color: green'>**F) \\[Motivate\\]**</span> Do the real vector match with your first guess? Can you see a pattern between the pagerank score of each node and its edges?   "
   ]
  },
  {
   "cell_type": "code",
   "execution_count": 3,
   "id": "personal-black",
   "metadata": {},
   "outputs": [
    {
     "name": "stdout",
     "output_type": "stream",
     "text": [
      "[0.2 0.3 0.3 0.2]\n"
     ]
    }
   ],
   "source": [
    "#A) YOUR CODE HERE \n",
    "\n",
    "# Initialize\n",
    "\n",
    "G_use = list(G.edges) - np.array([1,1])\n",
    "\n",
    "x = list(zip(*G_use))[0]\n",
    "y = list(zip(*G_use))[1]\n",
    "nodes = list(set(x+y))\n",
    "NumNodes = len(nodes)\n",
    "\n",
    "# Create adjacency matrix\n",
    "A = np.zeros((len(nodes), len(nodes)))\n",
    "\n",
    "for index in G_use:\n",
    "    A[index[0],index[1]] = 1\n",
    "    A[index[1],index[0]] = 1\n",
    "\n",
    "# Create degree matrix\n",
    "D = np.zeros((len(nodes), len(nodes)))\n",
    "\n",
    "for i in range(len(nodes)):\n",
    "    D[i,i] = np.sum(A[i,:])\n",
    "\n",
    "# Create the transition matrix\n",
    "M = A.T@np.linalg.inv(D)\n",
    "\n",
    "# Set equal weight for all nodes\n",
    "r = np.array([1/NumNodes]*NumNodes)\n",
    "\n",
    "# Keep track of the history\n",
    "history = [0.1]\n",
    "\n",
    "# Start the Power Iteration\n",
    "update = True\n",
    "while update:\n",
    "    # Update the rank\n",
    "    r_new = M@r\n",
    "\n",
    "    # Get the norm of the difference\n",
    "    history.append(np.linalg.norm(r_new-r)**2)\n",
    "\n",
    "    # Check if the rank is converged\n",
    "    if np.linalg.norm(r_new-r) < 1e-16:\n",
    "        update = False\n",
    "    r = r_new\n",
    "\n",
    "print(r)\n"
   ]
  },
  {
   "cell_type": "code",
   "execution_count": 4,
   "id": "emotional-consequence",
   "metadata": {},
   "outputs": [
    {
     "data": {
      "image/png": "[encoded data removed]",
      "text/plain": [
       "<Figure size 432x288 with 1 Axes>"
      ]
     },
     "metadata": {
      "needs_background": "light"
     },
     "output_type": "display_data"
    }
   ],
   "source": [
    "#B) YOUR CODE HERE \n",
    "\n",
    "plt.plot(history)\n",
    "plt.show()"
   ]
  },
  {
   "attachments": {},
   "cell_type": "markdown",
   "id": "burning-leisure",
   "metadata": {},
   "source": [
    "**C) Answer:**\n",
    "\n",
    "Yes we do. And this is expected, as we are starting with an equal assignment to each node, even though that we do not have that all the nodes are symmetrically connected. Therefore, with each iteration, we will find that the nodes with more connections will have a higher PageRank, as they will have a higher probability of being visited (Given that the transition matrix puts equal weight on each outgoing node). So for each iteration, we will get closer to the true PageRank of each vertex, thus the norm square difference will decrease."
   ]
  },
  {
   "attachments": {},
   "cell_type": "markdown",
   "id": "bf4c6c56",
   "metadata": {},
   "source": [
    "D) **Answer:**\n",
    "\n",
    "As we again have that $\\alpha = 1$, we get that $r = Mr$. Therefore we can find the PageRank of the graph by finding its eigenvector corresponding to the eigenvalue of 1. Thus we get that $\\lambda r = Mr$."
   ]
  },
  {
   "cell_type": "code",
   "execution_count": 5,
   "id": "8d45f6f8",
   "metadata": {},
   "outputs": [
    {
     "name": "stdout",
     "output_type": "stream",
     "text": [
      "{x1: 0.200000000000000, x2: 0.300000000000000, x3: 0.300000000000000, x4: 0.200000000000000}\n"
     ]
    }
   ],
   "source": [
    "from sympy import Eq, solve, Symbol\n",
    "\n",
    "#First, we need to define the variables that we want to solve for, which is the vector of x. we order them in a list starting from x1 to xn\n",
    "variablenames = []\n",
    "for i in range(len(nodes)):\n",
    "    variablenames.append('x' + str(i+1))\n",
    "\n",
    "\n",
    "#We now need to define the symbols for the variables using the sympy library where we define each variable as a symbol which we\n",
    "#can use in the equations\n",
    "for i in range(len(nodes)):\n",
    "    variablenames[i] = Symbol(variablenames[i])\n",
    "\n",
    "\n",
    "#We now need to define the equations that we want to solve.\n",
    "#The eigenvalue equation is given by Mx = λx where M is the transition matrix and x is the vector of the ranks of the nodes.\n",
    "#In our case, we want to solve for the eigenvector x, where $\\lambda = 1$.\n",
    "# We do this by calculating left hand side of the equation.\n",
    "\n",
    "# We do this by multiplying the transition matrix with the vector of x. These are the n equations that we want to solve for the n variables.\n",
    "LHS=M@variablenames\n",
    "\n",
    "#We want to define n equations +1 to solve for n variables and also take into count the fact that the sum of the eigenvector is 1.\n",
    "#We do this by defining the equations as a list of equations and then solve them using the solve function from the sympy library.\n",
    "equation= [0]*(len(LHS)+1)\n",
    "for i in range(len(LHS)):\n",
    "    equation[i] = Eq(LHS[i], variablenames[i])\n",
    "\n",
    "#We define the last equation such that the sum of the eigenvector is 1.\n",
    "equation[-1] = Eq(sum(variablenames), 1)\n",
    "\n",
    "\n",
    "\n",
    "# We can now solve the equations for the variables\n",
    "solutions = solve(equation, variablenames)\n",
    "\n",
    "print(solutions)"
   ]
  },
  {
   "cell_type": "code",
   "execution_count": 6,
   "id": "316a70d0",
   "metadata": {},
   "outputs": [],
   "source": [
    "# import numpy as np\n",
    "# from scipy.optimize import minimize\n",
    "\n",
    "# # Define the objective function\n",
    "# def obj(x):\n",
    "#     # Compute the distance from the zero vector\n",
    "#     obj_val = np.linalg.norm(((M - np.diag(np.ones(M.shape[0]))) @ x))**2\n",
    "#     # Return 0 if the distance is sufficiently close to zero\n",
    "#     return 0 if np.isclose(obj_val, 0, atol=1e-16) else obj_val\n",
    "\n",
    "# # Define the equality constraint\n",
    "# def constraint(x):\n",
    "#     # We want the eigenvector to sum to 1, and this also ensures that we don't get the zero vector\n",
    "#     return x.sum() - 1\n",
    "\n",
    "# # Define the initial guess for the optimization as 1/n for all nodes\n",
    "# x0 = np.zeros(M.shape[0])\n",
    "\n",
    "# # Define the constraint dictionary which is necessary for the optimization function\n",
    "# constraints = {'type': 'eq', 'fun': constraint}\n",
    "\n",
    "# # Set the max iterations and tolerance level (For better convergence)\n",
    "# options = {'maxiter': 5000, 'ftol': 1e-16}\n",
    "\n",
    "# # Minimize the objective function using the SLSQP method\n",
    "# res = minimize(obj, x0, method='SLSQP', constraints=constraints, options=options)\n",
    "\n",
    "# # Print the result\n",
    "# print(\"Minimum value:\", res.fun)\n",
    "# print(res.x)"
   ]
  },
  {
   "attachments": {},
   "cell_type": "markdown",
   "id": "immediate-emphasis",
   "metadata": {},
   "source": [
    "E) **Answer:**\n",
    "\n",
    "The Eigenvector method finds the eigenvector of $M$ directly using linear algebra techniques, whereas the Power Iteration method approximates the eigenvector iteratively using the nature of the transition matrix. The Power Iteration method is simpler and requires less computational resources, but may converge slowly for very large graphs. The Eigenvector method, on the other hand, is more computationally expensive but may be faster for larger graphs and may provide more accurate results.\n",
    "\n",
    "So, while both methods can be used to solve the PageRank problem, the choice of method depends on the size of the graph and the desired level of accuracy. For small graphs, the Power Iteration method may be sufficient, whereas for larger graphs, the Eigenvector method may be more appropriate.\n",
    "\n",
    "Therefore, both methods have their advantages and disadvantages, and the choice of method depends on the specific requirements of the application."
   ]
  },
  {
   "attachments": {},
   "cell_type": "markdown",
   "id": "middle-quality",
   "metadata": {},
   "source": [
    "F) **Answer:**\n",
    "\n",
    "Assuming that the question reffers to the real vector as the answer found in question A) and D), and it asks if it matches our guess from task 1.1.1, our guess of $1/n$ (which was not a guess, as we had a d-regular graph), then no. And it has no reason to match, as we have that the graph in task 1.1.2 is not symmetrically connected. And therefore, the PageRank of each node will not be the same.\n",
    "\n",
    "Yes, we see a clear correlation between the PageRank of each node and the number of edges it has. The nodes with more edges have a higher PageRank, as they have a higher probability of being visited."
   ]
  },
  {
   "cell_type": "code",
   "execution_count": 7,
   "id": "bc1d60a4",
   "metadata": {},
   "outputs": [
    {
     "data": {
      "text/plain": [
       "array([[0.        , 0.33333333, 0.33333333, 0.        ],\n",
       "       [0.5       , 0.        , 0.33333333, 0.5       ],\n",
       "       [0.5       , 0.33333333, 0.        , 0.5       ],\n",
       "       [0.        , 0.33333333, 0.33333333, 0.        ]])"
      ]
     },
     "execution_count": 7,
     "metadata": {},
     "output_type": "execute_result"
    }
   ],
   "source": [
    "M"
   ]
  },
  {
   "cell_type": "code",
   "execution_count": 8,
   "id": "2784993c",
   "metadata": {},
   "outputs": [
    {
     "name": "stdout",
     "output_type": "stream",
     "text": [
      "[[ 2. -1. -1.  0.]\n",
      " [-1.  3. -1. -1.]\n",
      " [-1. -1.  3. -1.]\n",
      " [ 0. -1. -1.  2.]]\n",
      "[-2.22044605e-16  2.00000000e+00  4.00000000e+00  4.00000000e+00]\n",
      "[[ 5.00000000e-01  7.07106781e-01  5.00000000e-01  1.55336133e-01]\n",
      " [ 5.00000000e-01 -5.85177798e-17 -5.00000000e-01 -8.27453215e-01]\n",
      " [ 5.00000000e-01  1.53094029e-16 -5.00000000e-01  5.16780949e-01]\n",
      " [ 5.00000000e-01 -7.07106781e-01  5.00000000e-01  1.55336133e-01]]\n"
     ]
    },
    {
     "data": {
      "text/plain": [
       "1.0000000000000002"
      ]
     },
     "execution_count": 8,
     "metadata": {},
     "output_type": "execute_result"
    }
   ],
   "source": [
    "L = D - A\n",
    "print(L)\n",
    "eigvals, eigvecs = np.linalg.eig(L)\n",
    "print(eigvals)\n",
    "print(eigvecs)\n",
    "\n",
    "eigvecs[:,0] @ eigvecs[:,1]\n",
    "\n",
    "x1 = eigvecs[:,1]\n",
    "x2 = eigvecs[:,2]\n",
    "\n",
    "# print((x1.T @ L @ x1)/(x1.T @ x1))\n",
    "# print((x2.T @ L @ x2)/(x2.T @ x2))\n",
    "\n",
    "# H = np.zeros((4,4))\n",
    "\n",
    "# H[0,0] = 1\n",
    "# H[2,2] = 1\n",
    "# H[0,2] = -1\n",
    "# H[2,0] = -1\n",
    "\n",
    "# eigvecs[:,0].T @ H @ eigvecs[:,0]\n",
    "\n",
    "t = eigvecs[:,3]\n",
    "t.T @ t"
   ]
  },
  {
   "attachments": {},
   "cell_type": "markdown",
   "id": "smart-vietnamese",
   "metadata": {},
   "source": [
    "### Task 1.1.3 (2 points)\n",
    "\n",
    "<span style='color: green'>**\\[Motivate\\]**</span><br>\n",
    "\n",
    "Assume you have embedded the graph in **1.1.2** with a __Linear Embedding__ using unormalized Laplacian matrix of the graph as the similarity matrix. How do you expect the embeddings to be if the embedding dimension is $d = 1$?\n",
    "(1) Check the correct box below and (2) motivate your answer.\n",
    "\n",
    "* [ ] Nodes 1, 2, 3, 4 will be placed in the corners of a hypercube\n",
    "* [x] Nodes 2,3 will have the same embedding while 1,4 will be far from each other.\n",
    "* [ ] Nodes 1,4 and 2,3 will have very close embeddings.\n",
    "* [ ] Nodes 3,4 will be very far apart.\n",
    "\n",
    "<font color='red'>IMPORTANT: Do NOT just choose one answer. Please clarify WHY this is the correct answer.</font>"
   ]
  },
  {
   "attachments": {},
   "cell_type": "markdown",
   "id": "demonstrated-breakdown",
   "metadata": {},
   "source": [
    "******************\n",
    "**Answer:**\n",
    "\n",
    "As per the lecture notes from lecture 9, \"If two nodes are “close” under some definition of similarity, they should be also similar in the embedding space.\" And so, we see that in the Laplacian matrix, the diagonal elements are the degree of each node. And therefore, we see that the nodes with more edges will have a higher degree, and will be closer to each other in the embedding space. And so, we see that nodes 2 and 3 will have the same embedding, as they have an edge to every node, while as seen in the laplacian matrix entry (1,4) = 0. Meaning that nodes 1 and 4 don't have an edge to each other, and will therefore be the nodes laying furthest away from all others, 'traveling wise', as they have no direct connection to each other. Thus we conclude that 2 and 3 will have the same embedding, while 1 and 4 will be far from each other.\n",
    "\n",
    "******************"
   ]
  },
  {
   "cell_type": "markdown",
   "id": "capable-reservoir",
   "metadata": {},
   "source": [
    "## Task 1.2: Spectral Properties of the Graph Laplacian (17 points)\n",
    " <span style='color: green'>**\\[Prove\\]**</span> **the following properties:**\n",
    " You will be given points for each of the properties that you prove, rather than points for the exercise as a whole.\n",
    "\n",
    "**Note that all question correspond to the eigenvalues of the LAPLACIAN (NOT THE NORMALIZED)**\n",
    "\n",
    "For a graph with $n$ nodes the eigenvalues of the LAPLACIAN ($L  = D - A$) is sorted in ascending order, i.e.,<br>\n",
    "**$\\lambda_0\\leq\\lambda_1\\leq...\\leq\\lambda_{n-1}$**"
   ]
  },
  {
   "cell_type": "markdown",
   "id": "capital-runner",
   "metadata": {},
   "source": [
    "### Task 1.2.1 (1 points)\n",
    "\n",
    "For all graphs $\\lambda_0 = 0$ "
   ]
  },
  {
   "attachments": {},
   "cell_type": "markdown",
   "id": "seeing-market",
   "metadata": {},
   "source": [
    "*******************\n",
    "**Answer:**\n",
    "\n",
    "We know that the Laplacian matrix is defined as $L = D - A$, where $D$ is the diagonal degree matrix and $A$ is the adjacency matrix of the graph. The diagonal elements of $D$ are the degrees of the nodes, i.e., $d_i=\\sum_{j=1}^n a_{ij}$, where $a_{ij}$ is the element in the $i$'th row and $j$'th column of $A$. The Laplacian matrix $L$ is therefore symmetric and has the property that the sum of each row (or column) is zero. From the lecture notes from lecture 6, we have that for any symmetrical matrix, it must hold that all the eigenvalues are non-negative, i.e. $\\lambda_i \\geq 0$. And so, if we can find a vector $v \\neq 0$ such that $Lv = 0$, for a general laplacian matrix L, then we have that $\\lambda_0 = 0$ for all laplacian matricies. \n",
    "\n",
    "Let L be a laplacian matrix, $v \\neq 0$ be a vector. Then let's consider the equation $Lv = \\lambda v$. Looking at the left hand side, we can rewrite it as follows:\n",
    "$$Lv = (D - A)v = Dv - Av.$$\n",
    "\n",
    "Assume that $v = \\bar{1}$, where $\\bar{1}$ is a vector of ones. Then we have that $Dv = d$, and $Av = d$, where $d$ if a vector of the degrees of the nodes as desbribed above. This implies that\n",
    "$$Lv = d - d = 0.$$ \n",
    "\n",
    "And in order for the equation to hold, we must have that $\\lambda = 0$. Thus we have that $\\lambda_0 = 0$ for all laplacian matricies.\n",
    "\n",
    "It is worth noting, that this holds for all constant vectors $v$, and not just $\\bar{1}$.\n",
    "\n",
    "******************"
   ]
  },
  {
   "cell_type": "markdown",
   "id": "parental-sleep",
   "metadata": {},
   "source": [
    "### Task 1.2.2 (2 points)\n",
    "For the complete graph, $\\lambda_1, \\dots, \\lambda_{n-1} = n$"
   ]
  },
  {
   "attachments": {},
   "cell_type": "markdown",
   "id": "limited-collaboration",
   "metadata": {},
   "source": [
    "******************\n",
    "**Answer:**\n",
    "\n",
    "To prove that for the complete graph, $\\lambda_1, \\dots, \\lambda_{n-1} = n$, we need to compute the Laplacian matrix $L$ and its eigenvalues. The Laplacian matrix of a complete graph with $n$ nodes is given by:\n",
    "\n",
    "$$L = D - A = \\begin{pmatrix}\n",
    "n-1 & 0 & \\cdots & 0 \\\\\n",
    "0 & n-1 & \\cdots & 0 \\\\\n",
    "\\vdots & \\vdots & \\ddots & \\vdots \\\\\n",
    "0 & 0 & \\cdots & n-1\n",
    "\\end{pmatrix} - \\begin{pmatrix}\n",
    "0 & 1 & \\cdots & 1 \\\\\n",
    "1 & 0 & \\cdots & 1 \\\\\n",
    "\\vdots & \\vdots & \\ddots & \\vdots \\\\\n",
    "1 & 1 & \\cdots & 0\n",
    "\\end{pmatrix} = \\begin{pmatrix}\n",
    "n-1 & -1 & \\cdots & -1 \\\\\n",
    "-1 & n-1 & \\cdots & -1 \\\\\n",
    "\\vdots & \\vdots & \\ddots & \\vdots \\\\\n",
    "-1 & -1 & \\cdots & n-1\n",
    "\\end{pmatrix}$$\n",
    " \n",
    "To compute the eigenvalues, we can use the fact that $L$ is a symmetric matrix, so it has $n$ orthogonal eigenvectors that form a basis of $\\mathbb{R}^n$. We can find these eigenvectors and eigenvalues using standard linear algebra techniques.\n",
    "\n",
    "First, note that the sum of the elements in each row of $L$ is $0$, so the vector of all ones is an eigenvector of $L$ with eigenvalue $0$. This is the smallest eigenvalue, which we also proved before\n",
    "\n",
    "Next, we need to find an eigenvector, which namely needs to be orthogonal to our first eigenvector corresponding to the smallest eigenvalue 0, i.e. $f = \\bar{1}$. For two vectors to be orthogonal, it needs to hold that:\n",
    "$$ f \\cdot x = 0 \\iff \\sum_{i = 1}^n f_i \\cdot x_i = 0 \\iff \\sum_{i = 1}^n x_i = 0 $$\n",
    "where $f$ is the first eigenvector and $x$ is any other eigenvector.\n",
    "\n",
    "For any such vector $x$, we have the following relationship to the unnormalized laplacian:\n",
    "\n",
    "$$\n",
    "\\begin{align}\n",
    "    \\left[ Lx \\right]_i &= [(D - A)x]_i\\\\ \n",
    "    &= \\sum_{j=1}^n d_{ij}x_j - a_{ij}x_j\\\\\n",
    "    &= d_{ii}x_i - \\sum_{j = 1}^n a_{ij}x_j\\\\\n",
    "    &= d_{ii}x_i - \\sum_{j \\neq i} a_{ij}x_j\\\\\n",
    "    &= (n - 1)x_i - \\sum_{j \\neq i} a_{ij}x_j\\\\\n",
    "    &= n x_i - \\underbrace{\\left( x_i + \\sum_{j \\neq i} a_{ij}x_j \\right)}_\\text{= 0}\\\\\n",
    "    &= n x_i\n",
    "\\end{align}\n",
    "$$ \n",
    "\n",
    "Where in equation (3), we have used that $d_{ij} = 0 \\, \\forall \\, i \\neq j$, so the only term surviving is the diagonal. \\\n",
    "And in (4), we have used that $a_{ij} = 0 \\, \\text{for} \\, i = j$, and therefore we may take it out of the sum.\\\n",
    "In equation (5), we use the fact that, in a complete graph, the degree of every node is $n-1$.\\\n",
    "Finally in (6), we have used the fact from above that the sum of the eigenvector x is zero, and as we have a complete graph, A will be a matrix of ones, except for the diagonal. Therefore, when we add $x_i$ to the sum, we will get a sum of zero.\n",
    "\n",
    "Which means that we have $Lx = nx$ for any general eigenvector and therefore it must be that $\\lambda_1, \\dots, \\lambda_{n-1} = n$.\n",
    "\n",
    "******************"
   ]
  },
  {
   "cell_type": "markdown",
   "id": "sharing-quebec",
   "metadata": {},
   "source": [
    "### Task 1.2.3 (3 points)\n",
    "\n",
    "For all the graphs with $k$ connected components $\\lambda_0 = \\lambda_1 =...=\\lambda_ k = 0$"
   ]
  },
  {
   "attachments": {},
   "cell_type": "markdown",
   "id": "honey-individual",
   "metadata": {},
   "source": [
    "******************\n",
    "**Answer:**\n",
    "\n",
    "We have from task 1.2.1, that for all graphs, $\\lambda_0 = 0$. And so we only need to prove that $\\lambda_1 = \\lambda_2 = \\dots = \\lambda_k = 0$. As we have $k$ connected components, we can write the Laplacian matrix as: \n",
    "\n",
    "$$L = \\begin{pmatrix}\n",
    "L_1 & 0 & \\cdots & 0 \\\\\n",
    "0 & L_2 & \\cdots & 0 \\\\\n",
    "\\vdots & \\vdots & \\ddots & \\vdots \\\\\n",
    "0 & 0 & \\cdots & L_k\n",
    "\\end{pmatrix}$$\n",
    "\n",
    "Where $L_i$ is the Laplacian matrix of the $i$'th connected component. Thereby, we can easily see that, by defining an eigenvector $v$ that has $1$'s on all the nodes in the $i$'th component, and $0$'s everywhere else, we have that $Lv = 0$ for all $i$. And so we have that $\\lambda_1 = \\lambda_2 = \\dots = \\lambda_k = 0$. And as these are all different from zero, we get that they are all valid eigenvectors corresponding to the eigenvalue $0$, whilst still being orthogonal to each other by construction.\n",
    "\n",
    "******************"
   ]
  },
  {
   "cell_type": "markdown",
   "id": "relative-territory",
   "metadata": {},
   "source": [
    "### Task 1.2.4 (5 points)\n",
    "Given a graph $G$ with eigenvalues of the laplacian $\\lambda_0, \\lambda_1,...,\\lambda_{n-1}$.<br>\n",
    "We randomly remove an edge from $G$ and we re-calculate the eigenvalues as $\\lambda'_0, \\lambda'_1,...,\\lambda'_{n-1}$.<br>\n",
    "Can we have $\\lambda'_{i}>\\lambda_{i}$ for some $0\\leq i\\leq n-1$? Why? Why not?"
   ]
  },
  {
   "attachments": {},
   "cell_type": "markdown",
   "id": "educational-tattoo",
   "metadata": {},
   "source": [
    "******************\n",
    "**Answer:**\n",
    "\n",
    "First let us denote the eigenvalues as $\\lambda_1, \\lambda_2, \\dots, \\lambda_n$ for easier notation.\n",
    "\n",
    "Let $X_i$ be a unit eigenvector of $L$ corresponding to the eigenvalues $\\lambda_i$, where $X_1, \\ldots, X_{k}$ are the linearly independent and orthogonal to each other. Let $S_k$ be the set of all eigenvectors. Then, if we have a $x \\in S_k$, then there exist real numbers $a_1, \\ldots, a_k$ such that $x = a_1X_1 + \\ldots + a_kX_k$, i.e. it can be written as a linear combination of all the already existing eigenvectors. We know that $X_i^2 = 1$ thus we have that $x^Tx = \\sum_{i=1}^k a_i^2 = 1$. Now we get the following:\n",
    "\n",
    "$$\n",
    "\\begin{align*}\n",
    "\n",
    "    x^T L' x &= (a_1X_1 + \\ldots + a_kX_k)^T L' (a_1X_1 + \\ldots + a_kX_k) \\\\\n",
    "    &= (a_1X_1 + \\ldots + a_kX_k)^T L (a_1X_1 + \\ldots + a_kX_k) \\\\\n",
    "    &- (a_1X_1 + \\ldots + a_kX_k)^T H (a_1X_1 + \\ldots + a_kX_k) \\\\\n",
    "    &\\leq (a_1X_1 + \\ldots + a_kX_k)^T L (a_1X_1 + \\ldots + a_kX_k) \\\\\n",
    "    &= (a_1X_1 + \\ldots + a_kX_k)^T (\\lambda_1 a_1X_1 + \\ldots + \\lambda_k a_kX_k) \\\\\n",
    "    &= \\lambda_1 a_1^2X_1^TX_1 + \\ldots + \\lambda_k a_k^2X_k^TX_k \\\\\n",
    "    &\\leq \\lambda_k a_1^2X_1^TX_1 + \\ldots + \\lambda_k a_k^2X_k^TX_k \\\\\n",
    "    &= \\lambda_k(a_1^2 + \\ldots + a_k^2) \\\\\n",
    "    &= \\lambda_k x^Tx\n",
    "\n",
    "\\end{align*}\n",
    "$$\n",
    "\n",
    "Thereby, from the fact that $$\\lambda = \\min\\frac{x^T L x}{x^Tx},$$ where $x \\neq 0$ and all eigenvectors are orthogonal to eachother. We can thus conclude that, as $x^T L' x \\leq \\lambda_k x^Tx$ for all $x \\in S_k$, then we have that $\\lambda_1' \\leq \\ldots \\leq \\lambda_k' \\leq \\lambda_k$. And so we have that $\\lambda_0' \\leq \\lambda_0 \\leq \\lambda_1' \\leq \\lambda_1 \\leq \\dots \\leq \\lambda_{n-1}' \\leq \\lambda_{n-1}$.\n",
    "\n",
    "******************"
   ]
  },
  {
   "cell_type": "markdown",
   "id": "miniature-client",
   "metadata": {},
   "source": [
    "### Task 1.2.5 (6 points)\n",
    "Suppose that the graph $G$ consists of two connected componentes of equal size named  $G_1$ and $G_2$. For simplicity assume that $n$ is even.<br>\n",
    "The Laplacian of $G_1$ has eigenvalues $\\lambda^1_0,\\lambda^1_1,...,\\lambda^1_{n/2-1}$.<br>\n",
    "The Laplacian of $G_2$ has eigenvalues $\\lambda^2_0,\\lambda^2_1,...,\\lambda^2_{n/2-1}$.<br>\n",
    "Prove that the  Laplacian of $G$ is consisted of the eigenvalues of the Laplacians of $G_1$ and $G_2$ in ascending order."
   ]
  },
  {
   "cell_type": "markdown",
   "id": "addressed-method",
   "metadata": {},
   "source": [
    "******************\n",
    "**Answer:**\n",
    "\n",
    "Let L be the laplacian of the graph G \n",
    "\n",
    "$$L = \\begin{pmatrix}\n",
    "L_1 & 0 \\\\\n",
    "0 & L_2\n",
    "\\end{pmatrix}$$\n",
    "\n",
    "with the corresponding eigenvalues $\\mu_0 \\leq \\mu_1 \\leq \\ldots \\leq \\mu_{n-1}$. \n",
    "\n",
    "Now, we can use the Cauchy Interlacing Theorem, which states that for any Hermitian matrix $A$ of size $n \\times n$ with eigenvalues $\\lambda_1 \\leq \\lambda_2 \\leq \\dots \\leq \\lambda_n$ and any principal submatrix $B$ of $A$ of size $m \\times m$ with eigenvalues $\\mu_1 \\leq \\mu_2 \\leq \\dots \\leq \\mu_m$, we have:\n",
    "\n",
    "$$\\lambda_i \\leq \\mu_i \\leq \\lambda_{n-m+i} \\; \\text{for} \\, i = 1,2,...,m.$$\n",
    "\n",
    "Where, in our case, we have that our laplacian $L$ is a Hermitian matrix of size $n \\times n$, and our principal submatrix $B$ is the laplacian of the first connected component $L_1$ of size $n/2 \\times n/2$. Which means that we get the following:\n",
    "$$\\mu_i \\leq \\lambda_i^1 \\leq \\mu_{(n-1) - (n/2-1) + i} \\; \\text{for} \\, i = 0,1,...,{n/2-1}.$$\n",
    "\n",
    "Similarily, we can use the Cauchy Interlacing Theorem again, but now with the laplacian of the second connected component $L_2$ of size $n/2 \\times n/2$ as our principal submatrix $B$, and we have\n",
    "$$\\mu_i \\leq \\lambda_i^2 \\leq \\mu_{(n-1) - (n/2-1) + i} \\; \\text{for} \\, i = 0,1,...,{n/2-1}.$$\n",
    "\n",
    "And thereby, we have that the eigenvalues of the Laplacian of the graph $G$ are sandwiched between the eigenvalues of the Laplacians of its two connected components, $G_1$ and $G_2$, in ascending order. This implies that the eigenvalues of $G$ are a merge of the eigenvalues of $G_1$ and $G_2$ in ascending order. Thus the eigenvalues of the laplacian of the graph G is consisted of the eigenvalues of the laplacians of G1 and G2 in ascending order.\n",
    "\n",
    "******************"
   ]
  },
  {
   "cell_type": "markdown",
   "id": "clear-conspiracy",
   "metadata": {},
   "source": [
    "# Part 2: Graphs and Spectral clustering\n",
    "In this part, you will experiment and reflect on spectral clustering as a technique for partitioning a graph. "
   ]
  },
  {
   "cell_type": "markdown",
   "id": "vulnerable-building",
   "metadata": {},
   "source": [
    "## Task 2.1: $\\varepsilon$-neighbourhood graph (10 points)\n",
    "\n",
    "In this subsection you will experiment with some biological data [https://journals.plos.org/ploscompbiol/article?id=10.1371/journal.pcbi.1003268](https://journals.plos.org/ploscompbiol/article?id=10.1371/journal.pcbi.1003268).\n",
    "\n",
    "**!IMPORTANT!** First run the following code to load the data."
   ]
  },
  {
   "cell_type": "code",
   "execution_count": 9,
   "id": "forbidden-jones",
   "metadata": {},
   "outputs": [],
   "source": [
    "#Load Data\n",
    "from utilities.make_graphs import read_edge_list, read_list, load_data\n",
    "import numpy as np\n",
    "X, Y = load_data()"
   ]
  },
  {
   "cell_type": "markdown",
   "id": "natural-programmer",
   "metadata": {},
   "source": [
    "******************\n",
    "### Task 2.1.1 (4 points)\n",
    "<span style='color: green'>**\\[Implement\\]**</span> the $\\varepsilon$-neighborhood graph, using Eucledian ($L_2$) distance. \n",
    "\n",
    "**Note**: Be sure that your constructed graph does not contain self-loop edges (edges from i to i for each i)"
   ]
  },
  {
   "cell_type": "code",
   "execution_count": 10,
   "id": "assumed-perspective",
   "metadata": {},
   "outputs": [],
   "source": [
    "#YOUR CODE HERE\n",
    "# Be sure that your constructed graphs does not \n",
    "# contain loop edges (edges from i to i for some node i)\n",
    "\n",
    "def nn_graph(data, eps, remove_self=True, directed=False):\n",
    "    n = len(X)\n",
    "    G = nx.Graph()    \n",
    "    if directed:\n",
    "        G = nx.DiGraph()\n",
    "    ### YOUR CODE STARTS HERE\n",
    "\n",
    "    \n",
    "    \n",
    "    \n",
    "    ### YOUR ENDS CODE HERE\n",
    "    return G"
   ]
  },
  {
   "cell_type": "markdown",
   "id": "arranged-stewart",
   "metadata": {},
   "source": [
    "### Task 2.1.2 (2 points)\n",
    "\n",
    "Try with different $\\varepsilon$ values (select a small set of $\\varepsilon$, e.g., 0.01-0.5 values) and plot the graphs. \n",
    "\n",
    "<span style='color: green'>**\\[Motivate\\]**</span> what you observe as epsilon increases. "
   ]
  },
  {
   "cell_type": "code",
   "execution_count": 11,
   "id": "binary-palestinian",
   "metadata": {},
   "outputs": [
    {
     "data": {
      "image/png": "[encoded data removed]",
      "text/plain": [
       "<Figure size 432x288 with 1 Axes>"
      ]
     },
     "metadata": {
      "needs_background": "light"
     },
     "output_type": "display_data"
    },
    {
     "data": {
      "image/png": "[encoded data removed]",
      "text/plain": [
       "<Figure size 432x288 with 1 Axes>"
      ]
     },
     "metadata": {
      "needs_background": "light"
     },
     "output_type": "display_data"
    },
    {
     "data": {
      "image/png": "[encoded data removed]",
      "text/plain": [
       "<Figure size 432x288 with 1 Axes>"
      ]
     },
     "metadata": {
      "needs_background": "light"
     },
     "output_type": "display_data"
    },
    {
     "data": {
      "image/png": "[encoded data removed]",
      "text/plain": [
       "<Figure size 432x288 with 1 Axes>"
      ]
     },
     "metadata": {
      "needs_background": "light"
     },
     "output_type": "display_data"
    },
    {
     "data": {
      "image/png": "[encoded data removed]",
      "text/plain": [
       "<Figure size 432x288 with 1 Axes>"
      ]
     },
     "metadata": {
      "needs_background": "light"
     },
     "output_type": "display_data"
    }
   ],
   "source": [
    "### Run the code below\n",
    "eps_values = [0.01, 0.05, 0.1, 0.2, 0.4]\n",
    "\n",
    "for eps in eps_values: \n",
    "    ax=plt.subplot()\n",
    "    ax1=plt.subplot()\n",
    "    G = nn_graph(X, eps)\n",
    "    pos=nx.spring_layout(G)  \n",
    "    nx.draw_networkx_edges(G,pos=X)\n",
    "    nx.draw_networkx_nodes(G, pos=X, node_color=Y, node_size=20, cmap=plt.get_cmap('tab10'))\n",
    "    ax.set_xlim(-0.1, 1.1)\n",
    "    ax.set_ylim(-0.1, 1.1)\n",
    "    plt.show()\n"
   ]
  },
  {
   "cell_type": "markdown",
   "id": "stock-thread",
   "metadata": {},
   "source": [
    "******************\n",
    "<span style=\"color:red\">**YOUR ANSWER HERE**</span>\n",
    "******************"
   ]
  },
  {
   "cell_type": "markdown",
   "id": "coated-hundred",
   "metadata": {},
   "source": [
    "### Task 2.1.3 (2 points)\n",
    "Assign to each edge in the $\\varepsilon$-neighborhood graph a weight\n",
    "\n",
    "$$W_{i j}=e^{-\\frac{\\left\\|\\mathbf{x}_{i}-\\mathbf{x}_{j}\\right\\|^{2}}{t}}$$\n",
    "\n",
    "<span style='color: green'>**\\[Implement\\]**</span> the function ```weighted_nn_graph``` below that returns the weighted graph given the data matrix in input and the values eps and $t$, where $t$ is the parameter of the equation above. "
   ]
  },
  {
   "cell_type": "code",
   "execution_count": 12,
   "id": "noble-childhood",
   "metadata": {},
   "outputs": [],
   "source": [
    "def weighted_nn_graph(data, eps=20, t=0.1):\n",
    "    n = len(data)\n",
    "    G = nx.Graph()\n",
    "    ### YOUR CODE STARTS HERE\n",
    "  \n",
    "\n",
    "\n",
    "    ### YOUR CODE ENDS HERE\n",
    "    return G"
   ]
  },
  {
   "cell_type": "markdown",
   "id": "aquatic-swimming",
   "metadata": {},
   "source": [
    "### Task 2.1.4 (2 points)\n",
    "\n",
    "Vary $t \\in \\{10, 0.1, 0.000001\\}$. Plot the weights as a histogram using the code below in order to analyse the results using the provided code.</br>\n",
    "What happens when $t$ is very small, close to $0$, i.e., $t \\rightarrow 0$?</br> What happens when $t$ is very large?\n",
    "</br>Is the behaviour with $t = 0$ expected?\n",
    "\n",
    "<span style='color: green'>**\\[Motivate\\]**</span> your answer reasoning on the formula. "
   ]
  },
  {
   "cell_type": "code",
   "execution_count": 13,
   "id": "pressing-clear",
   "metadata": {},
   "outputs": [
    {
     "data": {
      "image/png": "[encoded data removed]",
      "text/plain": [
       "<Figure size 1440x720 with 4 Axes>"
      ]
     },
     "metadata": {
      "needs_background": "light"
     },
     "output_type": "display_data"
    }
   ],
   "source": [
    "ts = [10, 0.2, 0.07, 0.000001]\n",
    "fig, ax = plt.subplots(1,4, figsize=(20, 10))\n",
    "row = 0\n",
    "\n",
    "for i, t in enumerate(ts):\n",
    "    G = weighted_nn_graph(X, eps=60, t=t)\n",
    "    ys = []\n",
    "    \n",
    "\n",
    "    col = i \n",
    "    for i, d in enumerate(G.edges.data()):\n",
    "        ys.append(d[2]['weight'])\n",
    "    plt.hist(ys, bins=100)\n",
    "    ax[col].hist(ys, bins=100)\n",
    "    ax[col].set_title(\"t: \"+str(t))\n",
    "    \n",
    "plt.tight_layout()"
   ]
  },
  {
   "cell_type": "markdown",
   "id": "continued-coordinator",
   "metadata": {},
   "source": [
    "******************\n",
    "<span style=\"color:red\">**YOUR ANSWER HERE**</span>\n",
    "******************"
   ]
  },
  {
   "cell_type": "markdown",
   "id": "discrete-reference",
   "metadata": {},
   "source": [
    "## Task 2.2: Spectral clustering (20 points)\n",
    "\n",
    "We will now look at spectral clustering and its properties. <br>\n",
    "For this Task we will use a subgraph from [malaria_genes](https://networks.skewed.de/net/malaria_genes). <br>\n",
    "Note that this dataset is the biological network of the data used in Task 2.1. <br>"
   ]
  },
  {
   "cell_type": "markdown",
   "id": "extraordinary-contents",
   "metadata": {},
   "source": [
    "### Task 2.2.1 (5 point)\n",
    "Run the code below to load and visualize the network. <br> \n",
    "By only observing the below plot and the $nn$-plots (nearest-neighbor plots)of task 2.1.2, which $\\varepsilon$ values seems to better approximate the real network? (just think of the answer you don't have to write something)"
   ]
  },
  {
   "cell_type": "code",
   "execution_count": 14,
   "id": "historic-sampling",
   "metadata": {},
   "outputs": [
    {
     "data": {
      "image/png": "[encoded data removed]",
      "text/plain": [
       "<Figure size 432x288 with 1 Axes>"
      ]
     },
     "metadata": {},
     "output_type": "display_data"
    }
   ],
   "source": [
    "edgelist = read_edge_list('./data/edges.txt')\n",
    "n = np.max(edgelist)+1\n",
    "G = nx.Graph()\n",
    "for i in range(n):\n",
    "    G.add_node(i)\n",
    "for edge in edgelist:\n",
    "    G.add_edge(edge[0], edge[1])\n",
    "pos=nx.spring_layout(G)  \n",
    "nx.draw_networkx_edges(G,pos=X)\n",
    "nx.draw_networkx_nodes(G, pos=X, node_color=Y, node_size=20, cmap=plt.get_cmap('tab10'))\n",
    "plt.show()"
   ]
  },
  {
   "cell_type": "markdown",
   "id": "behavioral-electron",
   "metadata": {},
   "source": [
    "Now you are having the real network, lets check how good $nn$-graph (and for which $\\epsilon$ value) is a good \"approximates\"the real graph. <br> \n",
    "\n",
    "A) <span style='color: green'>**\\[Implement\\]**</span> a function that calculates the absolute edge difference between the real network $G$ and the one $\\epsilon$-neighborhood graph. Note that in order to do that you have to follow two steps: \n",
    "1. In the first step you have to check if an edge in the real graph is also presented in the $nn$-graph, if not you increase the counter\n",
    "2. In the second step you follow the opposite direction, that is you check if for every edge of the $nn$-graph if is also presented in the original one, if not you increase the counter. (Faster way just use the adjacency matrices) <br>\n",
    "\n",
    "B) <span style='color: green'>**\\[Implement\\]**</span> Plot the edge-difference plot for the range of epsilon values in the range[0.01, 0.11] with step = 0.005. <br>\n",
    "C) <span style='color: green'>**\\[Motivate]**</span> By observing the plot it seems that there exists only one global minimum and no local minimum. Try to prove/disprove this intuition."
   ]
  },
  {
   "cell_type": "code",
   "execution_count": 15,
   "id": "better-peninsula",
   "metadata": {},
   "outputs": [],
   "source": [
    "#A) YOUR CODE HERE"
   ]
  },
  {
   "cell_type": "code",
   "execution_count": 16,
   "id": "gothic-prediction",
   "metadata": {},
   "outputs": [],
   "source": [
    "#B) YOUR CODE HERE"
   ]
  },
  {
   "cell_type": "markdown",
   "id": "vital-grill",
   "metadata": {},
   "source": [
    "******************\n",
    "<span style=\"color:red\">**C) YOUR ANSWER HERE**</span>\n",
    "******************"
   ]
  },
  {
   "cell_type": "markdown",
   "id": "intense-ceiling",
   "metadata": {},
   "source": [
    "### Task 2.2.2 (2 points)\n",
    "Compute the eigenvectors and eigenvalues (using the provided function) of the Normalized Laplacian and the Random Walk Laplacian of the graph $G$.<br> \n",
    "Plot the spectrum (eigenvalues).\n",
    "\n",
    "<span style='color: green'>**\\[Implement\\]**</span> the code to compute the different Laplacians. "
   ]
  },
  {
   "cell_type": "code",
   "execution_count": 17,
   "id": "swiss-application",
   "metadata": {},
   "outputs": [],
   "source": [
    "def graph_eig(L): \n",
    "    \"\"\"\n",
    "        Takes a graph Laplacian and returns sorted the eigenvalues and vectors.\n",
    "    \"\"\"\n",
    "    lambdas, eigenvectors = np.linalg.eig(L)\n",
    "    lambdas = np.real(lambdas)\n",
    "    eigenvectors = np.real(eigenvectors)\n",
    "    \n",
    "    order = np.argsort(lambdas)\n",
    "    lambdas = lambdas[order]\n",
    "    eigenvectors = eigenvectors[:, order]\n",
    "    \n",
    "    return lambdas, eigenvectors"
   ]
  },
  {
   "cell_type": "code",
   "execution_count": 18,
   "id": "laden-marketplace",
   "metadata": {},
   "outputs": [
    {
     "ename": "LinAlgError",
     "evalue": "0-dimensional array given. Array must be at least two-dimensional",
     "output_type": "error",
     "traceback": [
      "\u001b[1;31m---------------------------------------------------------------------------\u001b[0m",
      "\u001b[1;31mLinAlgError\u001b[0m                               Traceback (most recent call last)",
      "\u001b[1;32mC:\\Users\\BJARKI~1\\AppData\\Local\\Temp/ipykernel_18600/1297824250.py\u001b[0m in \u001b[0;36m<module>\u001b[1;34m\u001b[0m\n\u001b[0;32m     12\u001b[0m \u001b[1;31m### YOUR CODE ENDS HERE\u001b[0m\u001b[1;33m\u001b[0m\u001b[1;33m\u001b[0m\u001b[0m\n\u001b[0;32m     13\u001b[0m \u001b[1;33m\u001b[0m\u001b[0m\n\u001b[1;32m---> 14\u001b[1;33m \u001b[0meigval_norm\u001b[0m\u001b[1;33m,\u001b[0m \u001b[0meigvec_norm\u001b[0m \u001b[1;33m=\u001b[0m \u001b[0mgraph_eig\u001b[0m\u001b[1;33m(\u001b[0m\u001b[0mL_norm\u001b[0m\u001b[1;33m)\u001b[0m\u001b[1;33m\u001b[0m\u001b[1;33m\u001b[0m\u001b[0m\n\u001b[0m\u001b[0;32m     15\u001b[0m \u001b[0meigval_rw\u001b[0m\u001b[1;33m,\u001b[0m \u001b[0meigvec_rw\u001b[0m \u001b[1;33m=\u001b[0m \u001b[0mgraph_eig\u001b[0m\u001b[1;33m(\u001b[0m\u001b[0mL_rw\u001b[0m\u001b[1;33m)\u001b[0m\u001b[1;33m\u001b[0m\u001b[1;33m\u001b[0m\u001b[0m\n\u001b[0;32m     16\u001b[0m \u001b[0msdf\u001b[0m\u001b[1;33m\u001b[0m\u001b[1;33m\u001b[0m\u001b[0m\n",
      "\u001b[1;32mC:\\Users\\BJARKI~1\\AppData\\Local\\Temp/ipykernel_18600/186319838.py\u001b[0m in \u001b[0;36mgraph_eig\u001b[1;34m(L)\u001b[0m\n\u001b[0;32m      3\u001b[0m         \u001b[0mTakes\u001b[0m \u001b[0ma\u001b[0m \u001b[0mgraph\u001b[0m \u001b[0mLaplacian\u001b[0m \u001b[1;32mand\u001b[0m \u001b[0mreturns\u001b[0m \u001b[0msorted\u001b[0m \u001b[0mthe\u001b[0m \u001b[0meigenvalues\u001b[0m \u001b[1;32mand\u001b[0m \u001b[0mvectors\u001b[0m\u001b[1;33m.\u001b[0m\u001b[1;33m\u001b[0m\u001b[1;33m\u001b[0m\u001b[0m\n\u001b[0;32m      4\u001b[0m     \"\"\"\n\u001b[1;32m----> 5\u001b[1;33m     \u001b[0mlambdas\u001b[0m\u001b[1;33m,\u001b[0m \u001b[0meigenvectors\u001b[0m \u001b[1;33m=\u001b[0m \u001b[0mnp\u001b[0m\u001b[1;33m.\u001b[0m\u001b[0mlinalg\u001b[0m\u001b[1;33m.\u001b[0m\u001b[0meig\u001b[0m\u001b[1;33m(\u001b[0m\u001b[0mL\u001b[0m\u001b[1;33m)\u001b[0m\u001b[1;33m\u001b[0m\u001b[1;33m\u001b[0m\u001b[0m\n\u001b[0m\u001b[0;32m      6\u001b[0m     \u001b[0mlambdas\u001b[0m \u001b[1;33m=\u001b[0m \u001b[0mnp\u001b[0m\u001b[1;33m.\u001b[0m\u001b[0mreal\u001b[0m\u001b[1;33m(\u001b[0m\u001b[0mlambdas\u001b[0m\u001b[1;33m)\u001b[0m\u001b[1;33m\u001b[0m\u001b[1;33m\u001b[0m\u001b[0m\n\u001b[0;32m      7\u001b[0m     \u001b[0meigenvectors\u001b[0m \u001b[1;33m=\u001b[0m \u001b[0mnp\u001b[0m\u001b[1;33m.\u001b[0m\u001b[0mreal\u001b[0m\u001b[1;33m(\u001b[0m\u001b[0meigenvectors\u001b[0m\u001b[1;33m)\u001b[0m\u001b[1;33m\u001b[0m\u001b[1;33m\u001b[0m\u001b[0m\n",
      "\u001b[1;32m<__array_function__ internals>\u001b[0m in \u001b[0;36meig\u001b[1;34m(*args, **kwargs)\u001b[0m\n",
      "\u001b[1;32mc:\\Users\\Bjarki Kass Olsen\\anaconda3\\lib\\site-packages\\numpy\\linalg\\linalg.py\u001b[0m in \u001b[0;36meig\u001b[1;34m(a)\u001b[0m\n\u001b[0;32m   1313\u001b[0m     \"\"\"\n\u001b[0;32m   1314\u001b[0m     \u001b[0ma\u001b[0m\u001b[1;33m,\u001b[0m \u001b[0mwrap\u001b[0m \u001b[1;33m=\u001b[0m \u001b[0m_makearray\u001b[0m\u001b[1;33m(\u001b[0m\u001b[0ma\u001b[0m\u001b[1;33m)\u001b[0m\u001b[1;33m\u001b[0m\u001b[1;33m\u001b[0m\u001b[0m\n\u001b[1;32m-> 1315\u001b[1;33m     \u001b[0m_assert_stacked_2d\u001b[0m\u001b[1;33m(\u001b[0m\u001b[0ma\u001b[0m\u001b[1;33m)\u001b[0m\u001b[1;33m\u001b[0m\u001b[1;33m\u001b[0m\u001b[0m\n\u001b[0m\u001b[0;32m   1316\u001b[0m     \u001b[0m_assert_stacked_square\u001b[0m\u001b[1;33m(\u001b[0m\u001b[0ma\u001b[0m\u001b[1;33m)\u001b[0m\u001b[1;33m\u001b[0m\u001b[1;33m\u001b[0m\u001b[0m\n\u001b[0;32m   1317\u001b[0m     \u001b[0m_assert_finite\u001b[0m\u001b[1;33m(\u001b[0m\u001b[0ma\u001b[0m\u001b[1;33m)\u001b[0m\u001b[1;33m\u001b[0m\u001b[1;33m\u001b[0m\u001b[0m\n",
      "\u001b[1;32mc:\\Users\\Bjarki Kass Olsen\\anaconda3\\lib\\site-packages\\numpy\\linalg\\linalg.py\u001b[0m in \u001b[0;36m_assert_stacked_2d\u001b[1;34m(*arrays)\u001b[0m\n\u001b[0;32m    194\u001b[0m     \u001b[1;32mfor\u001b[0m \u001b[0ma\u001b[0m \u001b[1;32min\u001b[0m \u001b[0marrays\u001b[0m\u001b[1;33m:\u001b[0m\u001b[1;33m\u001b[0m\u001b[1;33m\u001b[0m\u001b[0m\n\u001b[0;32m    195\u001b[0m         \u001b[1;32mif\u001b[0m \u001b[0ma\u001b[0m\u001b[1;33m.\u001b[0m\u001b[0mndim\u001b[0m \u001b[1;33m<\u001b[0m \u001b[1;36m2\u001b[0m\u001b[1;33m:\u001b[0m\u001b[1;33m\u001b[0m\u001b[1;33m\u001b[0m\u001b[0m\n\u001b[1;32m--> 196\u001b[1;33m             raise LinAlgError('%d-dimensional array given. Array must be '\n\u001b[0m\u001b[0;32m    197\u001b[0m                     'at least two-dimensional' % a.ndim)\n\u001b[0;32m    198\u001b[0m \u001b[1;33m\u001b[0m\u001b[0m\n",
      "\u001b[1;31mLinAlgError\u001b[0m: 0-dimensional array given. Array must be at least two-dimensional"
     ]
    }
   ],
   "source": [
    "L_norm = None\n",
    "L_rw = None\n",
    "\n",
    "### YOUR CODE STARTS HERE\n",
    "\n",
    "\n",
    "\n",
    "\n",
    "\n",
    "\n",
    "\n",
    "### YOUR CODE ENDS HERE\n",
    "\n",
    "eigval_norm, eigvec_norm = graph_eig(L_norm)\n",
    "eigval_rw, eigvec_rw = graph_eig(L_rw)\n",
    "sdf\n",
    "plt.figure(0)\n",
    "plt.plot(eigval_norm, 'b-o', label='Spectrum of Normalized Laplacian', )\n",
    "plt.legend()\n",
    "plt.figure(1)\n",
    "plt.plot(eigval_rw, 'b-o', label='Spectrum of the Random Walk Laplacian')\n",
    "plt.legend()"
   ]
  },
  {
   "cell_type": "markdown",
   "id": "destroyed-satin",
   "metadata": {},
   "source": [
    "### Task 2.2.3 (4 points)\n",
    "<span style='color: green'>**\\[Implement\\]**</span> the function ```spect_cluster``` that returns a vector ```y_clust``` in which each entry y_clust\\[i\\] represents the community assigned to node $i$. The method should be able to handle both the Normalized Laplacian, and the Random Walk Laplacian. You are allowed to use your implementation from the weekly exercises and ```sklearn.cluster.k_means``` for k-means clustering. "
   ]
  },
  {
   "cell_type": "code",
   "execution_count": null,
   "id": "suited-clark",
   "metadata": {},
   "outputs": [],
   "source": [
    "from sklearn.cluster import k_means\n",
    "\n",
    "def spect_cluster(G, eig_type=\"normal\", k=5, d=5):\n",
    "    ### YOUR CODE STARTS HERE\n",
    "\n",
    "    \n",
    "    \n",
    "    \n",
    "    ### YOUR CODE ENDS HERE\n",
    "    return y_clust"
   ]
  },
  {
   "cell_type": "code",
   "execution_count": null,
   "id": "capable-relief",
   "metadata": {},
   "outputs": [],
   "source": [
    "def plot_graph(G, clusters):\n",
    "    plt.figure(1,figsize=(30,15))\n",
    "    nodes = G.nodes()\n",
    "    ec = nx.draw_networkx_edges(G, X, alpha=0.2)\n",
    "    nc = nx.draw_networkx_nodes(G, X, nodelist=nodes, node_color=clusters, node_size=100, cmap=plt.cm.jet)\n",
    "\n",
    "    plt.axis('off')\n",
    "    plt.show()\n",
    "\n",
    "your_clusters = spect_cluster(G, k=6)   \n",
    "plot_graph(G, your_clusters)\n"
   ]
  },
  {
   "attachments": {},
   "cell_type": "markdown",
   "id": "downtown-adrian",
   "metadata": {},
   "source": [
    "### Task 2.2.4 (1 points)\n",
    "\n",
    "Finally, use your implementation of spectral clustering with different Laplacians and different values of $k \\in [2,7]$ and plot the results using the helper function ```plot_graph```. \n",
    "\n",
    "<span style='color: green'>**\\[Describe\\]**</span> the results you obtain. Especially, what is the difference between the Random Walk and the Normalized Laplacians, if any? How do you explain such differences? "
   ]
  },
  {
   "cell_type": "code",
   "execution_count": null,
   "id": "amber-avatar",
   "metadata": {},
   "outputs": [],
   "source": [
    "for method in ['normal', 'random']: \n",
    "    for k in np.arange(2,8): \n",
    "        your_clusters = spect_cluster(G,eig_type=method, k=k)\n",
    "        plot_graph(G, your_clusters)"
   ]
  },
  {
   "cell_type": "markdown",
   "id": "laughing-impossible",
   "metadata": {},
   "source": [
    "******************\n",
    "<span style=\"color:red\">**YOUR ANSWER HERE**</span>\n",
    "******************"
   ]
  },
  {
   "attachments": {},
   "cell_type": "markdown",
   "id": "laughing-found",
   "metadata": {},
   "source": [
    "### Task 2.2.5 (4 points)\n",
    "<span style='color: green'>**\\[Implement\\]**</span> the modularity. Recall that the definition of modularity for a set of communities $C$ is\n",
    "$$ \n",
    "Q=\\frac{1}{2 m} \\sum_{c \\in C} \\sum_{i \\in c} \\sum_{j \\in c}\\left(A_{i j}-\\frac{d_{i} d_{j}}{2 m}\\right) \\qquad \\qquad (1) \n",
    "$$\n",
    "where $A$ is the adjacency matrix, and $d_i$ is the degree of node $i$\n",
    "\n",
    "**Note**: Use ```plot_graph``` function in order to see for yourself if maximising modularity leads a better clustering. If you did not succeed with the previous Task, you are allowed to use [Scikit Learn Spectral Clustering](https://scikit-learn.org/stable/modules/generated/sklearn.cluster.SpectralClustering.html)"
   ]
  },
  {
   "cell_type": "code",
   "execution_count": null,
   "id": "chemical-supply",
   "metadata": {},
   "outputs": [],
   "source": [
    "def modularity(G, clustering):\n",
    "    modularity = 0\n",
    "    ### YOUR CODE STARTS HERE\n",
    "\n",
    "    \n",
    "    \n",
    "    \n",
    "    \n",
    "    ### YOUR CODE ENDS HERE\n",
    "    return modularity"
   ]
  },
  {
   "attachments": {},
   "cell_type": "markdown",
   "id": "hourly-pantyhose",
   "metadata": {},
   "source": [
    "### Task 2.2.6 (2 points)\n",
    "\n",
    "Compute the modularity of your Spectral Clustering Implementation for different values of $k$. \n",
    "\n",
    "<span style='color: green'>**\\[Motivate\\]**</span> Which $k$ value maximizes the modularity? From your perspective, does spectral clustering forms \"clear\" clusters for the best $k$ found by modularity? Using the spectral graph theory, why do you think this is/isn't the case? "
   ]
  },
  {
   "cell_type": "code",
   "execution_count": null,
   "id": "clear-analyst",
   "metadata": {},
   "outputs": [],
   "source": [
    "mods = []\n",
    "ks = [1, 2, 3, 4, 5, 6, 7, 8, 9, 10, 11]\n",
    "for k in ks:\n",
    "    clusters = spect_cluster(G, k=k) ### NOTE: If you do not use your implementation substitute with a call to the sklearn one. \n",
    "    mods.append(modularity(G, clusters))\n",
    "\n",
    "# You may want to use plt.plot to plot the modularity for different values of k\n",
    "plt.plot(ks, mods)\n",
    "print(mods)"
   ]
  },
  {
   "cell_type": "markdown",
   "id": "related-schema",
   "metadata": {},
   "source": [
    "******************\n",
    "<span style=\"color:red\">**YOUR ANSWER HERE**</span>\n",
    "******************"
   ]
  },
  {
   "attachments": {},
   "cell_type": "markdown",
   "id": "signal-science",
   "metadata": {},
   "source": [
    "### Task 2.2.7 (2 points)\n",
    "\n",
    "<span style='color: green'>**\\[Motivate\\]**</span> There seems to be a relationship between graph embeddings and spectral clustering, can you guess that? _Hint_: Think to the eigenvectors of the graph's Laplacians. (1) Check the correct box below and (2) motivate your answer."
   ]
  },
  {
   "cell_type": "markdown",
   "id": "collaborative-corpus",
   "metadata": {},
   "source": [
    "* [ ] If the embeddings are linear and the similarity is the Laplacian, the embeddings we obtain minimizing the L_2 norm are equivalent to the eigenvectors of the Laplacian. \n",
    "* [ ] If the embeddings are random-walk-based embeddings, the eigenvectors of the Random Walk Laplacian are related to the embeddings obtained by such methods. \n",
    "* [ ] The relationship is just apparent. \n",
    "* [ ] If the embeddings are linear and the similarity is the Adjacency matrix, the eigenvectors of the Laplacian are equivalent to the embeddings. \n",
    "\n",
    "<font color='red'>IMPORTANT: Do NOT just choose one answer. Please clarify WHY this is the correct answer.</font>"
   ]
  },
  {
   "cell_type": "markdown",
   "id": "musical-beauty",
   "metadata": {},
   "source": [
    "******************\n",
    "<span style=\"color:red\">**YOUR ANSWER HERE**</span>\n",
    "******************"
   ]
  },
  {
   "cell_type": "markdown",
   "id": "caring-engineer",
   "metadata": {},
   "source": [
    "# Part 3: Link analysis\n",
    "In this exercise, we will work with PageRank, Random Walks and their relationships with graph properties. \n",
    "We will use the most generic definition\n",
    "\n",
    "$$\\mathbf{r} = \\alpha \\mathbf{Mr} + (1-\\alpha)\\mathbf{p}$$\n",
    "\n",
    "with $\\mathbf{r}$ the PageRank vector, $\\mathbf{M}$ the weighted transition matrix, and $\\mathbf{p}$ the personalization vector. \n",
    "Additionally, let $n = |V|$, where $V$ is the nodes in the graph above.\n",
    "Remember that in the case of PageRank the entries of the personalization vector are $p_i = 1/n$ for all $i$.  \n"
   ]
  },
  {
   "attachments": {},
   "cell_type": "markdown",
   "id": "separated-proposal",
   "metadata": {},
   "source": [
    "## Task 3.1 Approximate PageRank (10 points)"
   ]
  },
  {
   "attachments": {},
   "cell_type": "markdown",
   "id": "going-ukraine",
   "metadata": {},
   "source": [
    "### Task 3.1.1 (3 points)\n",
    "\n",
    "<span style='color: green'>**\\[Implement\\]**</span>  a different algorithm for computing Personalized PageRank. This algorithm runs a fixed number of iterations and uses the definition of random walks. \n",
    "At each step, the algorithm either selects a random neighbor with probability $\\alpha$ or returns to the starting node with probability $1-\\alpha$. Every time a node is visited a counter on the node is incremented by one. Initially, each counter is 0. The final ppr value is the values in the nodes divided by the number of iterations. "
   ]
  },
  {
   "cell_type": "code",
   "execution_count": 20,
   "id": "smaller-dietary",
   "metadata": {},
   "outputs": [],
   "source": [
    "import random\n",
    "\n",
    "def approx_personalized_pagerank(G, node, alpha = 0.85, iterations = 1000): \n",
    "    ppr = np.zeros(G.number_of_nodes())\n",
    "    ### YOUR CODE STARTS HERE\n",
    "\n",
    "    \n",
    "    \n",
    "    ### YOUR CODE ENDS HERE\n",
    "    return ppr"
   ]
  },
  {
   "cell_type": "markdown",
   "id": "traditional-brass",
   "metadata": {},
   "source": [
    "### Task 3.1.2 (3 points)\n",
    "\n",
    "Run the ```approx_personalized_pagerank``` with default $\\alpha$ and iterations $\\{10, n, 2n, 4n, 100n, 1000n\\}$ where $n$ is the number of nodes in the graph and starting node the node with the highest PageRank computed in Task 3.1.2.\n",
    "\n",
    "<span style='color: green'>**\\[Motivate\\]**</span> what you notice as the number of iterations increase. Why are the values and the top-10 nodes ranked by PPR changing so much? "
   ]
  },
  {
   "cell_type": "code",
   "execution_count": 21,
   "id": "referenced-arcade",
   "metadata": {},
   "outputs": [
    {
     "name": "stdout",
     "output_type": "stream",
     "text": [
      "{0: 0.20102640550640022, 1: 0.0004761511237216732, 2: 0.001421044532107968, 3: 0.00517928011352294, 4: 0.0010162923813859888, 5: 0.0006924636204434976, 6: 0.000586579792176299, 7: 0.000586579792176299, 8: 0.0003234474438257967, 9: 0.00019090839324436927, 10: 0.0008425131765574241, 11: 0.0002138886988942776, 12: 7.363910368127664e-05, 13: 0.000120384709811805, 14: 0.0003278276006296821, 15: 0.057966783498537754, 16: 0.0010331071288539717, 17: 0.033132058814434324, 18: 0.06419510482224376, 19: 0.006185840515788864, 20: 0.004416837084835552, 21: 0.00084334559593509, 22: 0.000337032100920962, 23: 0.000337032100920962, 24: 0.0016225968843755114, 25: 0.0010162923813859888, 26: 0.0012274363011591223, 27: 0.002003306148064946, 28: 0.001159956264160489, 29: 0.00020776771699475836, 30: 0.00020776771699475836, 31: 0.001077095263904809, 32: 0.0005891207950163308, 33: 0.00020776771699475836, 34: 0.00020776771699475836, 35: 0.00020776771699475836, 36: 0.0507827735442066, 37: 0.033132058814434324, 38: 0.004416837084835552, 39: 0.07370302662884962, 40: 0.06810490268998877, 41: 0.06810490268998877, 42: 0.057721089239227516, 43: 0.004036558622183551, 44: 0.044213385321687095, 45: 0.004416837084835552, 46: 0.004416837084835552, 47: 0.013600164272753405, 48: 0.004083842221734655, 49: 0.0038883439020806665, 50: 0.0002138886988942776, 51: 0.00020776771699475836, 52: 0.00020776771699475836, 53: 0.00020776771699475836, 54: 0.00020776771699475836, 55: 0.00020776771699475836, 56: 0.0036348300110970845, 57: 0.04303241255359019, 58: 0.0009462085363060938, 59: 0.0006567016935970457, 60: 0.0010331071288539717, 61: 0.0009831639247661944, 62: 0.0004761511237216732, 63: 0.0008283595865713621, 64: 0.0005982033502522983, 65: 0.00037890898568892416, 66: 0.0008227263377315793, 67: 0.0012274363011591223, 68: 0.001093060299377055, 69: 1.7646075652890375e-05, 70: 0.00038876763835228963, 71: 0.001068969459089747, 72: 1.647578188711394e-05, 73: 1.3682563894328201e-05, 74: 1.9759791492813336e-05, 75: 2.0242438754932556e-05, 76: 0.0007418623601997879, 77: 0.0015122546505692434, 78: 0.0007337726582869129, 79: 0.00011793058642373787, 80: 3.1865541280876383e-05, 81: 0.00011785417869506119, 82: 0.0003450071810404085, 83: 0.00045042749244164756, 84: 0.00037625515569466786, 85: 0.0007015438817818249, 86: 0.0007015438817818249, 87: 0.0007015438817818249, 88: 3.696799689995519e-05, 89: 0.0007514741806634169, 90: 4.341426951438771e-05, 91: 6.21585955684836e-06, 92: 9.689578905161467e-05, 93: 0.00579643145264843, 94: 0.005572136304426983, 95: 3.077577931792456e-05, 96: 0.0007280046514099777, 97: 0.0012782510668163654, 98: 0.0007060829163330461, 99: 0.0056274961696264406, 100: 0.005714903250893505, 101: 0.00034043471055739046, 102: 0.0019910950696486658, 103: 0.0013564960616929995, 104: 0.0013564960616929995, 105: 0.0006833099918317978, 106: 0.0007418623601997879, 107: 0.000693771843653197, 108: 0.000693771843653197, 109: 0.0009426559347937493, 110: 0.005235612574289994, 111: 0.0011012156273625402, 112: 4.1326781610449185e-05, 113: 0.0003791393617886846, 114: 9.787126090839414e-06, 115: 1.513131679782811e-05, 116: 1.8860684422357756e-05, 117: 0.0005823641206975997, 118: 0.0005823641206975997, 119: 0.0010081101218630067, 120: 0.0008371874457143433, 121: 1.4761231004183396e-05, 122: 0.0007049068769208594, 123: 0.0007049068769208594, 124: 2.7902524442059727e-05, 125: 2.1942701931417177e-05, 126: 1.2495517094470391e-06, 127: 2.40170493713389e-05, 128: 4.6667783634391534e-05, 129: 2.5039350533404507e-05, 130: 3.167852783849852e-05, 131: 2.334485262414468e-05, 132: 1.8728624099212367e-05, 133: 2.1096455445554232e-05, 134: 2.8357936505840633e-05, 135: 2.4417317494863872e-05, 136: 1.869779458772745e-05, 137: 2.9938331679089098e-05, 138: 1.5731496526119972e-05, 139: 1.9725100017818956e-05, 140: 1.8569946730354554e-05, 141: 1.4667482700991208e-05, 142: 3.173075771965871e-05, 143: 2.3193860034920572e-05, 144: 2.3193860034920572e-05, 145: 2.3326181241173155e-05, 146: 1.754247950109724e-05, 147: 3.136559145024084e-05, 148: 3.180161689481229e-05, 149: 4.235725315789616e-05, 150: 2.344575178059021e-05, 151: 3.3411692106976225e-05, 152: 1.7061310470082536e-05, 153: 2.1923678086201867e-05, 154: 6.849783676818675e-06, 155: 3.640907440445659e-05, 156: 1.728937248262224e-05, 157: 2.7116543082231247e-05, 158: 2.9468616855134074e-05, 159: 2.9468616855134074e-05, 160: 8.955749531588124e-07, 161: 1.8729031093541827e-05, 162: 4.6667783634391534e-05, 163: 3.461475308118704e-05, 164: 5.484035972645057e-05, 165: 2.5169367306429635e-05, 166: 2.6676778734899238e-05, 167: 1.6714541580636982e-05, 168: 1.8614862189157507e-05, 169: 4.336878359252074e-05, 170: 4.336878359252074e-05, 171: 0.00011456791235117524, 172: 0.0008734821588617414, 173: 0.0008333385077776178, 174: 0.0005012829154808234, 175: 0.00022227351965841083, 176: 0.0014144470973055008, 177: 0.00019533246620041377, 178: 6.800979491690933e-05, 179: 0.00033354425878369637, 180: 0.0004141963464781213, 181: 0.0001932442103192309, 182: 0.0002764148114815004, 183: 4.3517412265490785e-05, 184: 0.0008048073468204603, 185: 2.4341678540119518e-05, 186: 2.4341678540119518e-05, 187: 2.4341678540119518e-05, 188: 2.1518827450311848e-05, 189: 1.2796562130163715e-05, 190: 5.9844880622989574e-05, 191: 2.7762671191855946e-05, 192: 3.361749335286668e-05, 193: 2.389923783577064e-05, 194: 2.7433214295965335e-05, 195: 2.6042128342697224e-05, 196: 1.5221174054494232e-05, 197: 1.5221174054494232e-05, 198: 1.0886500518672438e-05, 199: 3.685819683048416e-05, 200: 4.389600012035956e-05, 201: 3.41114924861449e-05, 202: 3.261932239239163e-05, 203: 3.1584561094847886e-05, 204: 0.00011234798661853347, 205: 2.6399029197136685e-05, 206: 6.830236284184432e-05, 207: 2.991629825430445e-05, 208: 1.0866172946623684e-05, 209: 1.4790764636190311e-05, 210: 0.0007306897799805986, 211: 0.000874310141860488, 212: 0.00048191048461502123, 213: 0.00048191048461502123, 214: 0.0003217086833369185, 215: 5.658789284376595e-05, 216: 4.031023101168874e-05, 217: 4.031023101168874e-05, 218: 0.00048191048461502123, 219: 2.7441040771366623e-05, 220: 9.542526022848964e-06, 221: 2.1963032307349216e-05, 222: 2.1963032307349216e-05, 223: 2.3950589250480464e-05, 224: 2.6792314759997184e-05, 225: 2.6792314759997184e-05, 226: 4.5225433278178115e-05, 227: 3.17578593196819e-05, 228: 3.17578593196819e-05, 229: 3.905619751208973e-05, 230: 1.7152665908558446e-05, 231: 4.4992822329768494e-05, 232: 1.9483311840488517e-05, 233: 3.0449460566223613e-05, 234: 2.7740562626374145e-05, 235: 3.777933907081894e-05, 236: 2.306195280940871e-05, 237: 2.2546960150160242e-05, 238: 2.93478993190927e-05, 239: 3.162856747249008e-05, 240: 4.426583275420075e-05, 241: 2.1374569572974938e-05, 242: 2.129227256406053e-05, 243: 3.251119359234226e-05, 244: 2.8752876717609686e-05, 245: 4.213961835480757e-06, 246: 0.0002734450629242772, 247: 0.0003097845960863778, 248: 0.0008324050111006701, 249: 0.0048551990902361225, 250: 0.0029754829708062633, 251: 0.0049231416476591275, 252: 0.0009092952384302345, 253: 0.0009092952384302345, 254: 0.0011375799967595739, 255: 0.0002462758623627681, 256: 0.001055662014166598, 257: 0.0005704303095421247, 258: 0.0002256842260450706, 259: 0.0004386450206869415, 260: 0.0004386450206869415, 261: 0.0008408694984712231, 262: 0.0013043149534942547, 263: 0.0006207000458777333, 264: 0.0007983172894506582, 265: 0.0007943729366861431, 266: 0.0004260745962208149, 267: 0.0013445073874145596, 268: 0.0013445073874145596, 269: 0.0014564428155954623, 270: 0.0004191539016682003, 271: 0.0004191539016682003, 272: 0.001055662014166598, 273: 0.0005972308113600292, 274: 0.0011767692420613148, 275: 0.0011767692420613148, 276: 0.00030009397383661294, 277: 0.0002764148114815004, 278: 0.0008333385077776178, 279: 0.000317196582619755, 280: 0.0009021956747640893, 281: 0.0008188827200180494, 282: 0.0008188827200180494, 283: 0.0008182570023076281, 284: 0.001159204935192586, 285: 0.001224468371964496, 286: 5.474799758651563e-05, 287: 4.271391129655821e-05, 288: 0.00020454522742108255, 289: 0.00020103176455299148, 290: 0.00018368832900638967, 291: 0.00018368832900638967, 292: 5.40452519643362e-05, 293: 0.0008637253992629146, 294: 0.0002553017126551869, 295: 0.0009640675656072735, 296: 0.0009640675656072735, 297: 0.0003319338486678212, 298: 0.00030378423645285245, 299: 0.00036624886413675744, 300: 0.0005037170670393174, 301: 0.00031944795329354127, 302: 0.00041419634647812134, 303: 0.0004988362351143671, 304: 0.000764822859849281, 305: 0.0008495201506311345, 306: 0.00044605293696332806}\n",
      "{0: 0, 1: 0.0004761511237216732, 2: 0.001421044532107968, 3: 0.00517928011352294, 4: 0.0010162923813859888, 5: 0.0006924636204434976, 6: 0.000586579792176299, 7: 0.000586579792176299, 8: 0.0003234474438257967, 9: 0.00019090839324436927, 10: 0.0008425131765574241, 11: 0.0002138886988942776, 12: 7.363910368127664e-05, 13: 0.000120384709811805, 14: 0.0003278276006296821, 15: 0.057966783498537754, 16: 0.0010331071288539717, 17: 0.033132058814434324, 18: 0.06419510482224376, 19: 0.006185840515788864, 20: 0.004416837084835552, 21: 0.00084334559593509, 22: 0.000337032100920962, 23: 0.000337032100920962, 24: 0.0016225968843755114, 25: 0.0010162923813859888, 26: 0.0012274363011591223, 27: 0.002003306148064946, 28: 0.001159956264160489, 29: 0.00020776771699475836, 30: 0.00020776771699475836, 31: 0.001077095263904809, 32: 0.0005891207950163308, 33: 0.00020776771699475836, 34: 0.00020776771699475836, 35: 0.00020776771699475836, 36: 0.0507827735442066, 37: 0.033132058814434324, 38: 0.004416837084835552, 39: 0.07370302662884962, 40: 0.06810490268998877, 41: 0.06810490268998877, 42: 0.057721089239227516, 43: 0.004036558622183551, 44: 0.044213385321687095, 45: 0.004416837084835552, 46: 0.004416837084835552, 47: 0.013600164272753405, 48: 0.004083842221734655, 49: 0.0038883439020806665, 50: 0.0002138886988942776, 51: 0.00020776771699475836, 52: 0.00020776771699475836, 53: 0.00020776771699475836, 54: 0.00020776771699475836, 55: 0.00020776771699475836, 56: 0.0036348300110970845, 57: 0.04303241255359019, 58: 0.0009462085363060938, 59: 0.0006567016935970457, 60: 0.0010331071288539717, 61: 0.0009831639247661944, 62: 0.0004761511237216732, 63: 0.0008283595865713621, 64: 0.0005982033502522983, 65: 0.00037890898568892416, 66: 0.0008227263377315793, 67: 0.0012274363011591223, 68: 0.001093060299377055, 69: 1.7646075652890375e-05, 70: 0.00038876763835228963, 71: 0.001068969459089747, 72: 1.647578188711394e-05, 73: 1.3682563894328201e-05, 74: 1.9759791492813336e-05, 75: 2.0242438754932556e-05, 76: 0.0007418623601997879, 77: 0.0015122546505692434, 78: 0.0007337726582869129, 79: 0.00011793058642373787, 80: 3.1865541280876383e-05, 81: 0.00011785417869506119, 82: 0.0003450071810404085, 83: 0.00045042749244164756, 84: 0.00037625515569466786, 85: 0.0007015438817818249, 86: 0.0007015438817818249, 87: 0.0007015438817818249, 88: 3.696799689995519e-05, 89: 0.0007514741806634169, 90: 4.341426951438771e-05, 91: 6.21585955684836e-06, 92: 9.689578905161467e-05, 93: 0.00579643145264843, 94: 0.005572136304426983, 95: 3.077577931792456e-05, 96: 0.0007280046514099777, 97: 0.0012782510668163654, 98: 0.0007060829163330461, 99: 0.0056274961696264406, 100: 0.005714903250893505, 101: 0.00034043471055739046, 102: 0.0019910950696486658, 103: 0.0013564960616929995, 104: 0.0013564960616929995, 105: 0.0006833099918317978, 106: 0.0007418623601997879, 107: 0.000693771843653197, 108: 0.000693771843653197, 109: 0.0009426559347937493, 110: 0.005235612574289994, 111: 0.0011012156273625402, 112: 4.1326781610449185e-05, 113: 0.0003791393617886846, 114: 9.787126090839414e-06, 115: 1.513131679782811e-05, 116: 1.8860684422357756e-05, 117: 0.0005823641206975997, 118: 0.0005823641206975997, 119: 0.0010081101218630067, 120: 0.0008371874457143433, 121: 1.4761231004183396e-05, 122: 0.0007049068769208594, 123: 0.0007049068769208594, 124: 2.7902524442059727e-05, 125: 2.1942701931417177e-05, 126: 1.2495517094470391e-06, 127: 2.40170493713389e-05, 128: 4.6667783634391534e-05, 129: 2.5039350533404507e-05, 130: 3.167852783849852e-05, 131: 2.334485262414468e-05, 132: 1.8728624099212367e-05, 133: 2.1096455445554232e-05, 134: 2.8357936505840633e-05, 135: 2.4417317494863872e-05, 136: 1.869779458772745e-05, 137: 2.9938331679089098e-05, 138: 1.5731496526119972e-05, 139: 1.9725100017818956e-05, 140: 1.8569946730354554e-05, 141: 1.4667482700991208e-05, 142: 3.173075771965871e-05, 143: 2.3193860034920572e-05, 144: 2.3193860034920572e-05, 145: 2.3326181241173155e-05, 146: 1.754247950109724e-05, 147: 3.136559145024084e-05, 148: 3.180161689481229e-05, 149: 4.235725315789616e-05, 150: 2.344575178059021e-05, 151: 3.3411692106976225e-05, 152: 1.7061310470082536e-05, 153: 2.1923678086201867e-05, 154: 6.849783676818675e-06, 155: 3.640907440445659e-05, 156: 1.728937248262224e-05, 157: 2.7116543082231247e-05, 158: 2.9468616855134074e-05, 159: 2.9468616855134074e-05, 160: 8.955749531588124e-07, 161: 1.8729031093541827e-05, 162: 4.6667783634391534e-05, 163: 3.461475308118704e-05, 164: 5.484035972645057e-05, 165: 2.5169367306429635e-05, 166: 2.6676778734899238e-05, 167: 1.6714541580636982e-05, 168: 1.8614862189157507e-05, 169: 4.336878359252074e-05, 170: 4.336878359252074e-05, 171: 0.00011456791235117524, 172: 0.0008734821588617414, 173: 0.0008333385077776178, 174: 0.0005012829154808234, 175: 0.00022227351965841083, 176: 0.0014144470973055008, 177: 0.00019533246620041377, 178: 6.800979491690933e-05, 179: 0.00033354425878369637, 180: 0.0004141963464781213, 181: 0.0001932442103192309, 182: 0.0002764148114815004, 183: 4.3517412265490785e-05, 184: 0.0008048073468204603, 185: 2.4341678540119518e-05, 186: 2.4341678540119518e-05, 187: 2.4341678540119518e-05, 188: 2.1518827450311848e-05, 189: 1.2796562130163715e-05, 190: 5.9844880622989574e-05, 191: 2.7762671191855946e-05, 192: 3.361749335286668e-05, 193: 2.389923783577064e-05, 194: 2.7433214295965335e-05, 195: 2.6042128342697224e-05, 196: 1.5221174054494232e-05, 197: 1.5221174054494232e-05, 198: 1.0886500518672438e-05, 199: 3.685819683048416e-05, 200: 4.389600012035956e-05, 201: 3.41114924861449e-05, 202: 3.261932239239163e-05, 203: 3.1584561094847886e-05, 204: 0.00011234798661853347, 205: 2.6399029197136685e-05, 206: 6.830236284184432e-05, 207: 2.991629825430445e-05, 208: 1.0866172946623684e-05, 209: 1.4790764636190311e-05, 210: 0.0007306897799805986, 211: 0.000874310141860488, 212: 0.00048191048461502123, 213: 0.00048191048461502123, 214: 0.0003217086833369185, 215: 5.658789284376595e-05, 216: 4.031023101168874e-05, 217: 4.031023101168874e-05, 218: 0.00048191048461502123, 219: 2.7441040771366623e-05, 220: 9.542526022848964e-06, 221: 2.1963032307349216e-05, 222: 2.1963032307349216e-05, 223: 2.3950589250480464e-05, 224: 2.6792314759997184e-05, 225: 2.6792314759997184e-05, 226: 4.5225433278178115e-05, 227: 3.17578593196819e-05, 228: 3.17578593196819e-05, 229: 3.905619751208973e-05, 230: 1.7152665908558446e-05, 231: 4.4992822329768494e-05, 232: 1.9483311840488517e-05, 233: 3.0449460566223613e-05, 234: 2.7740562626374145e-05, 235: 3.777933907081894e-05, 236: 2.306195280940871e-05, 237: 2.2546960150160242e-05, 238: 2.93478993190927e-05, 239: 3.162856747249008e-05, 240: 4.426583275420075e-05, 241: 2.1374569572974938e-05, 242: 2.129227256406053e-05, 243: 3.251119359234226e-05, 244: 2.8752876717609686e-05, 245: 4.213961835480757e-06, 246: 0.0002734450629242772, 247: 0.0003097845960863778, 248: 0.0008324050111006701, 249: 0.0048551990902361225, 250: 0.0029754829708062633, 251: 0.0049231416476591275, 252: 0.0009092952384302345, 253: 0.0009092952384302345, 254: 0.0011375799967595739, 255: 0.0002462758623627681, 256: 0.001055662014166598, 257: 0.0005704303095421247, 258: 0.0002256842260450706, 259: 0.0004386450206869415, 260: 0.0004386450206869415, 261: 0.0008408694984712231, 262: 0.0013043149534942547, 263: 0.0006207000458777333, 264: 0.0007983172894506582, 265: 0.0007943729366861431, 266: 0.0004260745962208149, 267: 0.0013445073874145596, 268: 0.0013445073874145596, 269: 0.0014564428155954623, 270: 0.0004191539016682003, 271: 0.0004191539016682003, 272: 0.001055662014166598, 273: 0.0005972308113600292, 274: 0.0011767692420613148, 275: 0.0011767692420613148, 276: 0.00030009397383661294, 277: 0.0002764148114815004, 278: 0.0008333385077776178, 279: 0.000317196582619755, 280: 0.0009021956747640893, 281: 0.0008188827200180494, 282: 0.0008188827200180494, 283: 0.0008182570023076281, 284: 0.001159204935192586, 285: 0.001224468371964496, 286: 5.474799758651563e-05, 287: 4.271391129655821e-05, 288: 0.00020454522742108255, 289: 0.00020103176455299148, 290: 0.00018368832900638967, 291: 0.00018368832900638967, 292: 5.40452519643362e-05, 293: 0.0008637253992629146, 294: 0.0002553017126551869, 295: 0.0009640675656072735, 296: 0.0009640675656072735, 297: 0.0003319338486678212, 298: 0.00030378423645285245, 299: 0.00036624886413675744, 300: 0.0005037170670393174, 301: 0.00031944795329354127, 302: 0.00041419634647812134, 303: 0.0004988362351143671, 304: 0.000764822859849281, 305: 0.0008495201506311345, 306: 0.00044605293696332806}\n",
      "top-10 r=[39 41 40 18 15 42 36 44 57 37]\n",
      " top-10 values=[0.07370303 0.0681049  0.0681049  0.0641951  0.05796678 0.05772109\n",
      " 0.05078277 0.04421339 0.04303241 0.03313206]\n",
      "\n"
     ]
    }
   ],
   "source": [
    "edgelist = read_edge_list('./data/edges.txt')\n",
    "n = np.max(edgelist)+1\n",
    "G = nx.Graph()\n",
    "for i in range(n):\n",
    "    G.add_node(i)\n",
    "for edge in edgelist:\n",
    "    G.add_edge(edge[0], edge[1])\n",
    "starting_node = np.argmax(nx.pagerank(G))\n",
    "# for i, iterations in enumerate([10, G.number_of_nodes(), G.number_of_nodes()*2, G.number_of_nodes()*4, G.number_of_nodes()*100, G.number_of_nodes()*1000]):\n",
    "#     r = approx_personalized_pagerank(G, starting_node, iterations = iterations)\n",
    "#     r[starting_node] = 0\n",
    "#     r_sorted = np.argsort(r)[::-1]\n",
    "#     r_values = np.sort(r)[::-1]\n",
    "#     print(f'Iteration {iterations}: top-10 r={r_sorted[:10]}\\n top-10 values={r_values[:10]}\\n')\n",
    "\n",
    "import operator\n",
    "rr = nx.pagerank(G, alpha=0.85, personalization = {starting_node: 1})\n",
    "print(rr)\n",
    "rr[starting_node] = 0\n",
    "print(rr)\n",
    "r=np.zeros(len(rr))\n",
    "for k in rr: r[k] = rr[k]\n",
    "r_sorted = np.argsort(r)[::-1]\n",
    "r_values = np.sort(r)[::-1]\n",
    "print(f'top-10 r={r_sorted[:10]}\\n top-10 values={r_values[:10]}\\n')"
   ]
  },
  {
   "cell_type": "code",
   "execution_count": 22,
   "id": "7a773aac",
   "metadata": {},
   "outputs": [
    {
     "data": {
      "text/plain": [
       "0"
      ]
     },
     "execution_count": 22,
     "metadata": {},
     "output_type": "execute_result"
    },
    {
     "data": {
      "image/png": "[encoded data removed]",
      "text/plain": [
       "<Figure size 432x288 with 1 Axes>"
      ]
     },
     "metadata": {},
     "output_type": "display_data"
    }
   ],
   "source": [
    "import random as rd\n",
    "\n",
    "G\n",
    "nx.draw(G, with_labels=False, )\n",
    "alpha = 0.85\n",
    "iterations = 1000\n",
    "node = starting_node\n",
    "\n",
    "ppr = np.zeros(G.number_of_nodes())\n",
    "node"
   ]
  },
  {
   "cell_type": "code",
   "execution_count": 56,
   "id": "e8376e4d",
   "metadata": {},
   "outputs": [
    {
     "name": "stdout",
     "output_type": "stream",
     "text": [
      "top-10 r=[2 1 3 0]\n",
      " top-10 values=[0.27127635 0.27127635 0.15372365 0.        ]\n",
      "\n",
      "top-10 r=[1 2 3 0]\n",
      " top-10 values=[0.2671 0.1799 0.1734 0.    ]\n",
      "\n"
     ]
    }
   ],
   "source": [
    "iterations = 10000\n",
    "\n",
    "G_use = list(G.edges) - np.array([1,1])\n",
    "\n",
    "x = list(zip(*G_use))[0]\n",
    "y = list(zip(*G_use))[1]\n",
    "nodes = list(set(x+y))\n",
    "NumNodes = len(nodes)\n",
    "\n",
    "# Create adjacency matrix\n",
    "A = np.zeros((len(nodes), len(nodes)))\n",
    "\n",
    "for index in G_use:\n",
    "    A[index[0],index[1]] = 1\n",
    "    A[index[1],index[0]] = 1\n",
    "\n",
    "# Create degree matrix\n",
    "D = np.zeros((len(nodes), len(nodes)))\n",
    "\n",
    "for i in range(len(nodes)):\n",
    "    D[i,i] = np.sum(A[i,:])\n",
    "\n",
    "# Create the transition matrix\n",
    "M = A.T@np.linalg.inv(D)\n",
    "\n",
    "# Initialize the rank vector\n",
    "ppr = np.zeros(G.number_of_nodes())\n",
    "ppr[node] = 1\n",
    "\n",
    "# Set current node to starting node\n",
    "curr_node = node\n",
    "\n",
    "# Start the Iterations\n",
    "for i in range(1,iterations):\n",
    "    \n",
    "    # Get the probability of teleporting\n",
    "    if rd.random() > alpha:\n",
    "        # Here we do teleport and so we return to the starting node and increase the rank of that node by 1\n",
    "        curr_node = node\n",
    "        ppr[curr_node] += 1    \n",
    "    else:\n",
    "        # Here we do not teleport and so we move to the next node, given the transition matrix, and where we can go from that node\n",
    "        # We also increase the rank of that node by 1\n",
    "        curr_node = np.random.choice(nodes, p=M[:,curr_node])\n",
    "        # curr_node = np.random.choice(nodes)\n",
    "        ppr[curr_node] += 1\n",
    "\n",
    "r = ppr/iterations\n",
    "# print(r)\n",
    "\n",
    "r[starting_node] = 0\n",
    "r_sorted_new = np.argsort(r)[::-1]\n",
    "r_values_new = np.sort(r)[::-1]\n",
    "\n",
    "\n",
    "# rr = nx.pagerank(G, alpha=0.85, personalization = {starting_node: 1})\n",
    "# # print(rr)\n",
    "# rr[starting_node] = 0\n",
    "# # print(rr)\n",
    "# r=np.zeros(len(rr))\n",
    "# for k in rr: r[k] = rr[k]\n",
    "# r_sorted = np.argsort(r)[::-1]\n",
    "# r_values = np.sort(r)[::-1]\n",
    "\n",
    "print(f'top-10 r={r_sorted[:10]}\\n top-10 values={r_values[:10]}\\n')\n",
    "print(f'top-10 r={r_sorted_new[:10]}\\n top-10 values={r_values_new[:10]}\\n')"
   ]
  },
  {
   "cell_type": "code",
   "execution_count": 34,
   "id": "a14a01fb",
   "metadata": {},
   "outputs": [
    {
     "name": "stdout",
     "output_type": "stream",
     "text": [
      "{0: 0.3037236522574859, 1: 0.271276347742514, 2: 0.271276347742514, 3: 0.15372365225748585}\n",
      "{0: 0, 1: 0.271276347742514, 2: 0.271276347742514, 3: 0.15372365225748585}\n",
      "top-10 r=[2 1 3 0]\n",
      " top-10 values=[0.27127635 0.27127635 0.15372365 0.        ]\n",
      "\n",
      "top-10 r=[1 3 2 0]\n",
      " top-10 values=[0.2576 0.1818 0.1784 0.    ]\n",
      "\n"
     ]
    }
   ],
   "source": [
    "G = nx.Graph()\n",
    "G.add_edges_from([(0,1), (1,2), (1,3), (2,3), (0,2)])\n",
    "\n",
    "for i in range(len(nodes)):\n",
    "    G.add_node(i)\n",
    "rr = nx.pagerank(G, alpha=0.85, personalization = {starting_node: 1})\n",
    "print(rr)\n",
    "rr[starting_node] = 0\n",
    "print(rr)\n",
    "r=np.zeros(len(rr))\n",
    "for k in rr: r[k] = rr[k]\n",
    "r_sorted = np.argsort(r)[::-1]\n",
    "r_values = np.sort(r)[::-1]\n",
    "\n",
    "print(f'top-10 r={r_sorted[:10]}\\n top-10 values={r_values[:10]}\\n')\n",
    "print(f'top-10 r={r_sorted_new[:10]}\\n top-10 values={r_values_new[:10]}\\n')"
   ]
  },
  {
   "cell_type": "code",
   "execution_count": 25,
   "id": "fec014f5",
   "metadata": {},
   "outputs": [
    {
     "data": {
      "text/plain": [
       "0.6962937365817465"
      ]
     },
     "execution_count": 25,
     "metadata": {},
     "output_type": "execute_result"
    }
   ],
   "source": [
    "# print(np.sum(M, axis=0))\n",
    "\n",
    "sum(r)\n"
   ]
  },
  {
   "cell_type": "markdown",
   "id": "complimentary-antarctica",
   "metadata": {},
   "source": [
    "******************\n",
    "<span style=\"color:red\">**YOUR ANSWER HERE**</span>\n",
    "******************"
   ]
  },
  {
   "cell_type": "markdown",
   "id": "congressional-expansion",
   "metadata": {},
   "source": [
    "### Task 3.1.3 (2 points)\n",
    "\n",
    "Compare the 5 nodes with the highest PPR obtained from ```nx.pagerank(G, alpha=0.85, personalization={node_highest_pagerank: 1})``` and the one obtained by the approximation. \n",
    "\n",
    "<span style='color: green'>**\\[Describe\\]**</span> the differences. Does the number of iterations affect the results? Is there a relationship between the number of iterations and the results? Is there a relationship between the approximated value of PageRank and the real value? Do you notice anything as the number of iteration increases? "
   ]
  },
  {
   "cell_type": "code",
   "execution_count": null,
   "id": "political-compatibility",
   "metadata": {},
   "outputs": [],
   "source": [
    "k = 5\n",
    "ppr_nx = nx.pagerank(G, alpha=0.85, personalization = {starting_node: 1})\n",
    "r_nx = [0 for _ in range(G.number_of_nodes())]\n",
    "for k, v in ppr_nx.items():\n",
    "    r_nx[k] = v\n",
    "r_est = approx_personalized_pagerank(G, starting_node, alpha=0.85)\n",
    "\n",
    "topk_nx = np.argsort(r_nx)[-5:]\n",
    "topk_est = np.argsort(r_est)[-5:]\n",
    "\n",
    "print(topk_nx, topk_est)\n",
    "\n",
    "for iterations in [10, G.number_of_nodes(), G.number_of_nodes()*2, G.number_of_nodes()*4, G.number_of_nodes()*100, G.number_of_nodes()*1000]:\n",
    "    print(f'Number of iterations {iterations}')\n",
    "    ppr_nx = nx.pagerank(G, alpha=0.85, personalization = {starting_node: 1})\n",
    "    r_nx = [0 for _ in range(G.number_of_nodes())]\n",
    "    for k, v in ppr_nx.items():\n",
    "        r_nx[k] = v\n",
    "    r_est = approx_personalized_pagerank(G, starting_node, iterations = iterations, alpha=0.85)\n",
    "    print(f'Approximate PPR: {r_est[:10]}')\n",
    "    print(f'Real PPR: {r_nx[:10]}')\n",
    "    \n",
    "    \n",
    "    topk_nx = np.argsort(r_nx)[-5:]\n",
    "    topk_est = np.argsort(r_est)[-5:]\n",
    "\n",
    "    print(f\"Topk of nx.pagerank: {topk_nx}, Topk of our estimation {topk_est}, Size of intersection: {len(set(topk_nx).intersection(set(topk_est)))}\")"
   ]
  },
  {
   "cell_type": "markdown",
   "id": "proved-palmer",
   "metadata": {},
   "source": [
    "*****************\n",
    "<span style=\"color:red\">**YOUR ANSWER HERE**</span>\n",
    "*****************"
   ]
  },
  {
   "cell_type": "markdown",
   "id": "hispanic-conservative",
   "metadata": {},
   "source": [
    "### Task 3.1.4 (2 points)\n",
    "\n",
    "Run again the same experiment but this time use $\\alpha = 0.1$. \n",
    "\n",
    "<span style='color: green'>**\\[Motivate\\]**</span> Motivate whether and why you need more or less iterations to predict the 5 nodes with the highest PPR."
   ]
  },
  {
   "cell_type": "code",
   "execution_count": null,
   "id": "beneficial-basics",
   "metadata": {},
   "outputs": [],
   "source": [
    "for iterations in [10, G.number_of_nodes(), G.number_of_nodes()*2, G.number_of_nodes()*4, G.number_of_nodes()*100]:\n",
    "    ppr_nx = nx.pagerank(G, alpha=0.1, personalization = {starting_node: 1})\n",
    "    r_nx = [0 for _ in range(G.number_of_nodes())]\n",
    "    for k, v in ppr_nx.items():\n",
    "        r_nx[k] = v\n",
    "    r_est = approx_personalized_pagerank(G, starting_node, iterations = iterations, alpha=0.1)\n",
    "\n",
    "    topk_nx = np.argsort(r_nx)[-5:]\n",
    "    topk_est = np.argsort(r_est)[-5:]\n",
    "\n",
    "    print(f\"Topk of nx.pagerank: {topk_nx}, Topk of our estimation {topk_est}, Size of intersection: {len(set(topk_nx).intersection(set(topk_est)))}\")\n",
    "    "
   ]
  },
  {
   "cell_type": "markdown",
   "id": "synthetic-legislature",
   "metadata": {},
   "source": [
    "*****************\n",
    "<span style=\"color:red\">**YOUR ANSWER HERE**</span>\n",
    "*****************"
   ]
  },
  {
   "cell_type": "markdown",
   "id": "tested-money",
   "metadata": {},
   "source": [
    "## Task 3.2 Spam and link farms (12 points)"
   ]
  },
  {
   "cell_type": "markdown",
   "id": "spatial-passing",
   "metadata": {},
   "source": [
    "We will now study the effect of spam in the network and construct a link farm. In this part, if you want to modify the graph, use a copy of the original graph every time you run your code, so that you do not keep adding modifications."
   ]
  },
  {
   "cell_type": "code",
   "execution_count": null,
   "id": "centered-pickup",
   "metadata": {},
   "outputs": [],
   "source": [
    "edgelist = read_edge_list('./data/edges.txt')\n",
    "n = np.max(edgelist)+1\n",
    "G2 = nx.Graph()\n",
    "for i in range(n):\n",
    "    G2.add_node(i)\n",
    "for edge in edgelist:\n",
    "    G2.add_edge(edge[0], edge[1])\n",
    "G = G2.copy()"
   ]
  },
  {
   "cell_type": "markdown",
   "id": "mental-plastic",
   "metadata": {},
   "source": [
    "### Task 3.2.1 (3 points)\n",
    "Based on the analysis in the slides, construct a spam farm $s$ on the graph $G$ with $T$ fake nodes. Assume that $s$ manages to get links from node 1. With $\\alpha=0.5$, \n",
    "\n",
    "<span style='color: green'>**\\[Describe\\]**</span> which is the minimum number of pages $T$ that we you need to add in order to get $s$ being assigned the highest PageRank?"
   ]
  },
  {
   "cell_type": "code",
   "execution_count": null,
   "id": "certified-necessity",
   "metadata": {},
   "outputs": [],
   "source": [
    "#CODE HERE IF YOU NEED THAT"
   ]
  },
  {
   "cell_type": "markdown",
   "id": "discrete-recall",
   "metadata": {},
   "source": [
    "******************\n",
    "<span style=\"color:red\">**YOUR ANSWER HERE**</span>\n",
    "******************"
   ]
  },
  {
   "cell_type": "markdown",
   "id": "judicial-consolidation",
   "metadata": {},
   "source": [
    "### Task 3.2.2 (3 points)\n",
    "In the above scenario, assume that $T = \\frac{1}{5}$ of the nodes in the original graph. \n",
    "\n",
    "<span style='color: green'>**\\[Motivate\\]**</span> what value of $\\alpha$ will maximize the PageRank $\\mathbf{r}_s$ of the link farm $s$. Provide sufficient justification for your choice."
   ]
  },
  {
   "cell_type": "markdown",
   "id": "written-english",
   "metadata": {},
   "source": [
    "******************\n",
    "<span style=\"color:red\">**YOUR ANSWER HERE**</span>\n",
    "******************"
   ]
  },
  {
   "cell_type": "markdown",
   "id": "confidential-rocket",
   "metadata": {},
   "source": [
    "### Task 3.2.3 (3 points)\n",
    "\n",
    "Now we fix both $\\alpha = 0.5$ and $T = \\frac{1}{5}n$. \n",
    "\n",
    "<span style='color: green'>**\\[Implement\\]**</span>  ```trusted_pagerank``` the method for spam mass estimation."
   ]
  },
  {
   "cell_type": "code",
   "execution_count": null,
   "id": "yellow-mouth",
   "metadata": {},
   "outputs": [],
   "source": [
    "def trusted_pagerank(G, trusted_indices, iterations=500, alpha=0.5):\n",
    "    r = None   \n",
    "    ### YOUR CODE STARTS HERE\n",
    "\n",
    "    \n",
    "    ### YOUR CODE ENDS HERE\n",
    "    return r"
   ]
  },
  {
   "cell_type": "markdown",
   "id": "twenty-divide",
   "metadata": {},
   "source": [
    "### Task 3.2.4 (3 points)\n",
    "\n",
    "<span style='color: green'>**\\[Motivate\\]**</span> whether we are able to detect the node $s$, if the trusted set of nodes is a random sample $10\\%$ of the nodes in the original graph. \n",
    "If not, what could be a viable solution? Which nodes would you rather choose as trusted?\n",
    "\n",
    "You are not obliged to, but you can write some helper code to reach the answer faster.  \n",
    "\n",
    "_Hint_: Remember the spam mass formula in the Link Analysis lecture"
   ]
  },
  {
   "cell_type": "code",
   "execution_count": null,
   "id": "electric-electron",
   "metadata": {},
   "outputs": [],
   "source": [
    "### YOUR CODE HERE"
   ]
  },
  {
   "cell_type": "markdown",
   "id": "strange-intent",
   "metadata": {},
   "source": [
    "*******************\n",
    "<span style=\"color:red\">**YOUR ANSWER HERE**</span>\n",
    "******************"
   ]
  },
  {
   "attachments": {},
   "cell_type": "markdown",
   "id": "large-destiny",
   "metadata": {},
   "source": [
    "# Part 4: Graph embeddings (19 points)\n",
    "In this final part, we will try a different approach for clustering the data from above. \n",
    "The strategy is going to be the following:\n",
    "\n",
    "1. Use VERSE [[1]](https://arxiv.org/pdf/1803.04742.pdf) to produce embeddings of the nodes in the graph.\n",
    "2. Use K-Means to cluster the embeddings. Measure and report NMI for the clustering. \n",
    "\n",
    "[[1](https://arxiv.org/pdf/1803.04742.pdf)] Tsitsulin, A., Mottin, D., Karras, P. and Müller, E., 2018, April. Verse: Versatile graph embeddings from similarity measures. In Proceedings of the 2018 World Wide Web Conference (pp. 539-548)."
   ]
  },
  {
   "cell_type": "code",
   "execution_count": null,
   "id": "multiple-finnish",
   "metadata": {},
   "outputs": [],
   "source": [
    "G = email.S_dir.copy()"
   ]
  },
  {
   "cell_type": "markdown",
   "id": "parliamentary-stevens",
   "metadata": {},
   "source": [
    "## Task 4.1.1 (6 points)\n",
    "\n",
    "<span style='color: green'>**\\[Implement\\]**</span> the methods below to compute sampling version of VERSE. _Hint:_ it might be a help to look in the original article \\[1\\] above."
   ]
  },
  {
   "cell_type": "code",
   "execution_count": null,
   "id": "copyrighted-encyclopedia",
   "metadata": {},
   "outputs": [],
   "source": [
    "def sigmoid(x):\n",
    "    ''' Return the sigmoid function of x \n",
    "        x: the input vector\n",
    "    '''\n",
    "    ### YOUR CODE STARTS HERE\n",
    "\n",
    "    ### YOUR CODE ENDS HERE\n",
    "    return x\n",
    "\n",
    "def pagerank_matrix(G, alpha = 0.85) :     \n",
    "    ''' Return the Personalized PageRank matrix of a graph\n",
    "\n",
    "        Args:\n",
    "            G: the input graph\n",
    "            alpha: the dumping factor of  PageRank\n",
    "\n",
    "        :return The nxn PageRank matrix P\n",
    "    '''\n",
    "    ### YOUR CODE STARTS HERE\n",
    "\n",
    "    ### YOUR CODE ENDS HERE\n",
    "    return P\n",
    "    \n",
    "\n",
    "def update(u, v, Z, C, step_size) :\n",
    "    '''Update the matrix Z using row-wise gradients of the loss function\n",
    "\n",
    "       Args:\n",
    "            u : the first node\n",
    "            v : the second node\n",
    "            Z : the embedding matrix\n",
    "            C : the classification variable used in Noise Contrastive estimation indicating whether the sample is positive or negative\n",
    "            step_size: step size for gradient descent\n",
    "\n",
    "\n",
    "       :return nothing, just update rows Z[v,:] and and Z[u,:]\n",
    "    '''\n",
    "    ### YOUR CODE STARTS HERE\n",
    "\n",
    "    ### YOUR CODE ENDS HERE\n",
    "    \n",
    "    \n",
    "def verse(G, S, d, k = 3, step_size = 0.0025, steps = 10000): \n",
    "    ''' Return the sampled version of VERSE\n",
    "\n",
    "        Args:\n",
    "            G: the input Graph\n",
    "            S: the PageRank similarity matrix\n",
    "            d: dimension of the embedding space\n",
    "            k: number of negative samples\n",
    "            step_size: step size for gradient descent\n",
    "            steps: number of iterations\n",
    "\n",
    "        :return the embedding matrix nxd\n",
    "    '''\n",
    "    n = G.number_of_nodes()\n",
    "    Z = 1/d*np.random.rand(n,d)\n",
    "\n",
    "    ### YOUR CODE STARTS HERE\n",
    "\n",
    "    ### YOUR CODE ENDS HERE\n",
    "    return Z"
   ]
  },
  {
   "cell_type": "code",
   "execution_count": null,
   "id": "suspected-democracy",
   "metadata": {},
   "outputs": [],
   "source": [
    "# This code runs the `verse` algorithm above on G and stores the embeddings to 'verse.npy'\n",
    "P   = pagerank_matrix(G)\n",
    "emb = verse(G, P, 128, step_size=0.0025, steps=10_000)\n",
    "np.save('verse.npy', emb)"
   ]
  },
  {
   "cell_type": "markdown",
   "id": "working-ordering",
   "metadata": {},
   "source": [
    "### Task 4.1.2 (3 points)\n",
    "\n",
    "<span style='color: green'>**\\[Implement\\]**</span> a small piece of code that runs $k$-means on the embeddings with $k \\in [2,7]$ to evaluate the performance compared to Spectral clustering using the NMI as measure. You can use ```sklearn.metrics.normalized_mutual_info_score``` for the NMI and ```sklearn.cluster.KMeans``` for kmeans. In both cases, you can use your own implementation from Handin 1 or the exercises, but it will not give you extra points.  \n",
    "\n",
    "<span style='color: green'>**\\[Describe\\]**</span> which of the method performs the best and whether the results show similarities between the two methods"
   ]
  },
  {
   "cell_type": "code",
   "execution_count": null,
   "id": "atomic-production",
   "metadata": {},
   "outputs": [],
   "source": [
    "### YOUR CODE STARTS HERE\n",
    "\n",
    "\n",
    "### YOUR CODE ENDS HERE"
   ]
  },
  {
   "cell_type": "markdown",
   "id": "painful-graphic",
   "metadata": {},
   "source": [
    "*******************\n",
    "<span style=\"color:red\">**YOUR ANSWER HERE**</span>\n",
    "******************"
   ]
  },
  {
   "attachments": {},
   "cell_type": "markdown",
   "id": "renewable-lafayette",
   "metadata": {},
   "source": [
    "### Task 4.1.3 (2 points)\n",
    "\n",
    "<span style='color: green'>**\\[Motivate\\]**</span> how you would conceptionally expand the way of embedding a graph, if you had a multi-label-graph. E.g. meaning you have multiple labels and each edge needs to have exacrly one of those. So you can also have multiple edges between the same nodes, as long as they have different labels."
   ]
  },
  {
   "cell_type": "markdown",
   "id": "cardiovascular-ethernet",
   "metadata": {},
   "source": [
    "*******************\n",
    "<span style=\"color:red\">**YOUR ANSWER HERE**</span>\n",
    "******************"
   ]
  },
  {
   "attachments": {},
   "cell_type": "markdown",
   "id": "whole-ancient",
   "metadata": {},
   "source": [
    "## Task 4.2 (8 points)\n",
    "\n",
    "**This is a hard exercise. Do it for fun or only if you are done with easier questions.**\n",
    "\n",
    "<span style='color: green'>**\\[Implement\\]**</span> a new GCN that optimizes for modularity. The loss function takes in input a matrix $C \\in \\mathbb{R}^{n\\times k}$ of embeddings for each of the nodes. \n",
    "$C$ represents the community assignment matrix, i.e. each entry $C_{ij}$ contains the probability that node $i$ belong to community $j$. \n",
    "\n",
    "The loss function is the following\n",
    "$$\n",
    "loss = - Tr(C^\\top B C) + l\\|C\\|_2\n",
    "$$ \n",
    "where $B$ is the modularity matrix that you will also implement, and $l$ is a regularization factor controlling the impact of the $L_2$ regularizer. \n",
    "We will implement a two-layer GCN similar to the one implemented in the exercises, but the last layer's activation fucntion is a Softmax. "
   ]
  },
  {
   "cell_type": "code",
   "execution_count": null,
   "id": "guilty-durham",
   "metadata": {},
   "outputs": [],
   "source": [
    "import pykeen\n",
    "\n",
    "# Adjacency matrix\n",
    "G     = email.S_undir.copy()\n",
    "A     = np.array(nx.adj_matrix(G, weight=None).todense())\n",
    "I     = np.eye(A.shape[0])\n",
    "A     = A + I # Add self loop\n",
    "\n",
    "# Degree matrix\n",
    "### YOUR CODE HERE\n",
    "\n",
    "# Normalized Laplacian\n",
    "    \n",
    "# Create input vectors\n",
    "\n",
    "### TODO your code here\n",
    "\n",
    "X = torch.tensor(X, dtype=torch.float, requires_grad=True) # Indicate to pytorch that we need gradients for this variable\n",
    "As = torch.tensor(A, dtype=torch.float)\n",
    "L = torch.tensor(L, dtype=torch.float)  # We don't need to learn this so no grad required."
   ]
  },
  {
   "cell_type": "code",
   "execution_count": null,
   "id": "digital-operation",
   "metadata": {},
   "outputs": [],
   "source": [
    "# Define a GCN\n",
    "class GCNLayer(nn.Module):\n",
    "    def __init__(self, L, input_features, output_features, activation=F.relu):\n",
    "        \"\"\"\n",
    "            Inputs:\n",
    "                L:               The \"Laplacian\" of the graph, as defined above\n",
    "                input_features:  The size of the input embedding\n",
    "                output_features: The size of the output embedding \n",
    "                activation:      Activation function sigma\n",
    "        \"\"\"\n",
    "        super().__init__()\n",
    "        \n",
    "        ### TODO Your code here\n",
    "\n",
    "        \n",
    "        ### TODO Your code here\n",
    "     \n",
    "    def forward(self, X):\n",
    "        ### TODO Your code here\n",
    "\n",
    "        \n",
    "        ### TODO Your code here\n",
    "        return X"
   ]
  },
  {
   "cell_type": "markdown",
   "id": "dedicated-exclusive",
   "metadata": {},
   "source": [
    "Define the modularity matrix and the modularity loss"
   ]
  },
  {
   "cell_type": "code",
   "execution_count": null,
   "id": "primary-stress",
   "metadata": {},
   "outputs": [],
   "source": [
    "def modularity_matrix(A):\n",
    "    B = None\n",
    "    ### YOUR CODE HERE\n",
    "\n",
    "    ### YOUR CODE HERE\n",
    "    return torch.tensor(B, dtype=torch.float)\n",
    "\n",
    "def modularity_loss(C, B, l = 0.01): \n",
    "    ''' Return the modularity loss\n",
    "\n",
    "        Args:\n",
    "            C: the node-community affinity matrix\n",
    "            B: the modularity matrix\n",
    "            l: the regularization factor\n",
    "            \n",
    "        :return the modularity loss as described at the beginning of the exercise\n",
    "    '''\n",
    "    loss = 0\n",
    "    ### YOUR CODE HERE\n",
    "\n",
    "    \n",
    "    ### YOUR CODE HERE\n",
    "    return loss"
   ]
  },
  {
   "cell_type": "markdown",
   "id": "improved-bacteria",
   "metadata": {},
   "source": [
    "Compute labels from communities"
   ]
  },
  {
   "cell_type": "code",
   "execution_count": null,
   "id": "packed-blond",
   "metadata": {},
   "outputs": [],
   "source": [
    "### Compute labels from communities\n",
    "labels = None\n",
    "### YOUR CODE HERE\n",
    "\n",
    "\n",
    "### YOUR CODE HERE\n"
   ]
  },
  {
   "cell_type": "markdown",
   "id": "gorgeous-prediction",
   "metadata": {},
   "source": [
    "Create the model"
   ]
  },
  {
   "cell_type": "code",
   "execution_count": null,
   "id": "bulgarian-prediction",
   "metadata": {},
   "outputs": [],
   "source": [
    "from sklearn.preprocessing import LabelEncoder\n",
    "import torch.nn.functional as F\n",
    "\n",
    "device = torch.device('cuda' if torch.cuda.is_available() else 'cpu')\n",
    "\n",
    "### Encode the labels with one-hot encoding\n",
    "def to_categorical(y):\n",
    "    \"\"\" 1-hot encodes a tensor \"\"\"\n",
    "    num_classes = np.unique(y).size\n",
    "    return np.eye(num_classes, dtype='uint8')[y]\n",
    "\n",
    "def encode_label(labels):\n",
    "    label_encoder = LabelEncoder()\n",
    "    labels = label_encoder.fit_transform(labels)\n",
    "    labels = to_categorical(labels)\n",
    "    return labels, label_encoder.classes_\n",
    "\n",
    "y, classes = encode_label(labels)\n",
    "y = torch.tensor(y)\n",
    "\n",
    "# Define convolutional network\n",
    "in_features, out_features = X.shape[1], classes.size # output features as many as the number of classes\n",
    "hidden_dim = 16\n",
    "\n",
    "# Stack two GCN layers as our model\n",
    "# nn.Sequential is an implicit nn.Module, which uses the layers in given order as the forward pass\n",
    "gcn = nn.Sequential(\n",
    "    GCNLayer(L, in_features, hidden_dim),\n",
    "    GCNLayer(L, hidden_dim, out_features, None),\n",
    "    nn.Softmax(dim=1)\n",
    ")\n",
    "gcn.to(device)"
   ]
  },
  {
   "cell_type": "markdown",
   "id": "manual-noise",
   "metadata": {},
   "source": [
    "Train the unsupervised model once "
   ]
  },
  {
   "cell_type": "code",
   "execution_count": null,
   "id": "pleased-array",
   "metadata": {},
   "outputs": [],
   "source": [
    "l = 100\n",
    "epochs = 2000\n",
    "\n",
    "def train_model(model, optimizer, X, B, epochs=100, print_every=10, batch_size = 2):\n",
    "    for epoch in range(epochs+1):\n",
    "        y_pred = model(X)\n",
    "        loss = modularity_loss(y_pred, B, l=l)\n",
    "\n",
    "        optimizer.zero_grad()\n",
    "        loss.backward()\n",
    "        optimizer.step()\n",
    "\n",
    "        if epoch % print_every == 0:\n",
    "            print(f'Epoch {epoch:2d}, loss={loss.item():.5f}')\n",
    "\n",
    "B = modularity_matrix(A)\n",
    "optimizer = torch.optim.Adam(gcn.parameters(), lr=0.01)\n",
    "train_model(gcn, optimizer, X, B, epochs=epochs, print_every=100)"
   ]
  },
  {
   "cell_type": "markdown",
   "id": "banner-secret",
   "metadata": {},
   "source": [
    "Evaluate your model using NMI. Since the initialization is random train the model 10 times and take the average NMI. Assign each node to the community with the highest probability. \n",
    "You should obtain an Average $\\text{NMI}\\approx0.5$.\n",
    "\n",
    "Plot the last graph with the nodes colored by commnitieis communities using ```plot_graph``` below. \n",
    "\n",
    "**Note**: You have to create the model 5 times otherwise you are keeping training the same model's parameters! "
   ]
  },
  {
   "cell_type": "code",
   "execution_count": null,
   "id": "liquid-hazard",
   "metadata": {},
   "outputs": [],
   "source": [
    "from sklearn.metrics.cluster import normalized_mutual_info_score\n",
    "\n",
    "def plot_graph(G, y_pred): \n",
    "    plt.figure(1,figsize=(15,5))\n",
    "    pos = nx.spring_layout(G)\n",
    "    ec = nx.draw_networkx_edges(G, pos, alpha=0.2)\n",
    "    nc = nx.draw_networkx_nodes(G, pos, nodelist=G.nodes(), node_color=y_pred, node_size=100, cmap=plt.cm.jet)\n",
    "    plt.axis('off')\n",
    "    plt.show()\n",
    "\n",
    "\n",
    "    \n",
    "### YOUR CODE STARTS HERE \n",
    "\n",
    "\n",
    "### YOUR CODE ENDS HERE"
   ]
  }
 ],
 "metadata": {
  "kernelspec": {
   "display_name": "base",
   "language": "python",
   "name": "python3"
  },
  "language_info": {
   "codemirror_mode": {
    "name": "ipython",
    "version": 3
   },
   "file_extension": ".py",
   "mimetype": "text/x-python",
   "name": "python",
   "nbconvert_exporter": "python",
   "pygments_lexer": "ipython3",
   "version": "3.9.7"
  },
  "vscode": {
   "interpreter": {
    "hash": "53c6573ba7f8a6e74d7db32f283b0f03dcf3bca683092fd2896b4584a137221f"
   }
  }
 },
 "nbformat": 4,
 "nbformat_minor": 5
}
