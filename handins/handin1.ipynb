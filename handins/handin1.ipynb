{
 "cells": [
  {
   "attachments": {},
   "cell_type": "markdown",
   "id": "overall-spider",
   "metadata": {},
   "source": [
    "# Data Mining - Handin 1 - Clustering \n",
    "Welcome to the handin on clustering algorithms and outlier detection. \n",
    "This handin corresponds to the topics in Week 5--9 in the course.\n",
    "\n",
    "The handin is \n",
    "* done in the chosen handin groups\n",
    "* worth 10% of the final grade\n",
    "\n",
    "For the handin, you will prepare a report in PDF format, by exporting the Jupyter notebook. \n",
    "Please submit\n",
    "1. The jupyter notebook file with your answers\n",
    "2. The PDF obtained by exporting the jupyter notebook\n",
    "\n",
    "Submit both files on Brightspace no later than **March 10th kl. 23:59**.\n",
    "\n",
    "**The grading system**: Tasks are assigned a number of points based on the difficulty and time to solve it. The sum of\n",
    "the number of points is 100. For the maximum grade you need to get at least _80 points_. The minimum grade (02 in the Danish scale)\n",
    "requires **at least** 30 points, with at least 8 points on of the first three Parts (Part 1,2,3) and 6 points in the last part (Part 4).\n",
    "\n",
    "**The exercise types**: There are three different types of exercises\n",
    "1. <span style='color: green'>**\\[Compute by hand\\]**</span> means that you should provide NO code, but show the main steps to reach the result (not all). \n",
    "2. <span style='color: green'>**\\[Motivate\\]**</span> means to provide a short answer of 1-2 lines indicating the main reasoning, e.g., the PageRank of a complete graph is 1/n in all nodes as all nodes are symmetric and are connected one another.\n",
    "3. <span style='color: green'>**\\[Describe\\]**</span> means to provide a potentially longer answer of 1-5 lines indicating the analysis of the data and the results. \n",
    "4. <span style='color: green'>**\\[Prove\\]**</span> means to provide a formal argument and NO code. \n",
    "5. <span style='color: green'>**\\[Implement\\]**</span> means to provide an implementation. Unless otherwise specified, you are allowed to use helper functions (e.g., ```np.mean```, ```itertools.combinations```, and so on). However, if the task is to implement an algorithm, by no means a call to a library that implements the same algorithm will be deemed as sufficient! \n",
    "\n",
    "<font color='red'>**!!! IMPORTANT: YOU ARE NOT ALLOWED TO USE LIBRARY FUNCTIONS (SCIPY, NUMPY etc.) UNLESS EXPLICITY MENTIONED !!!**\n",
    "</font>\n",
    "\n",
    "Good luck!"
   ]
  },
  {
   "cell_type": "code",
   "execution_count": 2,
   "id": "decimal-cause",
   "metadata": {},
   "outputs": [],
   "source": [
    "import sys\n",
    "#!conda install --yes --prefix {sys.prefix} seaborn"
   ]
  },
  {
   "cell_type": "code",
   "execution_count": 3,
   "id": "loaded-nicholas",
   "metadata": {},
   "outputs": [],
   "source": [
    "## DO NOT TOUCH\n",
    "import numpy as np\n",
    "import pandas as pd\n",
    "import warnings\n",
    "from sklearn.decomposition import PCA\n",
    "from sklearn.manifold import TSNE\n",
    "from sklearn.cluster import KMeans, DBSCAN, OPTICS\n",
    "from sklearn.preprocessing import StandardScaler, KBinsDiscretizer\n",
    "import time\n",
    "import seaborn as sns\n",
    "\n",
    "RANDOM_SEED = 132414\n",
    "## DO NOT TOUCH\n",
    "warnings.filterwarnings('ignore')\n",
    "%matplotlib inline\n",
    "import matplotlib.pyplot as plt\n",
    "\n",
    "wq = pd.read_csv(\"./data/winequality-red.csv\", sep=';')\n",
    "toy = wq[wq['quality'].isin([4, 8])].sample(n=20, random_state=RANDOM_SEED)"
   ]
  },
  {
   "cell_type": "markdown",
   "id": "reduced-regression",
   "metadata": {},
   "source": [
    "# Intro Excercises\n",
    "\n",
    "## Task 1.1 K-Means and DBScan\n",
    "\n",
    "### Task 1.1.1 (5 points)\n",
    "<span style='color: green'>**\\[Compute by hand\\]**</span> the cluster assignments _for the dataset below_ using k-means and $k = 2$, with initial centroids being (0, 0) and (1,1)\n",
    "\n",
    "<font color='red'>To evaluate (i.e., only to control the correctness and not to solve the exercise) your results you can use **sklearn.cluster.KMeans**.</font>\n"
   ]
  },
  {
   "cell_type": "code",
   "execution_count": 17,
   "id": "annoying-mapping",
   "metadata": {},
   "outputs": [
    {
     "data": {
      "image/png": "[encoded data removed]",
      "text/plain": [
       "<Figure size 432x288 with 1 Axes>"
      ]
     },
     "metadata": {
      "needs_background": "light"
     },
     "output_type": "display_data"
    }
   ],
   "source": [
    "color_map = {4:'Blue', 8:'Red'}\n",
    "X_kmeans = toy[[\"sulphates\", \"alcohol\"]]\n",
    "\n",
    "scaler = StandardScaler().fit(X_kmeans)\n",
    "X_scaled = scaler.transform(X_kmeans)\n",
    "\n",
    "plt.scatter(X_scaled[:, 0], X_scaled[:, 1], alpha=0.8, c=toy['quality'].map(color_map))\n",
    "plt.axis('equal');"
   ]
  },
  {
   "attachments": {},
   "cell_type": "markdown",
   "id": "collective-matter",
   "metadata": {},
   "source": [
    "*******************\n",
    "**Answer**\n",
    "\n",
    "We have that, when assigning points to a cluster, it is assigned as follows:\n",
    "\n",
    "$C_i =  \\{x \\in X : \\argmin_{i} ||x - \\mu_i||^2\\}$\n",
    "\n",
    "meaning that, for each point $x \\in X$, we compute the distance to each centroid $\\mu_i$ and assign it to the cluster with the closest centroid. Thus forming the clusters $C_i$, for i assigning all the different clusters.\n",
    "\n",
    "So, for the point in the lower left corner, we have that its coordinates are $p \\approx (-0.869, -1.252)$. We compute the distance to each centroid, and we have that: \n",
    "\n",
    "$||p - \\mu_1||^2 = \\sqrt{(-0.869-0)^2 + (-1.252-0)^2}^2 = (-0.869)^2 + (-1.252)^2 = 2.323$\n",
    "\n",
    "$||p - \\mu_2||^2 = \\sqrt{(-0.869-1)^2 + (-1.252-1)^2}^2 = (-1.869)^2 + (-2.252)^2 = 8.565$\n",
    "\n",
    "So, we assign the point to the cluster with the closest centroid, which is the cluster with centroid $\\mu_1 = (0,0)$, and we have that $C_1 = \\{p\\}$.\n",
    "\n",
    "Then we go through all the other points, to assign them to a cluster. We have that:\n",
    "\n",
    "$C_1 = [(-0.751, -0.545), (-0.456, 0.199), (-0.015, -0.694), (-0.456, -0.843),$\\\n",
    "$(-0.839, -0.843), (-0.604, 0.273), (-0.103, 0.720), (0.280, -0.694), (-0.721, -0.173),$\\\n",
    "$(0.397, -0.619), (-0.780, -0.843), (-0.486, 0.794), (-0.074, 0.497), (-0.280, 0.794),$\\\n",
    "$(1.045, -1.140), (-0.869, -1.252)]$\\\n",
    "$C_2 = [(0.280, 1.389), (0.280, 2.431), (3.754, -0.991), (0.397, 1.538)]$\n",
    "\n",
    "******************"
   ]
  },
  {
   "cell_type": "code",
   "execution_count": 15,
   "id": "3d65c9e7",
   "metadata": {},
   "outputs": [
    {
     "name": "stdout",
     "output_type": "stream",
     "text": [
      "The points falling in cluster C_1 are:\n",
      " [array([-0.75082858, -0.54497977]), array([-0.456386  ,  0.19901992]), array([-0.01472213, -0.69377971]), array([-0.456386  , -0.84257965]), array([-0.83916135, -0.84257965]), array([-0.60360729,  0.27341989]), array([-0.1030549,  0.7198197]), array([ 0.27972045, -0.69377971]), array([-0.72138432, -0.17297993]), array([ 0.39749748, -0.61937974]), array([-0.78027283, -0.84257965]), array([-0.48583026,  0.79421967]), array([-0.07361064,  0.49661979]), array([-0.27972045,  0.79421967]), array([ 1.04527116, -1.14017952]), array([-0.86860561, -1.25177947])]\n",
      "\n",
      "The points falling in cluster C_2 are:\n",
      " [array([0.27972045, 1.38941942]), array([0.27972045, 2.43101898]), array([ 3.75414288, -0.99137958]), array([0.39749748, 1.53821935])]\n",
      "\n",
      "We get the following labels:\n",
      " [0, 0, 0, 0, 1, 0, 1, 0, 0, 0, 0, 1, 0, 0, 0, 0, 0, 1, 0, 0]\n",
      " in the same order as the points in X_scaled\n"
     ]
    }
   ],
   "source": [
    "# Setting the initial centroids\n",
    "mu1, mu2 = [0, 0], [1, 1]\n",
    "\n",
    "def clustering_k2(X, mu1, mu2):\n",
    "\n",
    "    # Initializing the clusters\n",
    "    C1, C2 = [], []\n",
    "\n",
    "    # Set an empty list to store the labels\n",
    "    labels = []\n",
    "\n",
    "    # Loop over all the points in X_scaled using the method described above to assing each point to a cluster\n",
    "    for p in X:\n",
    "        # Distance from each centroid\n",
    "        d1 = (p[0] - mu1[0])**2 + (p[1] - mu1[1])**2\n",
    "        d2 = (p[0] - mu2[0])**2 + (p[1] - mu2[1])**2\n",
    "\n",
    "        # Assigning the point to the closest centroid\n",
    "        if d1 < d2:\n",
    "            C1.append(p)\n",
    "            labels.append(0)\n",
    "        else:\n",
    "            C2.append(p)\n",
    "            labels.append(1)\n",
    "        \n",
    "        \n",
    "    print(f'The points falling in cluster C_1 are:\\n {C1}\\n')\n",
    "    print(f'The points falling in cluster C_2 are:\\n {C2}\\n')\n",
    "    print(f'We get the following labels:\\n {labels}\\n in the same order as the points in X_scaled')\n",
    "\n",
    "clustering_k2(X_scaled, mu1, mu2)"
   ]
  },
  {
   "attachments": {},
   "cell_type": "markdown",
   "id": "b0c78f88",
   "metadata": {},
   "source": [
    "In order to evaluate the correctness of the results, we can use the sklearn.cluster.KMeans function. Which gives us the following results:\n"
   ]
  },
  {
   "cell_type": "code",
   "execution_count": 14,
   "id": "087a919a",
   "metadata": {},
   "outputs": [
    {
     "name": "stdout",
     "output_type": "stream",
     "text": [
      "Thus we get that the labels are:\n",
      " [0 0 0 0 1 0 1 0 0 0 0 1 0 0 0 0 0 1 0 0]\n",
      " in the same order as the points in X_scaled\n"
     ]
    }
   ],
   "source": [
    "# Assining the initial centroids to be used in the KMeans function below\n",
    "start_centroids = np.array([[0,0], [1,1]])\n",
    "\n",
    "# Setting up the KMeans function\n",
    "Centroids = KMeans(n_clusters=2, init=start_centroids, n_init=1, random_state=RANDOM_SEED)\n",
    "\n",
    "# Fitting the KMeans function to the data\n",
    "Centroids.fit(X_scaled)\n",
    "\n",
    "# Retrieving the labels from the KMeans function\n",
    "print(f'Thus we get that the labels are:\\n {Centroids.labels_}\\n in the same order as the points in X_scaled') "
   ]
  },
  {
   "attachments": {},
   "cell_type": "markdown",
   "id": "8a6af2d3",
   "metadata": {},
   "source": [
    "Thus validating our clustering results."
   ]
  },
  {
   "cell_type": "markdown",
   "id": "alive-somerset",
   "metadata": {},
   "source": [
    "### Task 1.1.2 (2 point)\n",
    "<span style='color: green'>**\\[Compute by hand\\]**</span> <br>\n",
    "A) Show two examples with two different initial cluster assignments that lead to a different result. <br>"
   ]
  },
  {
   "attachments": {},
   "cell_type": "markdown",
   "id": "functional-vertex",
   "metadata": {},
   "source": [
    "*******************\n",
    "**Answer**\n",
    "\n",
    "Two examples with two different initial cluster assignments that lead to a different result are:\n",
    "\n",
    "initial_cluster_1 = np.array([[0, 0], [1, 1]])\\\n",
    "initial_cluster_2 = np.array([[0, 0], [4, -1]])\n",
    "\n",
    "To see this, we can run the same function as above, but with the second initial cluster assignment, as we have already seen the results for the first one. Thus we get that:"
   ]
  },
  {
   "cell_type": "code",
   "execution_count": 16,
   "id": "2b87926c",
   "metadata": {},
   "outputs": [
    {
     "name": "stdout",
     "output_type": "stream",
     "text": [
      "The points falling in cluster C_1 are:\n",
      " [array([-0.75082858, -0.54497977]), array([-0.456386  ,  0.19901992]), array([-0.01472213, -0.69377971]), array([-0.456386  , -0.84257965]), array([0.27972045, 1.38941942]), array([-0.83916135, -0.84257965]), array([0.27972045, 2.43101898]), array([-0.60360729,  0.27341989]), array([-0.1030549,  0.7198197]), array([ 0.27972045, -0.69377971]), array([-0.72138432, -0.17297993]), array([ 0.39749748, -0.61937974]), array([-0.78027283, -0.84257965]), array([-0.48583026,  0.79421967]), array([-0.07361064,  0.49661979]), array([-0.27972045,  0.79421967]), array([0.39749748, 1.53821935]), array([ 1.04527116, -1.14017952]), array([-0.86860561, -1.25177947])]\n",
      "\n",
      "The points falling in cluster C_2 are:\n",
      " [array([ 3.75414288, -0.99137958])]\n",
      "\n",
      "We get the following labels:\n",
      " [0, 0, 0, 0, 0, 0, 0, 0, 0, 0, 0, 1, 0, 0, 0, 0, 0, 0, 0, 0]\n",
      " in the same order as the points in X_scaled\n"
     ]
    }
   ],
   "source": [
    "mu1, mu2 = [0,0], [4, -1]\n",
    "\n",
    "clustering_k2(X_scaled, mu1, mu2)"
   ]
  },
  {
   "attachments": {},
   "cell_type": "markdown",
   "id": "06d68fc3",
   "metadata": {},
   "source": [
    "Showing that, with the second initial centroid assignment, we only get one point into the second cluster, and the rest of the points are assigned to the first cluster. Thus resulting in a different clustering then the first initilization of the centroids.\n",
    "******************"
   ]
  },
  {
   "cell_type": "markdown",
   "id": "israeli-chicago",
   "metadata": {},
   "source": [
    "<span style='color: green'>**\\[Motivate\\]**</span> <br>\n",
    "B) How you explain the difference between the two cluster assignments in point A)?"
   ]
  },
  {
   "attachments": {},
   "cell_type": "markdown",
   "id": "unable-office",
   "metadata": {},
   "source": [
    "*******************\n",
    "**Answer**\n",
    "\n",
    "This difference, is caused by the fact, that our second initialization of the centroids, had the second cluster right next to the one outlier in the dataset. This resulted in all the other point except for the outlier to be assigned to the first cluster. Thus resulting in a different clustering then the first initilization of the centroids.\n",
    "\n",
    "\n",
    "******************"
   ]
  },
  {
   "attachments": {},
   "cell_type": "markdown",
   "id": "statutory-management",
   "metadata": {},
   "source": [
    "### Task 1.1.3 (5 points)\n",
    "<span style='color: green'>**\\[Compute by hand\\]**</span> the dendrogram for the dataset of Task 1.1.1. using **average-link**."
   ]
  },
  {
   "attachments": {},
   "cell_type": "markdown",
   "id": "specified-template",
   "metadata": {},
   "source": [
    "*******************\n",
    "**Answer**\n",
    "\n",
    "Jeg tror at vi skal genskabe plottet nedenfor...\n",
    "\n",
    "******************"
   ]
  },
  {
   "cell_type": "code",
   "execution_count": 21,
   "id": "aba76243",
   "metadata": {},
   "outputs": [
    {
     "data": {
      "image/png": "[encoded data removed]",
      "text/plain": [
       "<Figure size 1800x720 with 1 Axes>"
      ]
     },
     "metadata": {
      "needs_background": "light"
     },
     "output_type": "display_data"
    }
   ],
   "source": [
    "from scipy.cluster.hierarchy import dendrogram, linkage\n",
    "from matplotlib import pyplot as plt\n",
    "\n",
    "Z = linkage(X_scaled, 'average')\n",
    "fig = plt.figure(figsize=(25, 10))\n",
    "dn = dendrogram(Z)\n",
    "plt.show()"
   ]
  },
  {
   "cell_type": "markdown",
   "id": "first-benjamin",
   "metadata": {},
   "source": [
    "### Task 1.1.4 (2 points)\n",
    "A) <span style='color: green'>**\\[Compute by hand\\]**</span> the density-based clustering for the dataset of Task 1.1.1 using $\\epsilon=0.35$ and $MinPts=3$. Present at least 2 iterations of the algorithm.<br> \n",
    "<font color='red'>**IMPORTANT: For this exercise you can use the DBSCAN from sklearn ONLY TO CHECK YOUR RESULTS**</font>"
   ]
  },
  {
   "cell_type": "markdown",
   "id": "499e859f",
   "metadata": {},
   "source": [
    "*******************\n",
    "**YOUR ANSWER HERE**\n",
    "Let's start by randomly selecting a point from the dataset. We'll choose the first point: [-0.75082858, -0.54497977], which we call point 0\n",
    "\n",
    "We now calculate the distances between this point and all other points in the dataset using the Euclidean distance formula:\n",
    "\n",
    "d = sqrt((x2 - x1)^2 + (y2 - y1)^2)\n",
    "\n",
    "\n",
    "d_0 = sqrt((-0.75082858 - (-0.75082858))^2 + (-0.54497977 -(-0.54497977)^2) = 0\n",
    "d_1 = sqrt((-0.75082858 -(-0.456386))^2 + (-0.54497977 - 0.19901992)^2) = 0.8001449666737707\n",
    "\n",
    "d2-d10 = [0.7509954222039864, 0.4186431870723032, 2.191787287971323, 0.3104325442991004, 3.1493808695420027, 0.831535991863758, 1.421030763176982, 1.0412361494023215, 0.373163299558396, 4.527034422554428, 1.1507337193253573, 0.29905292167887026, 1.3651663797841393, 1.2423983969364318, 1.419647139702712, 2.378733136316918, 1.892151419342693, 0.7165453577794116]\n",
    "\n",
    "\n",
    "We now check if there are at least min_pts (3) points within the epsilon radius of 0.35 of the first point. We have that:\n",
    "[-0.83916135 -0.84257965], [-0.78027283 -0.84257965] is within epsilon radius of 0.35 of the first point, so we assign them to the same cluster as the point chosen and classify [-0.75082858, -0.54497977] as a core point.\n",
    "\n",
    "\n",
    "We now move on to the next point in our dataset and repeat the process for each of the unvisited points in the dataset until all points have been assigned to clusters or marked as noise.\n",
    "\n",
    "For the second point: point 1: [-0.456386, 0.19901992] we have the distances to all other points:\n",
    "d_0 = sqrt((-0.75082858 - (-0.456386))^2 + (-0.54497977 - 0.19901992)^2) = 0.8001449666737707\n",
    "d_1 = sqrt((-0.456386 -(-0.456386))^2 + (0.19901992 - 0.19901992)^2) = 0\n",
    "\n",
    "d2-d10 = [0.9960713547514121, 1.0415995627365955, 1.3996083998766535, 1.1097056456194665, 2.350249459105429, 0.16495291286596545, 0.6293451159653702, 1.1571274232008908, 0.4567362412714291, 4.375569041881148, 1.1827489143896828, 1.090794358413927, 0.5959276020502993, 0.4848532318824955, 0.6208650885982008, 1.5882607251489445, 2.01207090879681, 1.5082254076828203]\n",
    "\n",
    "here only point 7: [-0.60360729,  0.27341989] is within epsilon radius, which is less than min_pts in a cluster, so we assign point 1 [-0.456386, 0.19901992] as NOISE\n",
    "\n",
    "NOISE = [point 1: [-0.456386, 0.19901992]]\n",
    "\n",
    "We keep repeating for the remaining points in the dataset and we get\n",
    "Core_points = points[0,5,9,13,16]\n",
    "\n",
    "The remaining points are classified as NOISE:\n",
    "\n",
    "NOISE = ponts[1,2,3,4,6,7,10,11,14,17,18,19]\n",
    "\n",
    "\n",
    "We now collect all objects density-reachable from a core point \n",
    "and assign them to a new cluster.\n",
    "eg.  for point 0 we can create a cluster\n",
    "\n",
    "Cluster 0: [point 0: [-0.75082858 -0.54497977], point 5: [-0.83916135 -0.84257965], point 13: [-0.78027283 -0.84257965]]\n",
    "\n",
    "furthermore since point 3: [-0.456386   -0.84257965] is density reachable from the core point point 13, we add it to the cluster\n",
    "\n",
    "We keep repeating and finally have\n",
    "\n",
    "Cluster 0: [point 0: [-0.75082858 -0.54497977], point 3: [-0.456386   -0.84257965], point 5: [-0.83916135 -0.84257965], point 13: [-0.78027283 -0.84257965]]\n",
    "\n",
    "Cluster 1: [point 8: [-0.1030549   0.7198197 ], point 14: [-0.48583026  0.79421967], point 15: [-0.07361064  0.49661979], point 16: [-0.27972045  0.79421967]]\n",
    "\n",
    "Cluster 2: [point 2: [-0.01472213 -0.69377971], point 9: [ 0.27972045 -0.69377971],  point 12: [ 0.39749748 -0.61937974]]\n",
    "\n",
    "The remaining 9 points are classified as NOISE:\n",
    "\n",
    "NOISE = ponts[1,4,6,7,10,11,17,18,19]\n",
    "******************"
   ]
  },
  {
   "cell_type": "code",
   "execution_count": null,
   "id": "a2a458ad",
   "metadata": {},
   "outputs": [
    {
     "ename": "NameError",
     "evalue": "name 'X_scaled' is not defined",
     "output_type": "error",
     "traceback": [
      "\u001b[0;31m---------------------------------------------------------------------------\u001b[0m\n",
      "\u001b[0;31mNameError\u001b[0m                                 Traceback (most recent call last)\n",
      "\u001b[1;32m/Users/dexterlam/Desktop/handin1-kopi.ipynb Cell 17\u001b[0m in \u001b[0;36m<cell line: 5>\u001b[0;34m()\u001b[0m\n",
      "\u001b[1;32m      <a href='vscode-notebook-cell:/Users/dexterlam/Desktop/handin1-kopi.ipynb#X22sZmlsZQ%3D%3D?line=0'>1</a>\u001b[0m distances \u001b[39m=\u001b[39m []\n",
      "\u001b[1;32m      <a href='vscode-notebook-cell:/Users/dexterlam/Desktop/handin1-kopi.ipynb#X22sZmlsZQ%3D%3D?line=1'>2</a>\u001b[0m neighbors \u001b[39m=\u001b[39m[]\n",
      "\u001b[0;32m----> <a href='vscode-notebook-cell:/Users/dexterlam/Desktop/handin1-kopi.ipynb#X22sZmlsZQ%3D%3D?line=4'>5</a>\u001b[0m point \u001b[39m=\u001b[39m X_scaled[\u001b[39m0\u001b[39m]\n",
      "\u001b[1;32m      <a href='vscode-notebook-cell:/Users/dexterlam/Desktop/handin1-kopi.ipynb#X22sZmlsZQ%3D%3D?line=5'>6</a>\u001b[0m \u001b[39mfor\u001b[39;00m p \u001b[39min\u001b[39;00m \u001b[39mrange\u001b[39m(\u001b[39mlen\u001b[39m(X_scaled)):\n",
      "\u001b[1;32m      <a href='vscode-notebook-cell:/Users/dexterlam/Desktop/handin1-kopi.ipynb#X22sZmlsZQ%3D%3D?line=6'>7</a>\u001b[0m         \u001b[39m# Distance from each centroid\u001b[39;00m\n",
      "\u001b[1;32m      <a href='vscode-notebook-cell:/Users/dexterlam/Desktop/handin1-kopi.ipynb#X22sZmlsZQ%3D%3D?line=7'>8</a>\u001b[0m         d \u001b[39m=\u001b[39m np\u001b[39m.\u001b[39mlinalg\u001b[39m.\u001b[39mnorm(point \u001b[39m-\u001b[39m X_scaled[p])\n",
      "\n",
      "\u001b[0;31mNameError\u001b[0m: name 'X_scaled' is not defined"
     ]
    }
   ],
   "source": [
    "distances = []\n",
    "neighbors =[]\n",
    "\n",
    "\n",
    "point = X_scaled[0]\n",
    "for p in range(len(X_scaled)):\n",
    "        # Distance from each centroid\n",
    "        d = np.linalg.norm(point - X_scaled[p])\n",
    "        distances.append(d)\n",
    "        if d <= 0.35:\n",
    "                neighbors.append(f\" point: {[X_scaled[p],p]} with distance {d}\")\n",
    "for i in neighbors:\n",
    "        print(i)\n",
    "\n"
   ]
  },
  {
   "cell_type": "markdown",
   "id": "checked-briefs",
   "metadata": {},
   "source": [
    "\n",
    "B) <span style='color: green'>**\\[Describe\\]**</span> the difference between the clusters obtained with DBSCAN and those obtained with KMeans in Task 1.1.1?"
   ]
  },
  {
   "cell_type": "markdown",
   "id": "settled-programming",
   "metadata": {},
   "source": [
    "*******************\n",
    "**YOUR ANSWER HERE**\n",
    "******************"
   ]
  },
  {
   "cell_type": "markdown",
   "id": "spanish-fields",
   "metadata": {},
   "source": [
    "## Task 1.2 Elliptic data set (2 points)\n",
    "<span style='color: green'>**\\[Describe\\]**</span> <br> \n",
    "After looking at the dataset _below_, you want to detect the red outlier point, assuming you know that it is an outlier. \n",
    "\n",
    "Which approach would be the most obvious to find the red outlier? Please (1) check the box and (2) motivate your answer below:\n",
    "- [ ] Distance based approach (with parameteres $\\pi=0.5$, $\\epsilon=2$ and euclidean distance)\n",
    "- [ ] Angle based approach\n",
    "- [ ] Depth based approach"
   ]
  },
  {
   "cell_type": "code",
   "execution_count": 10,
   "id": "suspended-legend",
   "metadata": {},
   "outputs": [
    {
     "data": {
      "image/png": "[encoded data removed]",
      "text/plain": [
       "<Figure size 432x288 with 1 Axes>"
      ]
     },
     "metadata": {
      "needs_background": "light"
     },
     "output_type": "display_data"
    }
   ],
   "source": [
    "D_new = np.array([[1.0, 2.0], # Red \n",
    "                [1., 1.0],\n",
    "                [0.5, 0.5],\n",
    "                [1, 0.5],\n",
    "                [0.5, 1],\n",
    "                [0.75, 0.75]\n",
    "                 ])\n",
    "\n",
    "plt.scatter(D_new[:, 0], D_new[:, 1], alpha=0.8, c = ['red' if i == 0 else 'blue' for i in range(len(D_new))])\n",
    "plt.axis([0, 2, 0,3])\n",
    "plt.show()"
   ]
  },
  {
   "cell_type": "markdown",
   "id": "c2321578",
   "metadata": {},
   "source": [
    "*******************\n",
    "**YOUR ANSWER HERE**\n",
    "The beset approach given the dataset is the depth-based approach. The depth of a point is defined as the number of half-spaces that contain the point. The deeper a point is, the less likely it is to be an outlier. Therefore, in this case, by computing the depth of each point, we can detect the red outlier point as the point with the smallest depth.\n",
    "\n",
    "\n",
    "The other two approaches, distance-based and angle-based, may not be as effective in detecting the red outlier point in this particular dataset.\n",
    "\n",
    "Distance-based approach:\n",
    "\n",
    "With the given dataset, a distance-based approach can be used to identify the point farthest from the cluster in the dataset\n",
    "\n",
    "Angle-based approach:\n",
    "\n",
    "The angle-based approach involves computing the angle between the reference point and each other point in the dataset. The red outlier point may not be identified as an outlier in this approach because it is located close to other points that have similar angles. Additionally, selecting an appropriate reference point can be challenging and may require prior knowledge about the dataset.\n",
    "\n",
    "Therefore, in this case, the depth-based approach is more appropriate since it considers the spatial distribution of the data and the relative position of each point with respect to the others, without depending on specific parameter values or reference points.\n",
    "******************"
   ]
  },
  {
   "cell_type": "markdown",
   "id": "southeast-extraction",
   "metadata": {},
   "source": [
    "## Task 1.3 Theoretical questions (4 points)\n",
    "<span style='color: green'>**\\[Prove\\]**</span> \n",
    "\n",
    "1. You are given a measure $d(x,y) = |x-y|$, prove that the measure is a metric \n",
    "2. Prove that $\\hat{\\Sigma}=\n",
    "\\frac{1}{n}\\sum_{i=1}^n (x_i -\\hat{\\mu}^\\top)\\cdot(x_i -\\hat{\\mu}^\\top)^\\top=E[(X-\\hat{\\mu})(X-\\hat{\\mu})^\\top]$"
   ]
  },
  {
   "attachments": {},
   "cell_type": "markdown",
   "id": "single-column",
   "metadata": {},
   "source": [
    "*******************\n",
    "**Answer**\n",
    "\n",
    "- 1. If $d(\\cdot, \\cdot)$ is a metric, it must satisfy the following axioms for all $p_i$ and $p_j$:\n",
    "\n",
    "a) $d(p_i,p_j) \\ge 0$\\\n",
    "b) $d(p_i,p_j) = 0 \\iff p_i = p_j$\\\n",
    "c) $d(p_i,p_j) = d(p_j,p_i)$\\\n",
    "d) $d(p_i,p_j) \\le d(p_i,p_k) + d(p_k,p_j)$ (the triangle inequality)\n",
    "\n",
    "Thus we need to check if our metric satisfies the criteria's above.\n",
    "\n",
    "a) $d(x,y) = |x-y| \\geq 0 \\quad \\forall x, y$\\\n",
    "b) $d(x,y) = |x-y| = 0 \\iff x = y$\\\n",
    "c) $d(x,y) = |x-y| = |y-x| = d(y,x)$\\\n",
    "d) $d(x,y) = |x-y| = |x-z+z-y| \\leq |x-z| + |z-y| = d(x,z) + d(z,y)$\n",
    "\n",
    "The first two criteria's are trivially satisfied, and the last two are also trivally satisfied by the properties of the absolute value function.\n",
    "\n",
    "- 2. Not sure if we have to prove LLN, or if we just have to show that vector multiplication can be written more compact in expectation form?\n",
    "\n",
    "******************"
   ]
  },
  {
   "cell_type": "markdown",
   "id": "metropolitan-artwork",
   "metadata": {},
   "source": [
    "# Part 2 Exploratory data analysis\n",
    "In this section, you will perform preliminary analysis on your data. These preliminary analysis are useful to understand how the data behaves, before running complex algorithms.<br>\n",
    "\n",
    "This dataset is about red wine variants of the Portuguese \"Vinho Verde\" wine. It only contains physicochemical and sensory variables, so no prices, grape types and such. Every sample  has also a class of quality which has scores between 1 and 10. It has been used and published with [Cortez et al., 2009](http://dx.doi.org/10.1016/j.dss.2009.05.016)"
   ]
  },
  {
   "cell_type": "code",
   "execution_count": 11,
   "id": "guilty-vegetable",
   "metadata": {},
   "outputs": [
    {
     "data": {
      "text/html": [
       "<div>\n",
       "<style scoped>\n",
       "    .dataframe tbody tr th:only-of-type {\n",
       "        vertical-align: middle;\n",
       "    }\n",
       "\n",
       "    .dataframe tbody tr th {\n",
       "        vertical-align: top;\n",
       "    }\n",
       "\n",
       "    .dataframe thead th {\n",
       "        text-align: right;\n",
       "    }\n",
       "</style>\n",
       "<table border=\"1\" class=\"dataframe\">\n",
       "  <thead>\n",
       "    <tr style=\"text-align: right;\">\n",
       "      <th></th>\n",
       "      <th>fixed acidity</th>\n",
       "      <th>volatile acidity</th>\n",
       "      <th>citric acid</th>\n",
       "      <th>residual sugar</th>\n",
       "      <th>chlorides</th>\n",
       "      <th>free sulfur dioxide</th>\n",
       "      <th>total sulfur dioxide</th>\n",
       "      <th>density</th>\n",
       "      <th>pH</th>\n",
       "      <th>sulphates</th>\n",
       "      <th>alcohol</th>\n",
       "      <th>quality</th>\n",
       "    </tr>\n",
       "  </thead>\n",
       "  <tbody>\n",
       "    <tr>\n",
       "      <th>18</th>\n",
       "      <td>7.4</td>\n",
       "      <td>0.590</td>\n",
       "      <td>0.08</td>\n",
       "      <td>4.4</td>\n",
       "      <td>0.086</td>\n",
       "      <td>6.0</td>\n",
       "      <td>29.0</td>\n",
       "      <td>0.9974</td>\n",
       "      <td>3.38</td>\n",
       "      <td>0.50</td>\n",
       "      <td>9.0</td>\n",
       "      <td>4</td>\n",
       "    </tr>\n",
       "    <tr>\n",
       "      <th>38</th>\n",
       "      <td>5.7</td>\n",
       "      <td>1.130</td>\n",
       "      <td>0.09</td>\n",
       "      <td>1.5</td>\n",
       "      <td>0.172</td>\n",
       "      <td>7.0</td>\n",
       "      <td>19.0</td>\n",
       "      <td>0.9940</td>\n",
       "      <td>3.50</td>\n",
       "      <td>0.48</td>\n",
       "      <td>9.8</td>\n",
       "      <td>4</td>\n",
       "    </tr>\n",
       "    <tr>\n",
       "      <th>41</th>\n",
       "      <td>8.8</td>\n",
       "      <td>0.610</td>\n",
       "      <td>0.30</td>\n",
       "      <td>2.8</td>\n",
       "      <td>0.088</td>\n",
       "      <td>17.0</td>\n",
       "      <td>46.0</td>\n",
       "      <td>0.9976</td>\n",
       "      <td>3.26</td>\n",
       "      <td>0.51</td>\n",
       "      <td>9.3</td>\n",
       "      <td>4</td>\n",
       "    </tr>\n",
       "    <tr>\n",
       "      <th>45</th>\n",
       "      <td>4.6</td>\n",
       "      <td>0.520</td>\n",
       "      <td>0.15</td>\n",
       "      <td>2.1</td>\n",
       "      <td>0.054</td>\n",
       "      <td>8.0</td>\n",
       "      <td>65.0</td>\n",
       "      <td>0.9934</td>\n",
       "      <td>3.90</td>\n",
       "      <td>0.56</td>\n",
       "      <td>13.1</td>\n",
       "      <td>4</td>\n",
       "    </tr>\n",
       "    <tr>\n",
       "      <th>73</th>\n",
       "      <td>8.3</td>\n",
       "      <td>0.675</td>\n",
       "      <td>0.26</td>\n",
       "      <td>2.1</td>\n",
       "      <td>0.084</td>\n",
       "      <td>11.0</td>\n",
       "      <td>43.0</td>\n",
       "      <td>0.9976</td>\n",
       "      <td>3.31</td>\n",
       "      <td>0.53</td>\n",
       "      <td>9.2</td>\n",
       "      <td>4</td>\n",
       "    </tr>\n",
       "  </tbody>\n",
       "</table>\n",
       "</div>"
      ],
      "text/plain": [
       "    fixed acidity  volatile acidity  citric acid  residual sugar  chlorides  \\\n",
       "18            7.4             0.590         0.08             4.4      0.086   \n",
       "38            5.7             1.130         0.09             1.5      0.172   \n",
       "41            8.8             0.610         0.30             2.8      0.088   \n",
       "45            4.6             0.520         0.15             2.1      0.054   \n",
       "73            8.3             0.675         0.26             2.1      0.084   \n",
       "\n",
       "    free sulfur dioxide  total sulfur dioxide  density    pH  sulphates  \\\n",
       "18                  6.0                  29.0   0.9974  3.38       0.50   \n",
       "38                  7.0                  19.0   0.9940  3.50       0.48   \n",
       "41                 17.0                  46.0   0.9976  3.26       0.51   \n",
       "45                  8.0                  65.0   0.9934  3.90       0.56   \n",
       "73                 11.0                  43.0   0.9976  3.31       0.53   \n",
       "\n",
       "    alcohol  quality  \n",
       "18      9.0        4  \n",
       "38      9.8        4  \n",
       "41      9.3        4  \n",
       "45     13.1        4  \n",
       "73      9.2        4  "
      ]
     },
     "execution_count": 11,
     "metadata": {},
     "output_type": "execute_result"
    }
   ],
   "source": [
    "toy = wq[wq['quality'].isin([4, 8])]\n",
    "data_np = toy.to_numpy()\n",
    "headers = [\"fixed acidity\",\"volatile acidity\",\"citric acid\",\"residual sugar\",\"chlorides\",\"free sulfur dioxide\",\"total sulfur dioxide\",\"density\",\"pH\",\"sulphates\",\"alcohol\",\"quality\"]\n",
    "X = data_np[:,:10]\n",
    "y = data_np[:,11]\n",
    "y = y.astype(int) - 1\n",
    "rows, cols = np.shape(X)\n",
    "toy.head()"
   ]
  },
  {
   "cell_type": "markdown",
   "id": "passive-ottawa",
   "metadata": {},
   "source": [
    "## Task 2.1 Correlation matrix\n",
    "### Task 2.1.1 (5 points)\n",
    "A) <span style='color: green'>**\\[Implement\\]**</span> in the code-box below the **correlation matrix** (not covariance matrix) among all the attributes. <br>\n",
    "<font color='red'>To CHECK your results you can use **numpy.corrcoef**.</font>"
   ]
  },
  {
   "cell_type": "code",
   "execution_count": 12,
   "id": "e47cb5b3",
   "metadata": {},
   "outputs": [
    {
     "data": {
      "text/plain": [
       "array([[7.40000e+00, 5.90000e-01, 8.00000e-02, 4.40000e+00, 8.60000e-02,\n",
       "        6.00000e+00, 2.90000e+01, 9.97400e-01, 3.38000e+00, 5.00000e-01],\n",
       "       [5.70000e+00, 1.13000e+00, 9.00000e-02, 1.50000e+00, 1.72000e-01,\n",
       "        7.00000e+00, 1.90000e+01, 9.94000e-01, 3.50000e+00, 4.80000e-01],\n",
       "       [8.80000e+00, 6.10000e-01, 3.00000e-01, 2.80000e+00, 8.80000e-02,\n",
       "        1.70000e+01, 4.60000e+01, 9.97600e-01, 3.26000e+00, 5.10000e-01],\n",
       "       [4.60000e+00, 5.20000e-01, 1.50000e-01, 2.10000e+00, 5.40000e-02,\n",
       "        8.00000e+00, 6.50000e+01, 9.93400e-01, 3.90000e+00, 5.60000e-01],\n",
       "       [8.30000e+00, 6.75000e-01, 2.60000e-01, 2.10000e+00, 8.40000e-02,\n",
       "        1.10000e+01, 4.30000e+01, 9.97600e-01, 3.31000e+00, 5.30000e-01],\n",
       "       [8.30000e+00, 6.25000e-01, 2.00000e-01, 1.50000e+00, 8.00000e-02,\n",
       "        2.70000e+01, 1.19000e+02, 9.97200e-01, 3.16000e+00, 1.12000e+00],\n",
       "       [5.00000e+00, 1.02000e+00, 4.00000e-02, 1.40000e+00, 4.50000e-02,\n",
       "        4.10000e+01, 8.50000e+01, 9.93800e-01, 3.75000e+00, 4.80000e-01],\n",
       "       [9.20000e+00, 5.20000e-01, 1.00000e+00, 3.40000e+00, 6.10000e-01,\n",
       "        3.20000e+01, 6.90000e+01, 9.99600e-01, 2.74000e+00, 2.00000e+00],\n",
       "       [7.60000e+00, 6.80000e-01, 2.00000e-02, 1.30000e+00, 7.20000e-02,\n",
       "        9.00000e+00, 2.00000e+01, 9.96500e-01, 3.17000e+00, 1.08000e+00],\n",
       "       [7.30000e+00, 5.50000e-01, 3.00000e-02, 1.60000e+00, 7.20000e-02,\n",
       "        1.70000e+01, 4.20000e+01, 9.95600e-01, 3.37000e+00, 4.80000e-01],\n",
       "       [7.90000e+00, 8.85000e-01, 3.00000e-02, 1.80000e+00, 5.80000e-02,\n",
       "        4.00000e+00, 8.00000e+00, 9.97200e-01, 3.36000e+00, 3.30000e-01],\n",
       "       [6.90000e+00, 1.09000e+00, 6.00000e-02, 2.10000e+00, 6.10000e-02,\n",
       "        1.20000e+01, 3.10000e+01, 9.94800e-01, 3.51000e+00, 4.30000e-01],\n",
       "       [8.40000e+00, 6.35000e-01, 3.60000e-01, 2.00000e+00, 8.90000e-02,\n",
       "        1.50000e+01, 5.50000e+01, 9.97450e-01, 3.31000e+00, 5.70000e-01],\n",
       "       [7.00000e+00, 9.75000e-01, 4.00000e-02, 2.00000e+00, 8.70000e-02,\n",
       "        1.20000e+01, 6.70000e+01, 9.95650e-01, 3.35000e+00, 6.00000e-01],\n",
       "       [8.10000e+00, 8.70000e-01, 0.00000e+00, 3.30000e+00, 9.60000e-02,\n",
       "        2.60000e+01, 6.10000e+01, 1.00025e+00, 3.60000e+00, 7.20000e-01],\n",
       "       [7.90000e+00, 3.50000e-01, 4.60000e-01, 3.60000e+00, 7.80000e-02,\n",
       "        1.50000e+01, 3.70000e+01, 9.97300e-01, 3.35000e+00, 8.60000e-01],\n",
       "       [1.03000e+01, 3.20000e-01, 4.50000e-01, 6.40000e+00, 7.30000e-02,\n",
       "        5.00000e+00, 1.30000e+01, 9.97600e-01, 3.23000e+00, 8.20000e-01],\n",
       "       [5.60000e+00, 8.50000e-01, 5.00000e-02, 1.40000e+00, 4.50000e-02,\n",
       "        1.20000e+01, 8.80000e+01, 9.92400e-01, 3.56000e+00, 8.20000e-01],\n",
       "       [1.25000e+01, 4.60000e-01, 4.90000e-01, 4.50000e+00, 7.00000e-02,\n",
       "        2.60000e+01, 4.90000e+01, 9.98100e-01, 3.05000e+00, 5.70000e-01],\n",
       "       [1.26000e+01, 3.10000e-01, 7.20000e-01, 2.20000e+00, 7.20000e-02,\n",
       "        6.00000e+00, 2.90000e+01, 9.98700e-01, 2.88000e+00, 8.20000e-01],\n",
       "       [1.13000e+01, 6.20000e-01, 6.70000e-01, 5.20000e+00, 8.60000e-02,\n",
       "        6.00000e+00, 1.90000e+01, 9.98800e-01, 3.22000e+00, 6.90000e-01],\n",
       "       [9.40000e+00, 3.00000e-01, 5.60000e-01, 2.80000e+00, 8.00000e-02,\n",
       "        6.00000e+00, 1.70000e+01, 9.96400e-01, 3.15000e+00, 9.20000e-01],\n",
       "       [1.07000e+01, 3.50000e-01, 5.30000e-01, 2.60000e+00, 7.00000e-02,\n",
       "        5.00000e+00, 1.60000e+01, 9.97200e-01, 3.15000e+00, 6.50000e-01],\n",
       "       [1.07000e+01, 3.50000e-01, 5.30000e-01, 2.60000e+00, 7.00000e-02,\n",
       "        5.00000e+00, 1.60000e+01, 9.97200e-01, 3.15000e+00, 6.50000e-01],\n",
       "       [1.05000e+01, 5.90000e-01, 4.90000e-01, 2.10000e+00, 7.00000e-02,\n",
       "        1.40000e+01, 4.70000e+01, 9.99100e-01, 3.30000e+00, 5.60000e-01],\n",
       "       [9.90000e+00, 5.00000e-01, 2.40000e-01, 2.30000e+00, 1.03000e-01,\n",
       "        6.00000e+00, 1.40000e+01, 9.97800e-01, 3.34000e+00, 5.20000e-01],\n",
       "       [5.00000e+00, 4.20000e-01, 2.40000e-01, 2.00000e+00, 6.00000e-02,\n",
       "        1.90000e+01, 5.00000e+01, 9.91700e-01, 3.72000e+00, 7.40000e-01],\n",
       "       [8.20000e+00, 9.15000e-01, 2.70000e-01, 2.10000e+00, 8.80000e-02,\n",
       "        7.00000e+00, 2.30000e+01, 9.96200e-01, 3.26000e+00, 4.70000e-01],\n",
       "       [1.01000e+01, 9.35000e-01, 2.20000e-01, 3.40000e+00, 1.05000e-01,\n",
       "        1.10000e+01, 8.60000e+01, 1.00100e+00, 3.43000e+00, 6.40000e-01],\n",
       "       [8.30000e+00, 8.45000e-01, 1.00000e-02, 2.20000e+00, 7.00000e-02,\n",
       "        5.00000e+00, 1.40000e+01, 9.96700e-01, 3.32000e+00, 5.80000e-01],\n",
       "       [7.10000e+00, 8.40000e-01, 2.00000e-02, 4.40000e+00, 9.60000e-02,\n",
       "        5.00000e+00, 1.30000e+01, 9.97000e-01, 3.41000e+00, 5.70000e-01],\n",
       "       [7.50000e+00, 3.80000e-01, 4.80000e-01, 2.60000e+00, 7.30000e-02,\n",
       "        2.20000e+01, 8.40000e+01, 9.97200e-01, 3.32000e+00, 7.00000e-01],\n",
       "       [9.10000e+00, 7.65000e-01, 4.00000e-02, 1.60000e+00, 7.80000e-02,\n",
       "        4.00000e+00, 1.40000e+01, 9.98000e-01, 3.29000e+00, 5.40000e-01],\n",
       "       [7.50000e+00, 1.11500e+00, 1.00000e-01, 3.10000e+00, 8.60000e-02,\n",
       "        5.00000e+00, 1.20000e+01, 9.95800e-01, 3.54000e+00, 6.00000e-01],\n",
       "       [6.90000e+00, 3.90000e-01, 2.40000e-01, 2.10000e+00, 1.02000e-01,\n",
       "        4.00000e+00, 7.00000e+00, 9.94620e-01, 3.44000e+00, 5.80000e-01],\n",
       "       [7.80000e+00, 5.70000e-01, 9.00000e-02, 2.30000e+00, 6.50000e-02,\n",
       "        3.40000e+01, 4.50000e+01, 9.94170e-01, 3.46000e+00, 7.40000e-01],\n",
       "       [7.50000e+00, 6.85000e-01, 7.00000e-02, 2.50000e+00, 5.80000e-02,\n",
       "        5.00000e+00, 9.00000e+00, 9.96320e-01, 3.38000e+00, 5.50000e-01],\n",
       "       [1.16000e+01, 4.70000e-01, 4.40000e-01, 1.60000e+00, 1.47000e-01,\n",
       "        3.60000e+01, 5.10000e+01, 9.98360e-01, 3.38000e+00, 8.60000e-01],\n",
       "       [7.30000e+00, 3.50000e-01, 2.40000e-01, 2.00000e+00, 6.70000e-02,\n",
       "        2.80000e+01, 4.80000e+01, 9.95760e-01, 3.43000e+00, 5.40000e-01],\n",
       "       [7.10000e+00, 4.70000e-01, 0.00000e+00, 2.20000e+00, 6.70000e-02,\n",
       "        7.00000e+00, 1.40000e+01, 9.95170e-01, 3.40000e+00, 5.80000e-01],\n",
       "       [8.40000e+00, 6.70000e-01, 1.90000e-01, 2.20000e+00, 9.30000e-02,\n",
       "        1.10000e+01, 7.50000e+01, 9.97360e-01, 3.20000e+00, 5.90000e-01],\n",
       "       [1.20000e+01, 6.30000e-01, 5.00000e-01, 1.40000e+00, 7.10000e-02,\n",
       "        6.00000e+00, 2.60000e+01, 9.97910e-01, 3.07000e+00, 6.00000e-01],\n",
       "       [9.10000e+00, 4.00000e-01, 5.00000e-01, 1.80000e+00, 7.10000e-02,\n",
       "        7.00000e+00, 1.60000e+01, 9.94620e-01, 3.21000e+00, 6.90000e-01],\n",
       "       [1.00000e+01, 2.60000e-01, 5.40000e-01, 1.90000e+00, 8.30000e-02,\n",
       "        4.20000e+01, 7.40000e+01, 9.94510e-01, 2.98000e+00, 6.30000e-01],\n",
       "       [7.90000e+00, 5.40000e-01, 3.40000e-01, 2.50000e+00, 7.60000e-02,\n",
       "        8.00000e+00, 1.70000e+01, 9.92350e-01, 3.20000e+00, 7.20000e-01],\n",
       "       [6.50000e+00, 5.80000e-01, 0.00000e+00, 2.20000e+00, 9.60000e-02,\n",
       "        3.00000e+00, 1.30000e+01, 9.95570e-01, 3.62000e+00, 6.20000e-01],\n",
       "       [6.50000e+00, 8.80000e-01, 3.00000e-02, 5.60000e+00, 7.90000e-02,\n",
       "        2.30000e+01, 4.70000e+01, 9.95720e-01, 3.58000e+00, 5.00000e-01],\n",
       "       [8.80000e+00, 9.55000e-01, 5.00000e-02, 1.80000e+00, 7.50000e-02,\n",
       "        5.00000e+00, 1.90000e+01, 9.96160e-01, 3.30000e+00, 4.40000e-01],\n",
       "       [8.60000e+00, 4.20000e-01, 3.90000e-01, 1.80000e+00, 6.80000e-02,\n",
       "        6.00000e+00, 1.20000e+01, 9.95160e-01, 3.35000e+00, 6.90000e-01],\n",
       "       [1.02000e+01, 2.30000e-01, 3.70000e-01, 2.20000e+00, 5.70000e-02,\n",
       "        1.40000e+01, 3.60000e+01, 9.96140e-01, 3.23000e+00, 4.90000e-01],\n",
       "       [6.00000e+00, 3.30000e-01, 3.20000e-01, 1.29000e+01, 5.40000e-02,\n",
       "        6.00000e+00, 1.13000e+02, 9.95720e-01, 3.30000e+00, 5.60000e-01],\n",
       "       [8.10000e+00, 7.30000e-01, 0.00000e+00, 2.50000e+00, 8.10000e-02,\n",
       "        1.20000e+01, 2.40000e+01, 9.97980e-01, 3.38000e+00, 4.60000e-01],\n",
       "       [6.50000e+00, 6.70000e-01, 0.00000e+00, 4.30000e+00, 5.70000e-02,\n",
       "        1.10000e+01, 2.00000e+01, 9.94880e-01, 3.45000e+00, 5.60000e-01],\n",
       "       [6.30000e+00, 1.02000e+00, 0.00000e+00, 2.00000e+00, 8.30000e-02,\n",
       "        1.70000e+01, 2.40000e+01, 9.94370e-01, 3.59000e+00, 5.50000e-01],\n",
       "       [8.20000e+00, 7.80000e-01, 0.00000e+00, 2.20000e+00, 8.90000e-02,\n",
       "        1.30000e+01, 2.60000e+01, 9.97800e-01, 3.37000e+00, 4.60000e-01],\n",
       "       [5.50000e+00, 4.90000e-01, 3.00000e-02, 1.80000e+00, 4.40000e-02,\n",
       "        2.80000e+01, 8.70000e+01, 9.90800e-01, 3.50000e+00, 8.20000e-01],\n",
       "       [8.50000e+00, 4.00000e-01, 4.00000e-01, 6.30000e+00, 5.00000e-02,\n",
       "        3.00000e+00, 1.00000e+01, 9.95660e-01, 3.28000e+00, 5.60000e-01],\n",
       "       [7.50000e+00, 7.55000e-01, 0.00000e+00, 1.90000e+00, 8.40000e-02,\n",
       "        6.00000e+00, 1.20000e+01, 9.96720e-01, 3.34000e+00, 4.90000e-01],\n",
       "       [6.80000e+00, 6.80000e-01, 9.00000e-02, 3.90000e+00, 6.80000e-02,\n",
       "        1.50000e+01, 2.90000e+01, 9.95240e-01, 3.41000e+00, 5.20000e-01],\n",
       "       [8.00000e+00, 8.30000e-01, 2.70000e-01, 2.00000e+00, 8.00000e-02,\n",
       "        1.10000e+01, 6.30000e+01, 9.96520e-01, 3.29000e+00, 4.80000e-01],\n",
       "       [6.60000e+00, 6.10000e-01, 0.00000e+00, 1.60000e+00, 6.90000e-02,\n",
       "        4.00000e+00, 8.00000e+00, 9.93960e-01, 3.33000e+00, 3.70000e-01],\n",
       "       [7.20000e+00, 3.30000e-01, 3.30000e-01, 1.70000e+00, 6.10000e-02,\n",
       "        3.00000e+00, 1.30000e+01, 9.96000e-01, 3.23000e+00, 1.10000e+00],\n",
       "       [6.40000e+00, 5.30000e-01, 9.00000e-02, 3.90000e+00, 1.23000e-01,\n",
       "        1.40000e+01, 3.10000e+01, 9.96800e-01, 3.50000e+00, 6.70000e-01],\n",
       "       [7.20000e+00, 3.80000e-01, 3.10000e-01, 2.00000e+00, 5.60000e-02,\n",
       "        1.50000e+01, 2.90000e+01, 9.94720e-01, 3.23000e+00, 7.60000e-01],\n",
       "       [6.20000e+00, 7.85000e-01, 0.00000e+00, 2.10000e+00, 6.00000e-02,\n",
       "        6.00000e+00, 1.30000e+01, 9.96640e-01, 3.59000e+00, 6.10000e-01],\n",
       "       [6.70000e+00, 1.04000e+00, 8.00000e-02, 2.30000e+00, 6.70000e-02,\n",
       "        1.90000e+01, 3.20000e+01, 9.96480e-01, 3.52000e+00, 5.70000e-01],\n",
       "       [5.60000e+00, 6.20000e-01, 3.00000e-02, 1.50000e+00, 8.00000e-02,\n",
       "        6.00000e+00, 1.30000e+01, 9.94980e-01, 3.66000e+00, 6.20000e-01],\n",
       "       [7.20000e+00, 5.80000e-01, 5.40000e-01, 2.10000e+00, 1.14000e-01,\n",
       "        3.00000e+00, 9.00000e+00, 9.97190e-01, 3.33000e+00, 5.70000e-01],\n",
       "       [6.80000e+00, 9.10000e-01, 6.00000e-02, 2.00000e+00, 6.00000e-02,\n",
       "        4.00000e+00, 1.10000e+01, 9.95920e-01, 3.53000e+00, 6.40000e-01],\n",
       "       [6.90000e+00, 4.80000e-01, 2.00000e-01, 1.90000e+00, 8.20000e-02,\n",
       "        9.00000e+00, 2.30000e+01, 9.95850e-01, 3.39000e+00, 4.30000e-01],\n",
       "       [7.40000e+00, 3.60000e-01, 3.00000e-01, 1.80000e+00, 7.40000e-02,\n",
       "        1.70000e+01, 2.40000e+01, 9.94190e-01, 3.24000e+00, 7.00000e-01]])"
      ]
     },
     "execution_count": 12,
     "metadata": {},
     "output_type": "execute_result"
    }
   ],
   "source": [
    "X"
   ]
  },
  {
   "cell_type": "code",
   "execution_count": null,
   "id": "4edb3ceb",
   "metadata": {},
   "outputs": [
    {
     "name": "stdout",
     "output_type": "stream",
     "text": [
      "[[1, -0.32601657683847257, 0.6521302274742028, 0.03493438656618914, 0.1276712246300788, 0.00721408143842016, -0.09335370290670614, 0.6518393555872984, -0.7348850846057341, 0.15409619631135862, -0.20624830227625718, 0.19359054263958747], [-0.32601657683847257, 1, -0.5964048351399217, -0.18276595476303115, 0.006695121004310826, -0.05762256568603232, -0.012511707790229799, 0.030877132465994158, 0.4360812397422024, -0.3030244745590644, -0.20033037584867222, -0.5048962791868324], [0.6521302274742028, -0.5964048351399217, 1, 0.16350495835323509, 0.41314537114076105, 0.1089333169736447, 0.09817644843151146, 0.3324457672160988, -0.7024543456464125, 0.5033454599029221, 0.09151063635401442, 0.4306258751235469], [0.03493438656618914, -0.18276595476303115, 0.16350495835323509, 1, 0.019655631306707767, -0.10172705171893798, 0.18164278438037024, 0.16776100303469146, -0.07800123824680011, 0.0010805504640967426, 0.22429037784636513, -0.03058153816046265], [0.1276712246300788, 0.006695121004310826, 0.41314537114076105, 0.019655631306707767, 1, 0.22875324890174703, 0.10687776900524952, 0.311387790025916, -0.37115019043438036, 0.6745559968200553, -0.20769039837331688, -0.14618950059038924], [0.00721408143842016, -0.05762256568603232, 0.1089333169736447, -0.10172705171893798, 0.22875324890174703, 1, 0.6295026644204577, -0.07375084312801586, 0.00020474676472789156, 0.2811419413969995, 0.00999211479453455, 0.04656926719626171], [-0.09335370290670614, -0.012511707790229799, 0.09817644843151146, 0.18164278438037024, 0.10687776900524952, 0.6295026644204577, 1, -0.008714019190938168, 0.011617768590369136, 0.24911573910795035, 0.0035092496092082827, -0.045611697085719445], [0.6518393555872984, 0.030877132465994158, 0.3324457672160988, 0.16776100303469146, 0.311387790025916, -0.07375084312801586, -0.008714019190938168, 1, -0.41979416914857043, 0.14347497445564528, -0.5421349725865546, -0.3090397463833228], [-0.7348850846057341, 0.4360812397422024, -0.7024543456464125, -0.07800123824680011, -0.37115019043438036, 0.00020474676472789156, 0.011617768590369136, -0.41979416914857043, 1, -0.4284333278729068, 0.27277524793749824, -0.2612334652019338], [0.15409619631135862, -0.3030244745590644, 0.5033454599029221, 0.0010805504640967426, 0.6745559968200553, 0.2811419413969995, 0.24911573910795035, 0.14347497445564528, -0.4284333278729068, 1, 0.10304130692486414, 0.33102121000665546], [-0.20624830227625718, -0.20033037584867222, 0.09151063635401442, 0.22429037784636513, -0.20769039837331688, 0.00999211479453455, 0.0035092496092082827, -0.5421349725865546, 0.27277524793749824, 0.10304130692486414, 1, 0.6229456196183382], [0.19359054263958747, -0.5048962791868324, 0.4306258751235469, -0.03058153816046265, -0.14618950059038924, 0.04656926719626171, -0.045611697085719445, -0.3090397463833228, -0.2612334652019338, 0.33102121000665546, 0.6229456196183382, 1]]\n"
     ]
    },
    {
     "data": {
      "text/plain": [
       "<matplotlib.colorbar.Colorbar at 0x7fa552885d60>"
      ]
     },
     "metadata": {},
     "output_type": "display_data"
    },
    {
     "data": {
      "image/png": "[encoded data removed]",
      "text/plain": [
       "<Figure size 480x480 with 2 Axes>"
      ]
     },
     "metadata": {},
     "output_type": "display_data"
    }
   ],
   "source": [
    "def correlation_matrix(X):\n",
    "    corr = None\n",
    "    # YOUR CODE HERE\n",
    "    \n",
    "    data = X\n",
    "    \n",
    "\n",
    "# Compute the correlation matrix\n",
    "    n = len(data)\n",
    "    means = [sum(x) / n for x in data.T]\n",
    "    stddevs = []\n",
    "    for i in range(len(data[0])):\n",
    "        std = [(x[i] - means[i])**2 for x in data]\n",
    "        stddevs.append((sum(std) / n)**0.5)\n",
    "\n",
    "\n",
    "\n",
    "    corr = [[0 for _ in range(len(data[0]))] for _ in range(len(data[0]))]\n",
    "\n",
    "\n",
    "    for i in range(len(data[0])):\n",
    "        for j in range(len(data[0])):\n",
    "            if i == j:\n",
    "                corr[i][j] = 1\n",
    "            else:\n",
    "                cov = sum((data[k][i] - means[i]) * (data[k][j] - means[j]) for k in range(n)) /n\n",
    "                corr[i][j] = cov / (stddevs[i] * stddevs[j])\n",
    "    \n",
    "\n",
    "    # YOUR CODE HERE \n",
    "    return corr\n",
    "    \n",
    "X = data_np\n",
    "Corr = correlation_matrix(X)\n",
    "print(Corr)\n",
    "plt.matshow(Corr)\n",
    "plt.colorbar()"
   ]
  },
  {
   "cell_type": "code",
   "execution_count": null,
   "id": "4dea6c51",
   "metadata": {},
   "outputs": [
    {
     "data": {
      "text/plain": [
       "array([[ 1.00000000e+00, -3.26016577e-01,  6.52130227e-01,\n",
       "         3.49343866e-02,  1.27671225e-01,  7.21408144e-03,\n",
       "        -9.33537029e-02,  6.51839356e-01, -7.34885085e-01,\n",
       "         1.54096196e-01, -2.06248302e-01,  1.93590543e-01],\n",
       "       [-3.26016577e-01,  1.00000000e+00, -5.96404835e-01,\n",
       "        -1.82765955e-01,  6.69512100e-03, -5.76225657e-02,\n",
       "        -1.25117078e-02,  3.08771325e-02,  4.36081240e-01,\n",
       "        -3.03024475e-01, -2.00330376e-01, -5.04896279e-01],\n",
       "       [ 6.52130227e-01, -5.96404835e-01,  1.00000000e+00,\n",
       "         1.63504958e-01,  4.13145371e-01,  1.08933317e-01,\n",
       "         9.81764484e-02,  3.32445767e-01, -7.02454346e-01,\n",
       "         5.03345460e-01,  9.15106364e-02,  4.30625875e-01],\n",
       "       [ 3.49343866e-02, -1.82765955e-01,  1.63504958e-01,\n",
       "         1.00000000e+00,  1.96556313e-02, -1.01727052e-01,\n",
       "         1.81642784e-01,  1.67761003e-01, -7.80012382e-02,\n",
       "         1.08055046e-03,  2.24290378e-01, -3.05815382e-02],\n",
       "       [ 1.27671225e-01,  6.69512100e-03,  4.13145371e-01,\n",
       "         1.96556313e-02,  1.00000000e+00,  2.28753249e-01,\n",
       "         1.06877769e-01,  3.11387790e-01, -3.71150190e-01,\n",
       "         6.74555997e-01, -2.07690398e-01, -1.46189501e-01],\n",
       "       [ 7.21408144e-03, -5.76225657e-02,  1.08933317e-01,\n",
       "        -1.01727052e-01,  2.28753249e-01,  1.00000000e+00,\n",
       "         6.29502664e-01, -7.37508431e-02,  2.04746765e-04,\n",
       "         2.81141941e-01,  9.99211479e-03,  4.65692672e-02],\n",
       "       [-9.33537029e-02, -1.25117078e-02,  9.81764484e-02,\n",
       "         1.81642784e-01,  1.06877769e-01,  6.29502664e-01,\n",
       "         1.00000000e+00, -8.71401919e-03,  1.16177686e-02,\n",
       "         2.49115739e-01,  3.50924961e-03, -4.56116971e-02],\n",
       "       [ 6.51839356e-01,  3.08771325e-02,  3.32445767e-01,\n",
       "         1.67761003e-01,  3.11387790e-01, -7.37508431e-02,\n",
       "        -8.71401919e-03,  1.00000000e+00, -4.19794169e-01,\n",
       "         1.43474974e-01, -5.42134973e-01, -3.09039746e-01],\n",
       "       [-7.34885085e-01,  4.36081240e-01, -7.02454346e-01,\n",
       "        -7.80012382e-02, -3.71150190e-01,  2.04746765e-04,\n",
       "         1.16177686e-02, -4.19794169e-01,  1.00000000e+00,\n",
       "        -4.28433328e-01,  2.72775248e-01, -2.61233465e-01],\n",
       "       [ 1.54096196e-01, -3.03024475e-01,  5.03345460e-01,\n",
       "         1.08055046e-03,  6.74555997e-01,  2.81141941e-01,\n",
       "         2.49115739e-01,  1.43474974e-01, -4.28433328e-01,\n",
       "         1.00000000e+00,  1.03041307e-01,  3.31021210e-01],\n",
       "       [-2.06248302e-01, -2.00330376e-01,  9.15106364e-02,\n",
       "         2.24290378e-01, -2.07690398e-01,  9.99211479e-03,\n",
       "         3.50924961e-03, -5.42134973e-01,  2.72775248e-01,\n",
       "         1.03041307e-01,  1.00000000e+00,  6.22945620e-01],\n",
       "       [ 1.93590543e-01, -5.04896279e-01,  4.30625875e-01,\n",
       "        -3.05815382e-02, -1.46189501e-01,  4.65692672e-02,\n",
       "        -4.56116971e-02, -3.09039746e-01, -2.61233465e-01,\n",
       "         3.31021210e-01,  6.22945620e-01,  1.00000000e+00]])"
      ]
     },
     "metadata": {},
     "output_type": "display_data"
    }
   ],
   "source": [
    "np.corrcoef(X, rowvar=False)"
   ]
  },
  {
   "cell_type": "markdown",
   "id": "suburban-volume",
   "metadata": {},
   "source": [
    "<span style='color: green'>**\\[Motivate\\]**</span><br>\n",
    "B) By observing the  **correlation matrix** in point A), which pair of different attributes has the highest correlation? <br>"
   ]
  },
  {
   "cell_type": "markdown",
   "id": "47547d6c",
   "metadata": {},
   "source": [
    "*******************\n",
    "By observing the correlation matrix, we can see that the pair of attributes with the highest positive correlation is chlorides and sulphates. The correlation coefficient between these two attributes is 0,6746, which is the highest among all the pairs of attributes in the dataset.\n",
    "\n",
    "The pair of attributes with the highest negative correlation is fixed acidity and pH. The correlation coefficient between these two attributes is -0.7349.\n",
    "******************"
   ]
  },
  {
   "cell_type": "code",
   "execution_count": null,
   "id": "38db12e2",
   "metadata": {},
   "outputs": [
    {
     "name": "stdout",
     "output_type": "stream",
     "text": [
      "(array([4, 9]), array([9, 4]))\n"
     ]
    },
    {
     "data": {
      "text/plain": [
       "0.6745559968200553"
      ]
     },
     "metadata": {},
     "output_type": "display_data"
    }
   ],
   "source": [
    "for i in range(len(Corr)):\n",
    "    for j in range(len(Corr[i])):\n",
    "        if Corr[i][j]==1:\n",
    "            Corr[i][j]=0\n",
    "\n",
    "\n",
    "print(np.where(Corr == np.amax(Corr)))\n",
    "np.max(Corr)\n",
    "\n",
    "print(Corr[5][6])\n",
    "Corr[9][4]"
   ]
  },
  {
   "cell_type": "markdown",
   "id": "higher-senator",
   "metadata": {},
   "source": [
    "<span style='color: green'>**\\[Motivate\\]**</span><br>\n",
    "C) What does it mean that two attributs are highly correlated? <br>"
   ]
  },
  {
   "cell_type": "markdown",
   "id": "2525b8ab",
   "metadata": {},
   "source": [
    "*******************\n",
    "If two attributes are highly correlated, it means that changes in one variable are associated with changes in the other variable. In other words, when one attribute changes, there is a tendency for the other attribute to change as well. This indicates a relationship between the two attributes and they are probably influenced by similar underlying factors.\n",
    "\n",
    "If the correlation coefficient between two variables is close to 1, it indicates a strong positive correlation, which means that an increase in one variable is associated with an increase in the other variable. On the other hand, if the correlation coefficient is close to -1, it indicates a strong negative correlation, which means that an increase in one variable is associated with a decrease in the other variable.\n",
    "\n",
    "If the correlation coefficient is close to 0, it indicates that there is no linear relationship between the two variables.\n",
    "******************"
   ]
  },
  {
   "cell_type": "markdown",
   "id": "knowing-springfield",
   "metadata": {},
   "source": [
    "<span style='color: green'>**\\[Motivate\\]**</span><br>\n",
    "D) Based on the attributes of the data in Part 2 and your answer in C), did you expect the observation of B)? <br>"
   ]
  },
  {
   "cell_type": "markdown",
   "id": "e6ef3ee4",
   "metadata": {},
   "source": [
    "*******************\n",
    "The correlation between chlorides and sulphates does make somehow make sense since they are both type of salts which probably came from a common source. Therefore when the concentration of one of these two attributes increases, the concentration of the other attribute is also likely to increase.\n",
    "\n",
    "The negative correlation between fixed acidity and pH can also make sense because these two attributes are related to the acidity of the wine. Fixed acidity refers to the amount of acid in the wine, while pH is a measure of the acidity level of the wine. Higher fixed acidity indicates more acid in the wine, which would result in a lower pH. Therefore, it is reasonable to expect that these two attributes would be negatively correlated.\n",
    "\n",
    "******************"
   ]
  },
  {
   "cell_type": "markdown",
   "id": "average-content",
   "metadata": {},
   "source": [
    "### Task 2.1.2 (1 points)\n",
    "<span style='color: green'>**\\[Motivate\\]**</span><br>\n",
    "\n",
    "Plot the correlation matrix running the code below.\n",
    "What is the relationship between the correlation matrix and the covariance matrix? (1) Check the correct box below and (2) motivate your answer.\n",
    "\n",
    "- [ ] The correlation matrix contains the unnormalized covariance values\n",
    "- [ ] The correlation matrix contains the normalized covariance values\n",
    "- [ ] The covariance matrix contains the variance of the correlation"
   ]
  },
  {
   "cell_type": "code",
   "execution_count": null,
   "id": "productive-newark",
   "metadata": {},
   "outputs": [],
   "source": [
    "sns.heatmap(wq.corr(),annot=True,linewidths=.5, cmap=\"YlGnBu\", annot_kws={\"fontsize\":8}, vmax=1)\n",
    "plt.title('Correlation')\n",
    "plt.show()"
   ]
  },
  {
   "cell_type": "markdown",
   "id": "d7102a15",
   "metadata": {},
   "source": [
    "*******************\n",
    "The correlation matrix is obtained by normalizing the covariance matrix. This normalization involves dividing each element of the covariance matrix by the product of the standard deviations of the two variables corresponding to that element. The result is a matrix of correlation coefficients, where each coefficient is between -1 and 1, representing the linear relationship between the two variables.\n",
    "\n",
    "Therefore, the correlation matrix provides a standardized way of measuring the linear relationship between variables, whereas the covariance matrix measures how much the two variables move in relation to each other. However, since the covariance value is not standardized, it can be difficult to interpret the strength of the relationship between two variables.\n",
    "\n",
    "******************"
   ]
  },
  {
   "cell_type": "markdown",
   "id": "interior-shelter",
   "metadata": {},
   "source": [
    "### Task 2.1.3 (3 points)\n",
    "\n",
    "In this task, we reason about the covariance matrices.\n",
    "\n",
    "<span style='color: green'>**\\[Implement\\]**</span> code for normalizing the features of the wine dataset using (1) standard score normalization and (2) range normalization. Finally, (3) plot the **covariance** matrices for\n",
    "1. The unnormalized data\n",
    "2. The [standard score normalized features](https://en.wikipedia.org/wiki/Standard_score)\n",
    "3. The range (min-max) normalized features"
   ]
  },
  {
   "cell_type": "code",
   "execution_count": null,
   "id": "edc9f785",
   "metadata": {},
   "outputs": [
    {
     "ename": "NameError",
     "evalue": "name 'math' is not defined",
     "output_type": "error",
     "traceback": [
      "\u001b[0;31m---------------------------------------------------------------------------\u001b[0m\n",
      "\n",
      "\u001b[0;31mNameError\u001b[0m                                 Traceback (most recent call last)\n",
      "\n",
      "\u001b[1;32m/Users/dexterlam/Desktop/Aarhus.Universitet/Kandidat/2.semester/Data mining/DM-Hand-In/handins/handin1.ipynb Cell 44\u001b[0m in \u001b[0;36m<cell line: 8>\u001b[0;34m()\u001b[0m\n",
      "\n",
      "\u001b[1;32m      <a href='vscode-notebook-cell:/Users/dexterlam/Desktop/Aarhus.Universitet/Kandidat/2.semester/Data%20mining/DM-Hand-In/handins/handin1.ipynb#X53sZmlsZQ%3D%3D?line=8'>9</a>\u001b[0m column_i \u001b[39m=\u001b[39m [row[i] \u001b[39mfor\u001b[39;00m row \u001b[39min\u001b[39;00m X]\n",
      "\n",
      "\u001b[1;32m     <a href='vscode-notebook-cell:/Users/dexterlam/Desktop/Aarhus.Universitet/Kandidat/2.semester/Data%20mining/DM-Hand-In/handins/handin1.ipynb#X53sZmlsZQ%3D%3D?line=9'>10</a>\u001b[0m mean_i \u001b[39m=\u001b[39m \u001b[39msum\u001b[39m(column_i) \u001b[39m/\u001b[39m \u001b[39mlen\u001b[39m(column_i)\n",
      "\n",
      "\u001b[0;32m---> <a href='vscode-notebook-cell:/Users/dexterlam/Desktop/Aarhus.Universitet/Kandidat/2.semester/Data%20mining/DM-Hand-In/handins/handin1.ipynb#X53sZmlsZQ%3D%3D?line=10'>11</a>\u001b[0m std_i \u001b[39m=\u001b[39m math\u001b[39m.\u001b[39msqrt(\u001b[39msum\u001b[39m([(x \u001b[39m-\u001b[39m mean_i)\u001b[39m*\u001b[39m\u001b[39m*\u001b[39m\u001b[39m2\u001b[39m \u001b[39mfor\u001b[39;00m x \u001b[39min\u001b[39;00m column_i]) \u001b[39m/\u001b[39m \u001b[39mlen\u001b[39m(column_i))\n",
      "\n",
      "\u001b[1;32m     <a href='vscode-notebook-cell:/Users/dexterlam/Desktop/Aarhus.Universitet/Kandidat/2.semester/Data%20mining/DM-Hand-In/handins/handin1.ipynb#X53sZmlsZQ%3D%3D?line=11'>12</a>\u001b[0m X_mean\u001b[39m.\u001b[39mappend(mean_i)\n",
      "\n",
      "\u001b[1;32m     <a href='vscode-notebook-cell:/Users/dexterlam/Desktop/Aarhus.Universitet/Kandidat/2.semester/Data%20mining/DM-Hand-In/handins/handin1.ipynb#X53sZmlsZQ%3D%3D?line=12'>13</a>\u001b[0m X_std\u001b[39m.\u001b[39mappend(std_i)\n",
      "\n",
      "\n",
      "\n",
      "\u001b[0;31mNameError\u001b[0m: name 'math' is not defined"
     ]
    }
   ],
   "source": [
    "# Data\n",
    "X = data_np\n",
    "\n",
    "# YOUR CODE HERE\n",
    "# Standard score normalization\n",
    "\n",
    "def standard_score(X):\n",
    "    X_mean = []\n",
    "    X_std = []\n",
    "    for i in range(len(X[0])):\n",
    "        column_i = [row[i] for row in X]\n",
    "        mean_i = sum(column_i) / len(column_i)\n",
    "        std_i = math.sqrt(sum([(x - mean_i)**2 for x in column_i]) / len(column_i))\n",
    "        X_mean.append(mean_i)\n",
    "        X_std.append(std_i)\n",
    "        for j in range(len(X)):\n",
    "            X[j][i] = (X[j][i] - mean_i) / std_i\n",
    "\n",
    "    return X\n",
    "\n",
    "\n",
    "\n",
    "\n",
    "# # Compute the correlation matrix\n",
    "#     n = len(data)\n",
    "#     means = [sum(x) / n for x in data.T]\n",
    "#     stddevs = []\n",
    "#     for i in range(len(data[0])):\n",
    "#         std = [(x[i] - means[i])**2 for x in data]\n",
    "#         stddevs.append((sum(std) / n)**0.5)\n",
    "\n",
    "\n",
    "\n",
    "#     corr = [[0 for _ in range(len(data[0]))] for _ in range(len(data[0]))]\n",
    "\n",
    "\n",
    "#     for i in range(len(data[0])):\n",
    "#         for j in range(len(data[0])):\n",
    "#             if i == j:\n",
    "#                 corr[i][j] = 1\n",
    "#             else:\n",
    "#                 cov = sum((data[k][i] - means[i]) * (data[k][j] - means[j]) for k in range(n)) /n\n",
    "#                 corr[i][j] = cov / (stddevs[i] * stddevs[j])\n",
    "    \n",
    "\n",
    "#     # YOUR CODE HERE \n",
    "#     return corr\n",
    "\n",
    "\n",
    "\n",
    "\n",
    "\n",
    "\n",
    "\n",
    "\n",
    "\n",
    "# Range normalization\n",
    "def range_normalization(X):\n",
    "    X_min = []\n",
    "    X_max = []\n",
    "    for i in range(len(X[0])):\n",
    "        column_i = [row[i] for row in X]\n",
    "        min_i = min(column_i)\n",
    "        max_i = max(column_i)\n",
    "        X_min.append(min_i)\n",
    "        X_max.append(max_i)\n",
    "        for j in range(len(X)):\n",
    "            X[j][i] = (X[j][i] - min_i) / (max_i - min_i)\n",
    "    return X\n",
    "\n",
    "\n",
    "\n",
    "\n",
    "\n",
    "\n",
    "# Covariance matrices\n",
    "def covariance_matrix(X):\n",
    "    n_features = len(X[0])\n",
    "    covariance = [[0 for _ in range(n_features)] for _ in range(n_features)]\n",
    "    for i in range(n_features):\n",
    "        for j in range(i, n_features):\n",
    "            mean_i = sum([row[i] for row in X]) / len(X)\n",
    "            mean_j = sum([row[j] for row in X]) / len(X)\n",
    "            covariance_ij = sum([(row[i] - mean_i) * (row[j] - mean_j) for row in X]) / (len(X) - 1)\n",
    "            covariance[i][j] = covariance_ij\n",
    "            covariance[j][i] = covariance_ij\n",
    "    return covariance\n",
    "\n",
    "\n",
    "covariance_unnormalized = covariance_matrix(X)\n",
    "covariance_std = covariance_matrix(X_std)\n",
    "covariance_minmax = covariance_matrix(X_minmax)\n",
    "\n",
    "\n",
    "\n",
    "# Plotting covariance matrices\n",
    "import matplotlib.pyplot as plt\n",
    "\n",
    "plt.imshow(covariance_unnormalized, cmap='hot', interpolation='nearest')\n",
    "plt.title('Unnormalized data')\n",
    "plt.show()\n",
    "\n",
    "plt.imshow(covariance_std, cmap='hot', interpolation='nearest')\n",
    "plt.title('Standard score normalized features')\n",
    "plt.show()\n",
    "\n",
    "plt.imshow(covariance_minmax, cmap='hot', interpolation='nearest')\n",
    "plt.title('Range (min-max) normalized features')\n",
    "plt.show()\n",
    "\n",
    "\n",
    "# YOUR CODE HERE"
   ]
  },
  {
   "cell_type": "markdown",
   "id": "governmental-decision",
   "metadata": {},
   "source": [
    "### Task 2.1.4 (3 points)\n",
    "<span style='color: green'>**\\[Describe\\]**</span> how the covariance matrix changes with different normalization schemes and reason on why such behaviour appears.\n",
    "You should notice some differences. (1) Check the correct box below and (2) motivate your answer.\n",
    "\n",
    "\n",
    "\n",
    "- [ ] Range normalization preserves the variance. Therefore, features are directly comparable.\n",
    "- [ ] Standard score normalization preserves the variance. Therefore, features are directly comparable.\n",
    "- [ ] Both methods normalize in such a way, that it makes sense to compare the different covariance values to each other.\n",
    "- [ ] None of the methods normalize in such a way that it makes sense to compare the different covariance values to each other.\n",
    "\n",
    "<font color='red'>IMPORTANT: Do NOT just choose one answer. Please clarify WHY this is the correct answer.</font>"
   ]
  },
  {
   "cell_type": "markdown",
   "id": "representative-adapter",
   "metadata": {},
   "source": [
    "*******************\n",
    "**YOUR ANSWER HERE**\n",
    "******************"
   ]
  },
  {
   "cell_type": "markdown",
   "id": "pleased-entry",
   "metadata": {},
   "source": [
    "## Task 2.2 Normal distribution\n",
    "### Task 2.2.1 (6 points)\n",
    "Sometimes it is convenient to know whether a variable is close to a normal distribution.\n",
    "\n",
    "<span style='color: green'>**\\[Implement\\]**</span> a method norm_dist that: <br>\n",
    "    \n",
    "1) **Inputs**: \n",
    "    * the number of buckets $b$ \n",
    "    * a vector $x$ of values \n",
    "2) First, compute the histogram of a Gaussian variable with mean $\\mu$ corresponding to the sample mean of $x$ and $\\sigma^2$ corresponding to the sample variance of $x$. Second, calculate the histogram of $x$ using $b$ buckets. \n",
    "3) **Output**: the sum of the absolute differences of the buckets between the two histograms computed in 2). The sum of the differences is computed as \n",
    "$$\\sum_{i=1}^b |H_X(i) - H_{\\mathcal{N}}(i)|$$ \n",
    "where $H_X(i)$ is the i-th bucket of the histogram of $x$ and $H_\\mathcal{N}(i)$ is the i-th bucket of the hisotgram obtained from the normal distribution $\\mathcal{N}(\\mu,\\sigma^2)$. \n",
    "\n",
    "<font color='red'>IMPORTANT: You can use the norm function from Scipy to get the normal distribution to subtract from.</font>"
   ]
  },
  {
   "cell_type": "code",
   "execution_count": null,
   "id": "willing-bobby",
   "metadata": {},
   "outputs": [],
   "source": [
    "from scipy.stats import norm\n",
    "\n",
    "## Our data comes from the variable X\n",
    "X = data_np\n",
    "def norm_dist(x, b): \n",
    "    dist = 0\n",
    "    ### YOUR CODE HERE\n",
    "\n",
    "def norm_dist(b, x):\n",
    "    # Compute sample mean and variance\n",
    "    mu = np.mean(x)\n",
    "    var = np.var(x)\n",
    "    # Compute histogram of normal distribution and sample\n",
    "    hist_norm, _ = np.histogram(norm.rvs(loc=mu, scale=np.sqrt(var), size=len(x)), bins=b)\n",
    "    hist_x, _ = np.histogram(x, bins=b)\n",
    "    # Compute absolute differences and sum them up\n",
    "    return np.sum(np.abs(hist_x - hist_norm))\n",
    "    \n",
    "    ### YOUR CODE HERE\n",
    "    return dist"
   ]
  },
  {
   "cell_type": "markdown",
   "id": "coated-mission",
   "metadata": {},
   "source": [
    "### Task 2.2.2 (6 point)\n",
    "A) <span style='color: green'>**\\[Motivate\\]**</span> which drawbacks the method in Task 2.2.1 has. "
   ]
  },
  {
   "cell_type": "markdown",
   "id": "afraid-sharp",
   "metadata": {},
   "source": [
    "*******************\n",
    "**YOUR ANSWER HERE**\n",
    "******************"
   ]
  },
  {
   "cell_type": "markdown",
   "id": "integrated-blowing",
   "metadata": {},
   "source": [
    "B) <span style='color: green'>**\\[Motivate\\]**</span> whether the method in Task 2.2.1  is robust to outliers. "
   ]
  },
  {
   "cell_type": "markdown",
   "id": "worldwide-blade",
   "metadata": {},
   "source": [
    "*******************\n",
    "**YOUR ANSWER HERE**\n",
    "******************"
   ]
  },
  {
   "cell_type": "markdown",
   "id": "quarterly-crown",
   "metadata": {},
   "source": [
    "<span style='color: green'>**\\[Implement\\]**</span><br>\n",
    "C) Run your code on each columns of the dataset. "
   ]
  },
  {
   "cell_type": "code",
   "execution_count": null,
   "id": "governing-ceramic",
   "metadata": {},
   "outputs": [],
   "source": [
    "# YOUR CODE HERE\n",
    "\n",
    "\n",
    "\n",
    "# YOUR CODE HERE"
   ]
  },
  {
   "cell_type": "markdown",
   "id": "competent-female",
   "metadata": {},
   "source": [
    "<span style='color: green'>**\\[Motivate\\]**</span><br>\n",
    "D) What is the column with the largest distance? "
   ]
  },
  {
   "cell_type": "markdown",
   "id": "useful-workplace",
   "metadata": {},
   "source": [
    "*******************\n",
    "**YOUR ANSWER HERE**\n",
    "******************"
   ]
  },
  {
   "cell_type": "markdown",
   "id": "directed-delay",
   "metadata": {},
   "source": [
    "<span style='color: green'>**\\[Motivate\\]**</span><br>\n",
    "E) Do the attribute features follow a normal distribution?"
   ]
  },
  {
   "cell_type": "markdown",
   "id": "instant-match",
   "metadata": {},
   "source": [
    "*******************\n",
    "**YOUR ANSWER HERE**\n",
    "******************"
   ]
  },
  {
   "cell_type": "markdown",
   "id": "increased-cyprus",
   "metadata": {},
   "source": [
    "### Task 2.2.3 (1 points)\n",
    "\n",
    "Now look at the method below. This is called a Quantile-Quantile [Q-Q plot](https://en.wikipedia.org/wiki/Q%E2%80%93Q_plot). \n",
    "\n",
    "<span style='color: green'>**\\[Describe\\]**</span> why this method is more robust than the one we proposed in Task 2.2.1."
   ]
  },
  {
   "cell_type": "code",
   "execution_count": null,
   "id": "environmental-battery",
   "metadata": {
    "tags": []
   },
   "outputs": [],
   "source": [
    "from scipy import stats\n",
    "from matplotlib import gridspec\n",
    "\n",
    "plt.tight_layout()\n",
    "_, n = X.shape\n",
    "\n",
    "fig = plt.figure(constrained_layout=True, figsize=(8, 30))\n",
    "spec = gridspec.GridSpec(ncols=2, nrows=(n-1), figure=fig)\n",
    "for i in np.arange(3,n): \n",
    "    x = toy[headers[i]]\n",
    "    r = i-1\n",
    "    qq = fig.add_subplot(spec[r, 1]) \n",
    "    stats.probplot(x, plot=qq)\n",
    "    h = fig.add_subplot(spec[r, 0])\n",
    "    h.set_title(headers[i])\n",
    "    h.hist(x, bins = 30)"
   ]
  },
  {
   "cell_type": "markdown",
   "id": "flush-harbor",
   "metadata": {},
   "source": [
    "*******************\n",
    "**YOUR ANSWER HERE**\n",
    "******************"
   ]
  },
  {
   "attachments": {},
   "cell_type": "markdown",
   "id": "collaborative-kinase",
   "metadata": {},
   "source": [
    "# Part 3 Cluster Analysis\n",
    "In this section, you will perform cluster analysis of the dataset in Part 2 and modify clustering algorithms to achieve better results. \n",
    "\n",
    "## Task 3.1\n",
    "\n",
    "### Task 3.1.1 (6 points)\n",
    "A)  <span style='color: green'>**\\[Implement\\]**</span> and use the elbow method plotting the **silhouette coefficient** to detect the number of clusters $k$. \n",
    "\n",
    "Use the \"sulphates\" and \"alcohol\" features of the data set. Your final plot should look like the figure below:\n",
    "\n",
    "![SNOWFALL](images/elbow.png)"
   ]
  },
  {
   "cell_type": "code",
   "execution_count": null,
   "id": "unknown-renaissance",
   "metadata": {},
   "outputs": [],
   "source": [
    "# Data\n",
    "X = toy[[\"sulphates\", \"alcohol\"]].to_numpy()\n",
    "### YOUR CODE HERE\n",
    "\n",
    "\n",
    "### YOUR CODE HERE"
   ]
  },
  {
   "cell_type": "markdown",
   "id": "passive-bubble",
   "metadata": {},
   "source": [
    "B) <span style='color: green'>**\\[Motivate\\]**</span> your choice of clusters $k$."
   ]
  },
  {
   "cell_type": "markdown",
   "id": "traditional-pharmacy",
   "metadata": {},
   "source": [
    "*******************\n",
    "**YOUR ANSWER HERE**\n",
    "******************"
   ]
  },
  {
   "cell_type": "markdown",
   "id": "illegal-mortgage",
   "metadata": {},
   "source": [
    "### Task 3.1.2 (1 points)\n",
    "\n",
    "<span style='color: green'>**\\[Implement\\]**</span><br>\n",
    "Run k-means on the dataset X, with the number of clusters detected in the previous exercise.\n",
    "\n",
    "<font color='red'>IMPORTANT: You can use the KMeans implementation from scikit-learn.</font> <br>"
   ]
  },
  {
   "cell_type": "code",
   "execution_count": null,
   "id": "approved-shoot",
   "metadata": {},
   "outputs": [],
   "source": [
    "# Data\n",
    "X = toy[[\"sulphates\", \"alcohol\"]].to_numpy()\n",
    "# Necessary Data normalization!\n",
    "X_norm = (X - X.min(0)) / X.ptp(0)\n",
    "\n",
    "\n",
    "### YOUR CODE HERE\n",
    "\n",
    "\n",
    "clusters = []\n",
    "\n",
    "plt.scatter(X_norm[:, 0], X_norm[:, 1], alpha=0.8, c=clusters)"
   ]
  },
  {
   "cell_type": "markdown",
   "id": "adequate-power",
   "metadata": {},
   "source": [
    "### Task 3.1.3 (6 points)\n",
    "<span style='color: green'>**\\[Implement\\]**</span><br> Kernel K-means and the Gaussian Kernel. \n",
    "\n",
    "The Gaussian kernel is defined as in the following equation:\n",
    "\n",
    "$$\n",
    "K\\left(\\mathbf{x}_{i}, \\mathbf{x}_{j}\\right)=\\exp \\left(-\\frac{\\left\\|\\mathbf{x}_{i}-\\mathbf{x}_{j}\\right\\|^{2}}{2 \\sigma^{2}}\\right)$$ \n"
   ]
  },
  {
   "cell_type": "code",
   "execution_count": null,
   "id": "previous-glasgow",
   "metadata": {},
   "outputs": [],
   "source": [
    "### YOUR CODE HERE\n",
    "X = toy[[\"sulphates\", \"alcohol\"]].to_numpy()\n",
    "\n",
    "# Necessary Data normalization!\n",
    "X_norm = (X - X.min(0)) / X.ptp(0)\n",
    "\n",
    "def gaussian_kernel(x, y, sigma=0.8): \n",
    "    k = 0 \n",
    "    ### YOUR CODE HERE\n",
    "\n",
    "\n",
    "    ### YOUR CODE HERE\n",
    "    return k\n",
    "\n",
    "\n",
    "def kernel_kmeans(X, n_clusters, kernel=gaussian_kernel, iters=100, error=.01): \n",
    "    ### YOUR CODE HERE\n",
    "\n",
    "\n",
    "    ### YOUR CODE HERE\n",
    "    return clusters\n",
    "\n",
    "\n",
    "clusters = kernel_kmeans(X_norm, NUMBER_OF_CLUSTERS)\n",
    "\n",
    "scaler = StandardScaler().fit(X_norm)\n",
    "X_scaled = scaler.transform(X_norm)\n",
    "clusters = kernel_kmeans(X_scaled, SOME_AMOUNT_OF_CLUSTERS)\n",
    "\n",
    "plt.scatter(X_scaled[:, 0], X_scaled[:, 1], alpha=0.8, c=clusters)"
   ]
  },
  {
   "attachments": {},
   "cell_type": "markdown",
   "id": "transparent-junction",
   "metadata": {},
   "source": [
    "\n",
    "## Task 3.2 Clustering quality\n",
    "\n",
    "### Task 3.2.1 (6 points)\n",
    "<span style='color: green'>**\\[Implement\\]**</span> **Conditional Entropy (CE)** as a measure for clustering quality.\n",
    "\n",
    "Entropy for a clustering is $H(C) = - \\sum_{i=1}^{k}{p_{C_i} \\log {p_{C_i}}}$.\n",
    "\n",
    "The **Conditional Entropy** of $C$ **given** $T$ is given by: \n",
    "$$\\text{CE}(C|T)=-\\sum\\limits^{|C|}_{i=1}\\sum\\limits^{|T|}_{j=1}\\frac{n_{ij}}{n_i}\\log\\frac{n_{ij}}{n_i}$$\n",
    "where $n_{i}$ is the total number of points in cluster $C_i$ and $n_{ij}$ is the number of common points between clusters $C_i$ and $T_j$\n",
    "\n",
    "\n",
    "**Hint**: First implement **Entropy** and then **Conditional Entropy**."
   ]
  },
  {
   "cell_type": "code",
   "execution_count": null,
   "id": "opposed-research",
   "metadata": {},
   "outputs": [],
   "source": [
    "def entropy(C):\n",
    "    # Let C be a list of clusters\n",
    "    entropy = 0\n",
    "    ### YOUR CODE HERE\n",
    "    \n",
    "    \n",
    "    ### YOUR CODE HERE\n",
    "    return entropy\n",
    "\n",
    "\n",
    "def CE(C1, C2):\n",
    "    ce = 0\n",
    "    ### YOUR CODE HERE\n",
    "    \n",
    "    \n",
    "    ### YOUR CODE HERE\n",
    "    return ce\n",
    "\n",
    "    \n",
    "\n",
    "X = toy[[\"sulphates\", \"alcohol\"]].to_numpy()\n",
    "\n",
    "# Necessary Data normalization!\n",
    "X_norm = (X - X.min(0)) / X.ptp(0)"
   ]
  },
  {
   "cell_type": "markdown",
   "id": "sized-opportunity",
   "metadata": {},
   "source": [
    "### Task 3.2.2 (3 points)\n",
    "<span style='color: green'>**\\[Implement\\]**</span>\n",
    "Plot the Conditional Entropy (implementation from the Task 3.2.1) among the class labels $y$ and the clusters you found with k-means in Task 3.1.1. \n",
    "Make sure that the number of clusters and the number of class labels is the same.<br>"
   ]
  },
  {
   "cell_type": "code",
   "execution_count": null,
   "id": "c8f54924",
   "metadata": {},
   "outputs": [],
   "source": []
  },
  {
   "cell_type": "code",
   "execution_count": null,
   "id": "criminal-pitch",
   "metadata": {
    "pycharm": {
     "name": "#%%\n"
    }
   },
   "outputs": [],
   "source": [
    "###YOUR CODE HERE\n",
    "\n",
    "\n",
    "###YOUR CODE HERE\n",
    "class_labels = np.array(toy[\"quality\"])\n",
    "class_labels = [1 if x == 8 else 0 for x in class_labels]"
   ]
  },
  {
   "cell_type": "markdown",
   "id": "facial-soundtrack",
   "metadata": {},
   "source": [
    "<span style='color: green'>**\\[Motivate\\]**</span><br>\n",
    "A) Reason about the measure, is the measure influenced by the size of the clusters?  "
   ]
  },
  {
   "cell_type": "markdown",
   "id": "southern-convert",
   "metadata": {},
   "source": [
    "******************* \n",
    "**YOUR ANSWER HERE**\n",
    "******************"
   ]
  },
  {
   "cell_type": "markdown",
   "id": "informational-police",
   "metadata": {},
   "source": [
    "<span style='color: green'>**\\[Describe\\]**</span><br>\n",
    "B) What does the measure capture? "
   ]
  },
  {
   "cell_type": "markdown",
   "id": "understanding-settle",
   "metadata": {},
   "source": [
    "*******************\n",
    "**YOUR ANSWER HERE**\n",
    "******************"
   ]
  },
  {
   "cell_type": "markdown",
   "id": "delayed-subject",
   "metadata": {
    "pycharm": {
     "name": "#%% md\n"
    }
   },
   "source": [
    "### Task 3.2.3 (4 points)\n",
    "<span style='color: green'>**\\[Implement\\]**</span><br>\n",
    "Provide an implementation of purity. Recall that purity is the weighted sum of the individual $purity_i = \\frac{1}{|C_i|} \\max_{j=1..k}\\{n_{ij}\\}$ values where $n_{ij}$ is the number of common points in cluster $C_i$\n",
    "and ground-truth cluster $j$ obtained from the labels $y$."
   ]
  },
  {
   "cell_type": "code",
   "execution_count": null,
   "id": "surrounded-consciousness",
   "metadata": {},
   "outputs": [],
   "source": [
    "### YOUR CODE HERE\n",
    "T = np.array([]) # Ground-truth clusters\n",
    "C = np.array([]) # Clusters obtained by k-means\n",
    "### YOUR CODE HERE\n",
    "\n",
    "## C is the clustering from k-means and T is the ground truth cluster assignments.\n",
    "def purity(C, T):\n",
    "    purity = 0\n",
    "    ### YOUR CODE HERE\n",
    "\n",
    "\n",
    "    ### YOUR CODE HERE\n",
    "    return purity\n",
    "\n",
    "print('Purity: {}, CE: {}'.format(purity(C,T), CE(C,T)))"
   ]
  },
  {
   "cell_type": "markdown",
   "id": "phantom-reform",
   "metadata": {
    "pycharm": {
     "name": "#%% md\n"
    }
   },
   "source": [
    "### Task 3.2.4 (2 points)\n",
    "A) <span style='color: green'>**\\[Implement\\]**</span><br>\n",
    "\n",
    "Plot the purity of the clusters obtained by k-means in Task 3.1.1. \n"
   ]
  },
  {
   "cell_type": "code",
   "execution_count": null,
   "id": "civilian-details",
   "metadata": {},
   "outputs": [],
   "source": [
    "### YOUR CODE HERE\n",
    "\n",
    "\n",
    "### YOUR CODE HERE"
   ]
  },
  {
   "cell_type": "markdown",
   "id": "modified-sector",
   "metadata": {},
   "source": [
    "B) <span style='color: green'>**\\[Motivate\\]**</span><br>\n",
    "\n",
    "Compare purity with **Conditional Entropy (CE)**. Which measure is preferable? (1) Check the correct box below and (2) motivate your answer.\n",
    "\n",
    "- [ ] **CE** is preferable because it uses all the points\n",
    "- [ ] Purity is preferable because it is less computational demanding\n",
    "- [ ] **CE** is preferrable because it does not favor small clusters\n",
    "- [ ] Purity is preferrable because it tends to favor balanced clusters."
   ]
  },
  {
   "cell_type": "markdown",
   "id": "accepted-influence",
   "metadata": {},
   "source": [
    "*******************\n",
    "**YOUR ANSWER HERE**\n",
    "******************"
   ]
  },
  {
   "attachments": {},
   "cell_type": "markdown",
   "id": "generic-state",
   "metadata": {},
   "source": [
    "### Task 3.3 OPTICS\n",
    "\n",
    "### Task 3.3.1 (7 point)\n",
    "<span style='color: green'>**\\[Implement\\]**</span> the OPTICS algorithm\n",
    "\n",
    "If you do not remember [OPTICS](https://en.wikipedia.org/wiki/OPTICS_algorithm), check the slides or the lecture notes. "
   ]
  },
  {
   "cell_type": "code",
   "execution_count": null,
   "id": "sensitive-weekly",
   "metadata": {},
   "outputs": [],
   "source": [
    "def rdist(x,y,eps,min_samples):\n",
    "    ### YOUR CODE HERE\n",
    "\n",
    "\n",
    "    ### YOUR CODE HERE\n",
    "    return rdis\n",
    "\n",
    "def kernel_kmeans(X, eps, min_samples): \n",
    "    ### YOUR CODE HERE\n",
    "\n",
    "\n",
    "    ### YOUR CODE HERE\n",
    "    return clusters"
   ]
  },
  {
   "cell_type": "markdown",
   "id": "political-wireless",
   "metadata": {},
   "source": [
    "### Task 3.3.2 (1 points)\n",
    "\n",
    "<span style='color: green'>**\\[Implement\\]**</span><br>\n",
    "A) Run OPTICS with parameters $\\varepsilon=0.07, minPts=3$. <br> "
   ]
  },
  {
   "cell_type": "code",
   "execution_count": null,
   "id": "japanese-topic",
   "metadata": {},
   "outputs": [],
   "source": [
    "### YOUR CODE HERE\n",
    "\n",
    "\n",
    "### YOUR CODE HERE"
   ]
  },
  {
   "cell_type": "markdown",
   "id": "imposed-forge",
   "metadata": {},
   "source": [
    "B) <span style='color: green'>**\\[Motivate\\]**</span><br>\n",
    "\n",
    "Compare the results of OPTICS with those of k-means. Which of the two methods two achieve a better **CE**? "
   ]
  },
  {
   "cell_type": "markdown",
   "id": "decimal-candle",
   "metadata": {},
   "source": [
    "*******************\n",
    "**YOUR ANSWER HERE**\n",
    "******************"
   ]
  },
  {
   "attachments": {},
   "cell_type": "markdown",
   "id": "prostate-residence",
   "metadata": {},
   "source": [
    "### Task 3.3.3 (6 points)\n",
    "<span style='color: green'>**\\[Implement\\]**</span> a simple subspace clustering algorithm.\n",
    "1. Take all subsets of 2,3 attributes. Beware that you should only use the numerical attributes.\n",
    "2. Run OPTICS on each subset. \n",
    "3. Compute **CE** for each subset. \n",
    "4. Keep the k subsets with the largest **CE**. \n",
    "    \n",
    "<font color='red'>IMPORTANT: You may have to experiment a lot with eps and MinPts to get reasonable clusters. You are allowed to use **itertools** library to iterate over all subsets of size 2 and 3.</font>"
   ]
  },
  {
   "cell_type": "code",
   "execution_count": null,
   "id": "absent-anderson",
   "metadata": {},
   "outputs": [],
   "source": [
    "# Necessary Data normalization!\n",
    "X_pt = toy.to_numpy()\n",
    "X_norm_pt = (X_pt - X_pt.min(0)) / X_pt.ptp(0) \n",
    "\n",
    "### YOUR CODE HERE\n",
    "\n",
    "\n",
    "\n",
    "\n",
    "### YOUR CODE HERE"
   ]
  },
  {
   "cell_type": "markdown",
   "id": "published-culture",
   "metadata": {},
   "source": [
    "# Part 4 Outlier detection\n",
    "In this exercise we will work with outlier detection techniques and analyze their performance on the small dataset. Before starting the exercise, run the code below. \n"
   ]
  },
  {
   "cell_type": "code",
   "execution_count": null,
   "id": "explicit-isolation",
   "metadata": {},
   "outputs": [],
   "source": [
    "X_small = toy[[\"sulphates\", \"alcohol\"]].to_numpy()\n",
    "\n",
    "X_norm = (X_small - X_small.min(0)) / X_small.ptp(0)"
   ]
  },
  {
   "cell_type": "markdown",
   "id": "royal-mumbai",
   "metadata": {},
   "source": [
    "## Task 4.1 (DBoutliers)\n",
    "We will now compare two outlier detection techniques.\n",
    "### Task 4.1.1 (6 points)\n",
    "<span style='color: green'>**\\[Implement\\]**</span> a simple distance-based outlier detector. This is the distance-based outlier detection from the lectures, where a point is considered an outlier if at most a fraction $pi$ of the other points have a distance less of than $eps$ to it."
   ]
  },
  {
   "cell_type": "code",
   "execution_count": null,
   "id": "grave-ownership",
   "metadata": {},
   "outputs": [],
   "source": [
    "def DBOutliers(X, eps, pi): \n",
    "    outliers = None\n",
    "    ### YOUR STARTS CODE HERE\n",
    "    \n",
    "    \n",
    "    ### YOUR CODE ENDS HERE\n",
    "    return outliers"
   ]
  },
  {
   "cell_type": "markdown",
   "id": "relative-somewhere",
   "metadata": {},
   "source": [
    "### Task 4.1.2 (2 points)\n",
    "A) <span style='color: green'>**\\[Implement\\]**</span>\n",
    "DBOutliers requires tuning the parameters eps, pi. Run the code from Task 4.1.1 with different choices of eps, pi \n",
    "\n",
    "**Note** that the data is normalized. Choose two ranges with **at least** 4 values each.  "
   ]
  },
  {
   "cell_type": "code",
   "execution_count": null,
   "id": "hollywood-permission",
   "metadata": {},
   "outputs": [],
   "source": [
    "### YOUR CODE HERE\n",
    "\n",
    "### YOUR CODE HERE"
   ]
  },
  {
   "cell_type": "markdown",
   "id": "developmental-simulation",
   "metadata": {},
   "source": [
    "B) <span style='color: green'>**\\[Motivate\\]**</span><br>\n",
    "\n",
    "**Present** the results  and **discuss** how the results vary with respect to (1) eps and (2) pi."
   ]
  },
  {
   "cell_type": "markdown",
   "id": "satellite-stanford",
   "metadata": {},
   "source": [
    "*******************\n",
    "**YOUR ANSWER HERE**\n",
    "******************"
   ]
  },
  {
   "cell_type": "markdown",
   "id": "spoken-reset",
   "metadata": {},
   "source": [
    "### Task 4.1.3 (3 points)\n",
    "**NOTE** This is hard but also fun. Since it is not impacting the grade too much, you can choose to invent something new.\n",
    "\n",
    "A) Propose and <span style='color: green'>**\\[Implement\\]**</span> a heuristic method to tune parameters eps, pi. "
   ]
  },
  {
   "cell_type": "code",
   "execution_count": null,
   "id": "express-racing",
   "metadata": {},
   "outputs": [],
   "source": [
    "def tune_dboutliers(X): \n",
    "    eps = 0\n",
    "    pi = 0\n",
    "    ### YOUR STARTS CODE HERE\n",
    "    \n",
    "    \n",
    "    ### YOUR ENDS CODE HERE\n",
    "    return eps, pi"
   ]
  },
  {
   "cell_type": "markdown",
   "id": "vulnerable-threshold",
   "metadata": {},
   "source": [
    "B) <span style='color: green'>**\\[Describe\\]**</span> your algorithm, its main idea, its strengths and its weaknesses"
   ]
  },
  {
   "cell_type": "markdown",
   "id": "laden-progressive",
   "metadata": {},
   "source": [
    "*******************\n",
    "**YOUR ANSWER HERE**\n",
    "******************"
   ]
  },
  {
   "cell_type": "markdown",
   "id": "derived-hanging",
   "metadata": {},
   "source": [
    "## Task 4.2 LOF (2 points)\n",
    "<span style='color: green'>**\\[Describe\\]**</span><br>\n",
    "Using the parameters eps=0.18, pi=0.2 compare the results of DBOutliers with those obtained by LOF implemented in Week 9. What outliers do you find?"
   ]
  },
  {
   "cell_type": "code",
   "execution_count": null,
   "id": "electric-blackjack",
   "metadata": {},
   "outputs": [],
   "source": [
    "### YOUR CODE HERE"
   ]
  },
  {
   "cell_type": "markdown",
   "id": "bigger-faith",
   "metadata": {},
   "source": [
    "*******************\n",
    "**YOUR ANSWER HERE**\n",
    "******************"
   ]
  }
 ],
 "metadata": {
  "kernelspec": {
   "display_name": "base",
   "language": "python",
   "name": "python3"
  },
  "language_info": {
   "codemirror_mode": {
    "name": "ipython",
    "version": 3
   },
   "file_extension": ".py",
   "mimetype": "text/x-python",
   "name": "python",
   "nbconvert_exporter": "python",
   "pygments_lexer": "ipython3",
   "version": "3.9.7"
  },
  "vscode": {
   "interpreter": {
    "hash": "53c6573ba7f8a6e74d7db32f283b0f03dcf3bca683092fd2896b4584a137221f"
   }
  }
 },
 "nbformat": 4,
 "nbformat_minor": 5
}
